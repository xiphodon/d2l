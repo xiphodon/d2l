{
 "cells": [
  {
   "cell_type": "code",
   "execution_count": 1,
   "id": "db5e9427-a102-4883-9f27-352b2fb928bd",
   "metadata": {},
   "outputs": [],
   "source": [
    "%matplotlib inline\n",
    "import torch\n",
    "from torch import nn\n",
    "from torch.nn import functional as F\n",
    "from PIL import Image\n",
    "import matplotlib.pyplot as plt\n",
    "from pathlib import Path\n",
    "import utils\n",
    "import torchvision\n",
    "from torchvision.io import image\n",
    "from torchvision.transforms.functional import to_pil_image\n",
    "import pandas as pd\n",
    "import time\n",
    "import numpy as np\n",
    "import collections\n",
    "import re\n",
    "import random\n",
    "import math"
   ]
  },
  {
   "cell_type": "code",
   "execution_count": 2,
   "id": "b22a7cef-3eb2-4dcc-aab5-f518072db462",
   "metadata": {},
   "outputs": [],
   "source": [
    "# 带蒙版的softmax操作\n",
    "def masked_softmax(X, valid_lens):\n",
    "    \"\"\"通过在最后一个轴上掩蔽元素来执行softmax操作\"\"\"\n",
    "    # X:3D张量，valid_lens:1D或2D张量\n",
    "    if valid_lens is None:\n",
    "        return nn.functional.softmax(X, dim=-1)\n",
    "    else:\n",
    "        shape = X.shape\n",
    "        if valid_lens.dim() == 1:\n",
    "            valid_lens = torch.repeat_interleave(valid_lens, shape[1])\n",
    "        else:\n",
    "            valid_lens = valid_lens.reshape(-1)\n",
    "        # 最后一轴上被掩蔽的元素使用一个非常大的负值替换，从而其softmax输出为0\n",
    "        X = utils.sequence_mask(X.reshape(-1, shape[-1]), valid_lens, value=-1e6)\n",
    "        return nn.functional.softmax(X.reshape(shape), dim=-1)"
   ]
  },
  {
   "cell_type": "code",
   "execution_count": 3,
   "id": "20f64c5c-be38-4b4e-9d03-4c7a2402b5a5",
   "metadata": {},
   "outputs": [],
   "source": [
    "x = torch.rand(2, 2, 4)"
   ]
  },
  {
   "cell_type": "code",
   "execution_count": 4,
   "id": "79b0198a-8233-4cd9-b341-7259c893f45f",
   "metadata": {},
   "outputs": [
    {
     "data": {
      "text/plain": [
       "tensor([[[0.5466, 0.4534, 0.0000, 0.0000],\n",
       "         [0.6793, 0.3207, 0.0000, 0.0000]],\n",
       "\n",
       "        [[0.2233, 0.2385, 0.5381, 0.0000],\n",
       "         [0.4040, 0.3137, 0.2823, 0.0000]]])"
      ]
     },
     "execution_count": 4,
     "metadata": {},
     "output_type": "execute_result"
    }
   ],
   "source": [
    "masked_softmax(x, torch.tensor([2, 3]))"
   ]
  },
  {
   "cell_type": "code",
   "execution_count": 5,
   "id": "68b61271-1873-4624-ad37-6671197fd5c3",
   "metadata": {},
   "outputs": [
    {
     "data": {
      "text/plain": [
       "tensor([[[0.5466, 0.4534, 0.0000, 0.0000],\n",
       "         [0.6793, 0.3207, 0.0000, 0.0000]],\n",
       "\n",
       "        [[0.2233, 0.2385, 0.5381, 0.0000],\n",
       "         [0.4040, 0.3137, 0.2823, 0.0000]]])"
      ]
     },
     "execution_count": 5,
     "metadata": {},
     "output_type": "execute_result"
    }
   ],
   "source": [
    "masked_softmax(x, torch.tensor([[2, 2], [3, 3]]))"
   ]
  },
  {
   "cell_type": "code",
   "execution_count": 6,
   "id": "a84a3b91-a604-4ed7-a3f8-ac1d887c4ab5",
   "metadata": {},
   "outputs": [
    {
     "data": {
      "text/plain": [
       "tensor([[[1.0000, 0.0000, 0.0000, 0.0000],\n",
       "         [0.2698, 0.2887, 0.4415, 0.0000]],\n",
       "\n",
       "        [[0.4371, 0.5629, 0.0000, 0.0000],\n",
       "         [0.3227, 0.2302, 0.2271, 0.2200]]])"
      ]
     },
     "execution_count": 6,
     "metadata": {},
     "output_type": "execute_result"
    }
   ],
   "source": [
    "masked_softmax(torch.rand(2, 2, 4), torch.tensor([[1, 3], [2, 4]]))"
   ]
  },
  {
   "cell_type": "markdown",
   "id": "0c1dd6d6-9c1d-4e5d-b7c4-4a669191cf8b",
   "metadata": {},
   "source": [
    "# 加性注意力"
   ]
  },
  {
   "cell_type": "code",
   "execution_count": 7,
   "id": "7697b19b-0071-4671-af70-95d407882f27",
   "metadata": {},
   "outputs": [],
   "source": [
    "# 由于key/value/query的shape可能不一样，可以增加权重将其统一维度\n",
    "# a(q, k) = W_v.T * tanh(W_q * q + W_k * k), a(q, k)每一个值为标量\n",
    "# W_v shape:(h,), W_q shape(h, q), W_k shape(h, k), 将维度统一到h维"
   ]
  },
  {
   "cell_type": "code",
   "execution_count": 8,
   "id": "3d70e740-524e-4ce9-9442-69d09d5db754",
   "metadata": {},
   "outputs": [],
   "source": [
    "class AdditiveAttention(nn.Module):\n",
    "    \"\"\"加性注意力\"\"\"\n",
    "    def __init__(self, key_size, query_size, num_hiddens, dropout, **kwargs):\n",
    "        super(AdditiveAttention, self).__init__(**kwargs)\n",
    "        self.W_k = nn.Linear(key_size, num_hiddens, bias=False)\n",
    "        self.W_q = nn.Linear(query_size, num_hiddens, bias=False)\n",
    "        self.w_v = nn.Linear(num_hiddens, 1, bias=False)\n",
    "        self.dropout = nn.Dropout(dropout)\n",
    "\n",
    "    def forward(self, queries, keys, values, valid_lens):\n",
    "        print(f'[params] queries shape: {queries.shape}, keys shape: {keys.shape}, values shape: {values.shape}')\n",
    "        # forward其中查询、键和值的形状为（批量大小，步数或词元序列长度，特征大小）\n",
    "        queries, keys = self.W_q(queries), self.W_k(keys)\n",
    "        print(f'[params * W] queries shape: {queries.shape}, keys shape: {keys.shape}, values shape: {values.shape}')\n",
    "        # queries形状：(batch_size，queries步数或词元序列长度_查询的个数，num_hidden)\n",
    "        # keys：(batch_size，keys步数或词元序列长度_“键－值”对的个数，num_hidden)\n",
    "        # 在维度扩展后，\n",
    "        # queries的形状：(batch_size，查询的个数，1，num_hidden)\n",
    "        # key的形状：(batch_size，1，“键－值”对的个数，num_hiddens)\n",
    "        # 使用广播方式进行求和后，形状：(batch_size，查询的个数，“键－值”对的个数，num_hiddens)\n",
    "        features = queries.unsqueeze(2) + keys.unsqueeze(1)\n",
    "        print(f'[q k dim cat] features shape: {features.shape}')\n",
    "        # tanh 激活放缩数值，不影响形状\n",
    "        features = torch.tanh(features)\n",
    "        print(f'[tanh] features shape: {features.shape}')\n",
    "        # scores操作逻辑理解意义，scores操作前，batch_size单独看，每批是 (查询的个数, “键-值”对的个数, num_hiddens), \n",
    "        # 即每个 查询和键 由num_hiddens个元素表示，w_v形状为(num_hiddens, 1), \n",
    "        # scores操作 features * w_v 相当于将每个 查询和键 由num_hiddens个元素变为1个元素表示，\n",
    "        # 所以scores后的形状：(batch_size，查询的个数，“键-值”对的个数, 1)，self.w_v后仅有一个输出，因此从形状中移除最后那个维度。\n",
    "        # scores形状：(batch_size，查询的个数，“键-值”对的个数)\n",
    "        scores = self.w_v(features).squeeze(-1)\n",
    "        print(f'[features * W] scores shape: {scores.shape}')\n",
    "        # masked_softmax 只改数值，将有效长度外的权重降到0，不影响形状\n",
    "        self.attention_weights = masked_softmax(scores, valid_lens)\n",
    "        print(f'[masked_softmax scores] attention_weights shape: {self.attention_weights.shape}')\n",
    "        # values的形状：(batch_size，“键－值”对的个数，值的维度)\n",
    "        # 输出形状（批量大小，查询的步数，值的维度）\n",
    "        result = torch.bmm(self.dropout(self.attention_weights), values)\n",
    "        print(f'[bmm attention_weights values] result shape: {result.shape}')\n",
    "        return result"
   ]
  },
  {
   "cell_type": "code",
   "execution_count": 9,
   "id": "afc77935-5a03-494e-baba-04656e24f206",
   "metadata": {},
   "outputs": [
    {
     "name": "stdout",
     "output_type": "stream",
     "text": [
      "[params] queries shape: torch.Size([2, 1, 20]), keys shape: torch.Size([2, 10, 2]), values shape: torch.Size([2, 10, 4])\n",
      "[params * W] queries shape: torch.Size([2, 1, 8]), keys shape: torch.Size([2, 10, 8]), values shape: torch.Size([2, 10, 4])\n",
      "[q k dim cat] features shape: torch.Size([2, 1, 10, 8])\n",
      "[tanh] features shape: torch.Size([2, 1, 10, 8])\n",
      "[features * W] scores shape: torch.Size([2, 1, 10])\n",
      "[masked_softmax scores] attention_weights shape: torch.Size([2, 1, 10])\n",
      "[bmm attention_weights values] result shape: torch.Size([2, 1, 4])\n"
     ]
    },
    {
     "data": {
      "text/plain": [
       "tensor([[[ 2.0000,  3.0000,  4.0000,  5.0000]],\n",
       "\n",
       "        [[10.0000, 11.0000, 12.0000, 13.0000]]], grad_fn=<BmmBackward0>)"
      ]
     },
     "execution_count": 9,
     "metadata": {},
     "output_type": "execute_result"
    }
   ],
   "source": [
    "queries, keys = torch.normal(0, 1, (2, 1, 20)), torch.ones((2, 10, 2))\n",
    "# values的小批量，两个值矩阵是相同的\n",
    "values = torch.arange(40, dtype=torch.float32).reshape(1, 10, 4).repeat(2, 1, 1)\n",
    "valid_lens = torch.tensor([2, 6])\n",
    "\n",
    "attention = AdditiveAttention(key_size=2, query_size=20, num_hiddens=8, dropout=0.1)\n",
    "attention.eval()\n",
    "attention(queries, keys, values, valid_lens)"
   ]
  },
  {
   "cell_type": "code",
   "execution_count": 12,
   "id": "5bd7eec4-d66e-43c5-9902-f66ec0b1c87c",
   "metadata": {},
   "outputs": [
    {
     "data": {
      "image/png": "[encoded data removed]",
      "text/plain": [
       "<Figure size 720x720 with 3 Axes>"
      ]
     },
     "metadata": {
      "needs_background": "light"
     },
     "output_type": "display_data"
    }
   ],
   "source": [
    "# 2个batch, 每个都是1个query对应10个keys，查看query和key的对应注意力评分\n",
    "utils.show_heatmaps(attention.attention_weights.reshape((1, 2, 1, 10)), xlabel='Keys', ylabel='Queries', figsize=(10, 10), shrink=0.6)"
   ]
  },
  {
   "cell_type": "markdown",
   "id": "1f3acf6f-61c0-4634-a479-334bb9148053",
   "metadata": {},
   "source": [
    "# 缩放点积注意力"
   ]
  },
  {
   "cell_type": "code",
   "execution_count": 13,
   "id": "11a5d694-dd84-49e2-9008-239e28bc8e21",
   "metadata": {},
   "outputs": [],
   "source": [
    "# 使用点积可以得到计算效率更高的评分函数， 但是点积操作要求查询和键具有相同的长度\n",
    "\n",
    "class DotProductAttention(nn.Module):\n",
    "    \"\"\"缩放点积注意力\"\"\"\n",
    "    def __init__(self, dropout, **kwargs):\n",
    "        super(DotProductAttention, self).__init__(**kwargs)\n",
    "        self.dropout = nn.Dropout(dropout)\n",
    "\n",
    "    # queries的形状：(batch_size，查询的个数，d)\n",
    "    # keys的形状：(batch_size，“键－值”对的个数，d)\n",
    "    # values的形状：(batch_size，“键－值”对的个数，值的维度)\n",
    "    # valid_lens的形状:(batch_size，)或者(batch_size，查询的个数)\n",
    "    def forward(self, queries, keys, values, valid_lens=None):\n",
    "        d = queries.shape[-1]\n",
    "        # 设置transpose_b=True为了交换keys的最后两个维度\n",
    "        # scores 形状：(batch_size，查询的个数，“键－值”对的个数)\n",
    "        scores = torch.bmm(queries, keys.transpose(1,2)) / math.sqrt(d)\n",
    "        self.attention_weights = masked_softmax(scores, valid_lens)\n",
    "        return torch.bmm(self.dropout(self.attention_weights), values)"
   ]
  },
  {
   "cell_type": "code",
   "execution_count": 14,
   "id": "e26e090a-d48d-4fdf-b969-ce8604c2b90b",
   "metadata": {},
   "outputs": [
    {
     "data": {
      "text/plain": [
       "tensor([[[ 2.0000,  3.0000,  4.0000,  5.0000]],\n",
       "\n",
       "        [[10.0000, 11.0000, 12.0000, 13.0000]]])"
      ]
     },
     "execution_count": 14,
     "metadata": {},
     "output_type": "execute_result"
    }
   ],
   "source": [
    "queries = torch.normal(0, 1, (2, 1, 2))\n",
    "attention = DotProductAttention(dropout=0.5)\n",
    "attention.eval()\n",
    "attention(queries, keys, values, valid_lens)"
   ]
  },
  {
   "cell_type": "code",
   "execution_count": 15,
   "id": "bbbad8bc-caa2-4c9b-9b56-1dd5441b7a3b",
   "metadata": {},
   "outputs": [
    {
     "data": {
      "image/png": "[encoded data removed]",
      "text/plain": [
       "<Figure size 720x720 with 3 Axes>"
      ]
     },
     "metadata": {
      "needs_background": "light"
     },
     "output_type": "display_data"
    }
   ],
   "source": [
    "utils.show_heatmaps(attention.attention_weights.reshape((1, 2, 1, 10)), xlabel='Keys', ylabel='Queries', figsize=(10, 10), shrink=0.6)"
   ]
  },
  {
   "cell_type": "code",
   "execution_count": null,
   "id": "709ec29e-66dd-4505-89e8-e3beaa75fe43",
   "metadata": {},
   "outputs": [],
   "source": []
  }
 ],
 "metadata": {
  "kernelspec": {
   "display_name": "Python 3 (ipykernel)",
   "language": "python",
   "name": "python3"
  },
  "language_info": {
   "codemirror_mode": {
    "name": "ipython",
    "version": 3
   },
   "file_extension": ".py",
   "mimetype": "text/x-python",
   "name": "python",
   "nbconvert_exporter": "python",
   "pygments_lexer": "ipython3",
   "version": "3.9.4"
  }
 },
 "nbformat": 4,
 "nbformat_minor": 5
}
