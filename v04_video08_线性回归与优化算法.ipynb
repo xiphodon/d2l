{
 "cells": [
  {
   "cell_type": "code",
   "execution_count": 2,
   "id": "33a02b54-696f-4a1f-b019-539688fd4214",
   "metadata": {},
   "outputs": [],
   "source": [
    "%matplotlib inline\n",
    "import torch\n",
    "import random\n",
    "from matplotlib import pyplot as plt\n",
    "from d2l import torch as d2l"
   ]
  },
  {
   "cell_type": "code",
   "execution_count": 3,
   "id": "2b03a5e8-8dc0-4910-9128-a61539b9850e",
   "metadata": {},
   "outputs": [],
   "source": [
    "# 构造数据集\n",
    "def synthetic_data(w, b, num_examples):\n",
    "    \"\"\"\n",
    "        生成数据，y = Xw + b + 噪声\n",
    "    \"\"\"\n",
    "    X = torch.normal(0, 1, (num_examples, len(w)))\n",
    "    y = torch.matmul(X, w) + b\n",
    "    y += torch.normal(0, 0.01, y.shape)\n",
    "    return X, y.reshape((-1, 1))\n",
    "\n",
    "true_w = torch.tensor([2, -3.4])\n",
    "true_b = 4.2\n",
    "features, labels = synthetic_data(true_w, true_b, 1000)"
   ]
  },
  {
   "cell_type": "code",
   "execution_count": 4,
   "id": "8df663ff-e85c-4d59-8312-90f7b90f0a40",
   "metadata": {},
   "outputs": [
    {
     "name": "stdout",
     "output_type": "stream",
     "text": [
      "features: tensor([-0.1073, -2.4501]), label:tensor([12.3170])\n"
     ]
    }
   ],
   "source": [
    "print(f'features: {features[0]}, label:{labels[0]}')"
   ]
  },
  {
   "cell_type": "code",
   "execution_count": 11,
   "id": "42b2e42e-56e9-4446-807d-90fbbf93758c",
   "metadata": {},
   "outputs": [
    {
     "data": {
      "text/plain": [
       "<matplotlib.collections.PathCollection at 0x28011747520>"
      ]
     },
     "execution_count": 11,
     "metadata": {},
     "output_type": "execute_result"
    },
    {
     "data": {
      "image/png": "[encoded data removed]",
      "text/plain": [
       "<Figure size 432x288 with 1 Axes>"
      ]
     },
     "metadata": {
      "needs_background": "light"
     },
     "output_type": "display_data"
    }
   ],
   "source": [
    "plt.scatter(features[:, 1].detach().numpy(), labels.detach().numpy(), 1)\n",
    "# detach剥离数据，不包含梯度\n",
    "# 绘制一个特征与标签的图"
   ]
  },
  {
   "cell_type": "code",
   "execution_count": 13,
   "id": "4281a526-1986-4df7-962d-0fbd4ae59c23",
   "metadata": {},
   "outputs": [
    {
     "name": "stdout",
     "output_type": "stream",
     "text": [
      "tensor([[ 1.8959, -0.9541],\n",
      "        [-1.6748,  0.4073],\n",
      "        [-1.4407, -0.7680],\n",
      "        [ 0.1107, -0.7003],\n",
      "        [-0.1915, -1.2955],\n",
      "        [ 0.2483, -0.7130],\n",
      "        [-0.5619,  0.5167],\n",
      "        [-0.5337, -1.3543],\n",
      "        [-0.5479, -0.6634],\n",
      "        [ 0.0487, -0.1776]])\n",
      "tensor([[11.2342],\n",
      "        [-0.5400],\n",
      "        [ 3.9309],\n",
      "        [ 6.8003],\n",
      "        [ 8.2162],\n",
      "        [ 7.1195],\n",
      "        [ 1.3070],\n",
      "        [ 7.7418],\n",
      "        [ 5.3717],\n",
      "        [ 4.9150]])\n"
     ]
    }
   ],
   "source": [
    "# 生成大小为batch_size的数据\n",
    "def data_iter(batch_size, features, labels):\n",
    "    \"\"\"\n",
    "        数据迭代，将features切成小批量数据\n",
    "    \"\"\"\n",
    "    num_examples = len(features)\n",
    "    indices = list(range(num_examples))\n",
    "    # 打乱数据\n",
    "    random.shuffle(indices)\n",
    "    for i in range(0, num_examples, batch_size):\n",
    "        batch_indices = torch.tensor(indices[i: min(i + batch_size, num_examples)])\n",
    "        yield features[batch_indices], labels[batch_indices]\n",
    "        \n",
    "batch_size = 10\n",
    "for X, y in data_iter(batch_size, features, labels):\n",
    "    print(f'{X}\\n{y}')\n",
    "    break"
   ]
  },
  {
   "cell_type": "code",
   "execution_count": 16,
   "id": "9aa39fe3-8706-491c-abdc-0947e3de548b",
   "metadata": {},
   "outputs": [],
   "source": [
    "def linreg(X, w, b):\n",
    "    \"\"\"\n",
    "        线性回归模型\n",
    "    \"\"\"\n",
    "    return torch.matmul(X, w) + b"
   ]
  },
  {
   "cell_type": "code",
   "execution_count": 17,
   "id": "bb6c0aad-4d7c-4b9e-b1fd-0c32c7eeec2f",
   "metadata": {},
   "outputs": [],
   "source": [
    "def squared_loss(y_hat, y):\n",
    "    \"\"\"\n",
    "        均方误差\n",
    "    \"\"\"\n",
    "    return (y_hat - y.reshape(y_hat.shape)) ** 2 / 2"
   ]
  },
  {
   "cell_type": "code",
   "execution_count": 19,
   "id": "5329df31-563d-4ba0-86e1-885a5b30877d",
   "metadata": {},
   "outputs": [],
   "source": [
    "def sgd(params, lr, batch_size):\n",
    "    \"\"\"\n",
    "        小批量随机梯度下降\n",
    "    \"\"\"\n",
    "    with torch.no_grad():\n",
    "        for param in params:\n",
    "            param -= lr * param.grad / batch_size\n",
    "            param.grad.zero_()"
   ]
  },
  {
   "cell_type": "code",
   "execution_count": 36,
   "id": "303f17b7-9995-4696-804d-89b619726095",
   "metadata": {},
   "outputs": [
    {
     "name": "stdout",
     "output_type": "stream",
     "text": [
      "epoch 1, loss 0.025836, w: tensor([[ 1.9257],\n",
      "        [-3.2978]], requires_grad=True), b: tensor([4.0186], requires_grad=True)\n",
      "epoch 2, loss 0.000092, w: tensor([[ 1.9971],\n",
      "        [-3.3973]], requires_grad=True), b: tensor([4.1920], requires_grad=True)\n",
      "epoch 3, loss 0.000052, w: tensor([[ 1.9996],\n",
      "        [-3.4000]], requires_grad=True), b: tensor([4.2002], requires_grad=True)\n",
      "epoch 4, loss 0.000052, w: tensor([[ 2.0001],\n",
      "        [-3.4003]], requires_grad=True), b: tensor([4.2003], requires_grad=True)\n",
      "epoch 5, loss 0.000052, w: tensor([[ 1.9998],\n",
      "        [-3.4005]], requires_grad=True), b: tensor([4.2002], requires_grad=True)\n"
     ]
    }
   ],
   "source": [
    "# 初始化模型参数，模型训练\n",
    "w = torch.normal(0, 0.01, size=(2, 1), requires_grad=True)\n",
    "b = torch.zeros(1, requires_grad=True)\n",
    "\n",
    "lr = 0.03\n",
    "num_epochs = 5\n",
    "net = linreg\n",
    "loss = squared_loss\n",
    "\n",
    "for epoch in range(num_epochs):\n",
    "    for X, y in data_iter(batch_size, features, labels):\n",
    "        l = loss(net(X, w, b), y)  # 小批量损失\n",
    "        l.sum().backward()\n",
    "        sgd([w, b], lr, batch_size)\n",
    "    with torch.no_grad():\n",
    "        train_l = loss(net(features, w, b), labels)\n",
    "        print(f'epoch {epoch + 1}, loss {float(train_l.mean()):f}, w: {w}, b: {b}')"
   ]
  },
  {
   "cell_type": "code",
   "execution_count": 21,
   "id": "70f9663c-f68a-4877-b78d-dd762dffa087",
   "metadata": {},
   "outputs": [
    {
     "name": "stdout",
     "output_type": "stream",
     "text": [
      "w的估计误差：tensor([ 1.4424e-04, -8.7261e-05], grad_fn=<SubBackward0>)\n",
      "b的估计误差：tensor([-0.0001], grad_fn=<RsubBackward1>)\n"
     ]
    }
   ],
   "source": [
    "print(f'w的估计误差：{true_w - w.reshape(true_w.shape)}')\n",
    "print(f'b的估计误差：{true_b - b}')"
   ]
  },
  {
   "cell_type": "code",
   "execution_count": 33,
   "id": "99adb4c5-83c3-4e15-a1c1-9c1718b417b0",
   "metadata": {},
   "outputs": [],
   "source": [
    "###############################\n",
    "# 线性回归简洁实现\n",
    "# 使用pytorch框架简洁实现"
   ]
  },
  {
   "cell_type": "code",
   "execution_count": 38,
   "id": "d4cc79a5-8b30-4a82-9c77-ddb8091f9489",
   "metadata": {},
   "outputs": [],
   "source": [
    "from torch.utils import data  # 导入pytorch数据处理模块"
   ]
  },
  {
   "cell_type": "code",
   "execution_count": 39,
   "id": "8785757e-f9c2-426d-8804-9e53132f642c",
   "metadata": {},
   "outputs": [],
   "source": [
    "true_w = torch.tensor([2, -3.4])\n",
    "true_b = 4.2\n",
    "features, labels = d2l.synthetic_data(true_w, true_b, 1000)"
   ]
  },
  {
   "cell_type": "code",
   "execution_count": 41,
   "id": "f631b951-a55e-4536-954b-cda33478ae16",
   "metadata": {},
   "outputs": [],
   "source": [
    "def load_array(data_arrays, batch_size, is_train=True):\n",
    "    \"\"\"构造一个PyTorch数据迭代器\n",
    "\n",
    "    Defined in :numref:`sec_linear_concise`\"\"\"\n",
    "    dataset = data.TensorDataset(*data_arrays)\n",
    "    return data.DataLoader(dataset, batch_size, shuffle=is_train)"
   ]
  },
  {
   "cell_type": "code",
   "execution_count": 42,
   "id": "a0bbdf83-93ea-4a27-8577-342178ecb329",
   "metadata": {},
   "outputs": [
    {
     "data": {
      "text/plain": [
       "[tensor([[ 1.3127, -0.8296],\n",
       "         [-0.7062,  2.2287],\n",
       "         [ 0.5412, -0.0250],\n",
       "         [ 0.6673,  0.9034],\n",
       "         [-1.0045, -1.0215],\n",
       "         [ 0.5905, -0.1857],\n",
       "         [ 0.2408,  1.2244],\n",
       "         [-0.6223,  0.2133],\n",
       "         [-0.8548, -0.8655],\n",
       "         [-1.1939, -1.6603]]),\n",
       " tensor([[ 9.6573],\n",
       "         [-4.7905],\n",
       "         [ 5.3661],\n",
       "         [ 2.4529],\n",
       "         [ 5.6686],\n",
       "         [ 5.9981],\n",
       "         [ 0.5138],\n",
       "         [ 2.2123],\n",
       "         [ 5.4359],\n",
       "         [ 7.4667]])]"
      ]
     },
     "execution_count": 42,
     "metadata": {},
     "output_type": "execute_result"
    }
   ],
   "source": [
    "batch_size = 10\n",
    "data_iter = load_array((features, labels), batch_size)\n",
    "\n",
    "next(iter(data_iter))"
   ]
  },
  {
   "cell_type": "code",
   "execution_count": 70,
   "id": "e30fbaf9-6c33-4227-be29-f7824939db4a",
   "metadata": {},
   "outputs": [
    {
     "data": {
      "text/plain": [
       "tensor([0.])"
      ]
     },
     "execution_count": 70,
     "metadata": {},
     "output_type": "execute_result"
    }
   ],
   "source": [
    "from torch import nn\n",
    "\n",
    "# 将一个2个输入1个输出的线性模型放入构造的网络层序列中\n",
    "net = nn.Sequential(nn.Linear(2, 1))\n",
    "\n",
    "# 初始化模型参数\n",
    "net[0].weight.data.normal_(0, 0.01)\n",
    "net[0].bias.data.fill_(0)"
   ]
  },
  {
   "cell_type": "code",
   "execution_count": 71,
   "id": "94bb0b12-f081-48d3-bb8e-9bfdcb89b1d5",
   "metadata": {},
   "outputs": [],
   "source": [
    "# 均方误差\n",
    "loss = nn.MSELoss()\n",
    "# 小批量随机梯度下降\n",
    "trainer = torch.optim.SGD(net.parameters(), lr=0.03)"
   ]
  },
  {
   "cell_type": "code",
   "execution_count": 72,
   "id": "cf002354-792f-4f45-b217-c2cdf837865b",
   "metadata": {},
   "outputs": [
    {
     "name": "stdout",
     "output_type": "stream",
     "text": [
      "epoch 1, loss 0.000237\n",
      "epoch 2, loss 0.000102\n",
      "epoch 3, loss 0.000104\n",
      "epoch 4, loss 0.000102\n",
      "epoch 5, loss 0.000103\n"
     ]
    }
   ],
   "source": [
    "# 训练数据\n",
    "num_epochs = 5\n",
    "for epoch in range(num_epochs):\n",
    "    for X, y in data_iter:\n",
    "        trainer.zero_grad()\n",
    "        l = loss(net(X), y)\n",
    "        l.backward()\n",
    "        trainer.step()  # 参数更新\n",
    "    l = loss(net(features), labels)\n",
    "    print(f'epoch {epoch + 1}, loss {l:f}')"
   ]
  },
  {
   "cell_type": "code",
   "execution_count": null,
   "id": "34e538c4-4184-4473-b3b8-edc30a1b0ba8",
   "metadata": {},
   "outputs": [],
   "source": []
  }
 ],
 "metadata": {
  "kernelspec": {
   "display_name": "Python 3 (ipykernel)",
   "language": "python",
   "name": "python3"
  },
  "language_info": {
   "codemirror_mode": {
    "name": "ipython",
    "version": 3
   },
   "file_extension": ".py",
   "mimetype": "text/x-python",
   "name": "python",
   "nbconvert_exporter": "python",
   "pygments_lexer": "ipython3",
   "version": "3.9.4"
  }
 },
 "nbformat": 4,
 "nbformat_minor": 5
}
