{
 "cells": [
  {
   "cell_type": "code",
   "execution_count": 1,
   "id": "c03f2b50-603a-4e9e-a394-8c84013bfc9f",
   "metadata": {},
   "outputs": [],
   "source": [
    "%matplotlib inline\n",
    "import torch\n",
    "from torch import nn\n",
    "from torch.nn import functional as F\n",
    "from PIL import Image\n",
    "import matplotlib.pyplot as plt\n",
    "from pathlib import Path\n",
    "import utils\n",
    "import torchvision\n",
    "from torchvision.io import image\n",
    "from torchvision.transforms.functional import to_pil_image\n",
    "import pandas as pd\n",
    "import time\n",
    "import numpy as np\n",
    "import collections\n",
    "import re"
   ]
  },
  {
   "cell_type": "code",
   "execution_count": 2,
   "id": "abff0009-ffde-4ddc-a9a3-0af8f19fdacb",
   "metadata": {},
   "outputs": [],
   "source": [
    "santi_txt_path = Path(r'../data/ebook/三体1.txt')\n",
    "sanguo_txt_path = Path(r'../data/ebook/ThreeKingdoms.txt')"
   ]
  },
  {
   "cell_type": "code",
   "execution_count": 3,
   "id": "a9ce2a34-5064-4aa8-913b-b5a7978f76db",
   "metadata": {},
   "outputs": [
    {
     "name": "stdout",
     "output_type": "stream",
     "text": [
      "总行数： 16800\n",
      "1\n",
      "emperor read this memorial with deep sighs, and chief eunuch cao jie, from his place behind the throne, anxiously noted these signs of grief. an opportunity offering, cao jie informed his fellows, and a charge was trumped up against cai yong, who was driven from the court and forced to retire to his country house.\n"
     ]
    }
   ],
   "source": [
    "def read_ebook_txt(txt_path: Path):\n",
    "    \"\"\"\n",
    "        将txt电子书加载到文本行类别中\n",
    "    \"\"\"\n",
    "    with open(txt_path.as_posix(), 'r', encoding='utf8') as fp:\n",
    "        lines = fp.readlines()\n",
    "        \n",
    "    new_lines = list()\n",
    "    for line in lines:\n",
    "        new_line = re.sub('^\\S+', ' ', line).strip().lower()\n",
    "        if len(new_line) > 0:\n",
    "            new_lines.append(new_line)\n",
    "    return new_lines\n",
    "\n",
    "lines = read_ebook_txt(sanguo_txt_path)\n",
    "print('总行数：', len(lines))\n",
    "print(lines[0])\n",
    "print(lines[10])"
   ]
  },
  {
   "cell_type": "code",
   "execution_count": 4,
   "id": "f681eb13-27f6-491b-8729-4c7affe0487a",
   "metadata": {},
   "outputs": [
    {
     "name": "stdout",
     "output_type": "stream",
     "text": [
      "['1']\n",
      "['h', 'e', 'r', 'o', 'e', 's', ' ', 's', 'w', 'e', 'a', 'r', ' ', 'b', 'r', 'o', 't', 'h', 'e', 'r', 'h', 'o', 'o', 'd', ' ', 'i', 'n', ' ', 't', 'h', 'e', ' ', 'p', 'e', 'a', 'c', 'h', ' ', 'g', 'a', 'r', 'd', 'e', 'n', ';', 'o', 'n', 'e', ' ', 'v', 'i', 'c', 't', 'o', 'r', 'y', ' ', 's', 'h', 'a', 't', 't', 'e', 'r', 's', ' ', 't', 'h', 'e', ' ', 'r', 'e', 'b', 'e', 'l', 's', ' ', 'i', 'n', ' ', 'b', 'a', 't', 't', 'l', 'e', 'g', 'r', 'o', 'u', 'n', 'd', 's', '.']\n",
      "['u', 'n', 'd', 'e', 'r', ' ', 'h', 'e', 'a', 'v', 'e', 'n', ',', ' ', 'a', 'f', 't', 'e', 'r', ' ', 'a', ' ', 'l', 'o', 'n', 'g', ' ', 'p', 'e', 'r', 'i', 'o', 'd', ' ', 'o', 'f', ' ', 'd', 'i', 'v', 'i', 's', 'i', 'o', 'n', ',', ' ', 't', 'e', 'n', 'd', 's', ' ', 't', 'o', ' ', 'u', 'n', 'i', 't', 'e', '；', ' ', 'a', 'f', 't', 'e', 'r', ' ', 'a', ' ', 'l', 'o', 'n', 'g', ' ', 'p', 'e', 'r', 'i', 'o', 'd', ' ', 'o', 'f', ' ', 'u', 'n', 'i', 'o', 'n', ',', ' ', 't', 'e', 'n', 'd', 's', ' ', 't', 'o', ' ', 'd', 'i', 'v', 'i', 'd', 'e', '.', ' ', 't', 'h', 'i', 's', ' ', 'h', 'a', 's', ' ', 'b', 'e', 'e', 'n', ' ', 's', 'o', ' ', 's', 'i', 'n', 'c', 'e', ' ', 'a', 'n', 't', 'i', 'q', 'u', 'i', 't', 'y', '.', ' ', 'w', 'h', 'e', 'n', ' ', 't', 'h', 'e', ' ', 'r', 'u', 'l', 'e', ' ', 'o', 'f', ' ', 't', 'h', 'e', ' ', 'z', 'h', 'o', 'u', ' ', 'd', 'y', 'n', 'a', 's', 't', 'y', ' ', 'w', 'e', 'a', 'k', 'e', 'n', 'e', 'd', ',', ' ', 's', 'e', 'v', 'e', 'n', ' ', 'c', 'o', 'n', 't', 'e', 'n', 'd', 'i', 'n', 'g', ' ', 'k', 'i', 'n', 'g', 'd', 'o', 'm', 's', ' ', 's', 'p', 'r', 'a', 'n', 'g', ' ', 'u', 'p', '*', ',', ' ', 'w', 'a', 'r', 'r', 'i', 'n', 'g', ' ', 'o', 'n', 'e', ' ', 'w', 'i', 't', 'h', ' ', 'a', 'n', 'o', 't', 'h', 'e', 'r', ' ', 'u', 'n', 't', 'i', 'l', ' ', 't', 'h', 'e', ' ', 'k', 'i', 'n', 'g', 'd', 'o', 'm', ' ', 'o', 'f', ' ', 'q', 'i', 'n', ' ', 'p', 'r', 'e', 'v', 'a', 'i', 'l', 'e', 'd', ' ', 'a', 'n', 'd', ' ', 'p', 'o', 's', 's', 'e', 's', 's', 'e', 'd', ' ', 't', 'h', 'e', ' ', 'e', 'm', 'p', 'i', 'r', 'e', '*', '.', ' ', 'b', 'u', 't', ' ', 'w', 'h', 'e', 'n', ' ', 'q', 'i', 'n', \"'\", 's', ' ', 'd', 'e', 's', 't', 'i', 'n', 'y', ' ', 'h', 'a', 'd', ' ', 'b', 'e', 'e', 'n', ' ', 'f', 'u', 'l', 'f', 'i', 'l', 'l', 'e', 'd', ',', ' ', 'a', 'r', 'o', 's', 'e', ' ', 't', 'w', 'o', ' ', 'o', 'p', 'p', 'o', 's', 'i', 'n', 'g', ' ', 'k', 'i', 'n', 'g', 'd', 'o', 'm', 's', ',', ' ', 'c', 'h', 'u', ' ', 'a', 'n', 'd', ' ', 'h', 'a', 'n', ',', ' ', 't', 'o', ' ', 'f', 'i', 'g', 'h', 't', ' ', 'f', 'o', 'r', ' ', 't', 'h', 'e', ' ', 'm', 'a', 's', 't', 'e', 'r', 'y', '.', ' ', 'a', 'n', 'd', ' ', 'h', 'a', 'n', ' ', 'w', 'a', 's', ' ', 't', 'h', 'e', ' ', 'v', 'i', 'c', 't', 'o', 'r', '*', '.']\n"
     ]
    }
   ],
   "source": [
    "# 词元化\n",
    "def tokenize(lines, token='char'):\n",
    "    \"\"\"将文本行拆分为单词或字符词元\"\"\"\n",
    "    if token == 'word':\n",
    "        return [line.split() for line in lines]\n",
    "    elif token == 'char':\n",
    "        return [list(line) for line in lines]\n",
    "    else:\n",
    "        print('错误：未知词元类型：' + token)\n",
    "\n",
    "tokens = tokenize(lines)\n",
    "for i in range(3):\n",
    "    print(tokens[i])"
   ]
  },
  {
   "cell_type": "code",
   "execution_count": 5,
   "id": "08bdcd31-0d3b-4a83-ae2a-133d397b611d",
   "metadata": {},
   "outputs": [],
   "source": [
    "# 构造词表\n",
    "\n",
    "class Vocab:\n",
    "    \"\"\"文本词表\"\"\"\n",
    "    def __init__(self, tokens=None, min_freq=0, reserved_tokens=None):\n",
    "        if tokens is None:\n",
    "            tokens = []\n",
    "        if reserved_tokens is None:\n",
    "            reserved_tokens = []\n",
    "        # 按出现频率排序降序排列\n",
    "        counter = count_corpus(tokens)\n",
    "        self._token_freqs = sorted(counter.items(), key=lambda x: x[1], reverse=True)\n",
    "        # 未知词元的索引为0\n",
    "        self.idx_to_token = ['<unk>'] + reserved_tokens\n",
    "        self.token_to_idx = {token: idx for idx, token in enumerate(self.idx_to_token)}\n",
    "        for token, freq in self._token_freqs:\n",
    "            if freq < min_freq:\n",
    "                break\n",
    "            if token not in self.token_to_idx:\n",
    "                self.idx_to_token.append(token)\n",
    "                self.token_to_idx[token] = len(self.idx_to_token) - 1\n",
    "\n",
    "    def __len__(self):\n",
    "        return len(self.idx_to_token)\n",
    "\n",
    "    def __getitem__(self, tokens):\n",
    "        if not isinstance(tokens, (list, tuple)):\n",
    "            return self.token_to_idx.get(tokens, self.unk)\n",
    "        return [self.__getitem__(token) for token in tokens]\n",
    "\n",
    "    def to_tokens(self, indices):\n",
    "        if not isinstance(indices, (list, tuple)):\n",
    "            return self.idx_to_token[indices]\n",
    "        return [self.idx_to_token[index] for index in indices]\n",
    "\n",
    "    @property\n",
    "    def unk(self):  # 未知词元的索引为0\n",
    "        return 0\n",
    "\n",
    "    @property\n",
    "    def token_freqs(self):\n",
    "        return self._token_freqs\n",
    "\n",
    "def count_corpus(tokens):\n",
    "    \"\"\"统计词元的频率\"\"\"\n",
    "    # 这里的tokens是1D列表或2D列表\n",
    "    if len(tokens) == 0 or isinstance(tokens[0], list):\n",
    "        # 将词元列表展平成一个列表\n",
    "        tokens = [token for line in tokens for token in line]\n",
    "    return collections.Counter(tokens)"
   ]
  },
  {
   "cell_type": "code",
   "execution_count": 6,
   "id": "8f50f66d-2581-4694-9979-7d32a67139a2",
   "metadata": {},
   "outputs": [
    {
     "name": "stdout",
     "output_type": "stream",
     "text": [
      "[('<unk>', 0), (' ', 1), ('e', 2), ('a', 3), ('t', 4), ('o', 5), ('n', 6), ('i', 7), ('h', 8), ('s', 9)]\n"
     ]
    }
   ],
   "source": [
    "vocab = Vocab(tokens)\n",
    "print(list(vocab.token_to_idx.items())[:10])"
   ]
  },
  {
   "cell_type": "code",
   "execution_count": 7,
   "id": "81f432c1-bf05-47e1-9f03-c175cef58320",
   "metadata": {},
   "outputs": [
    {
     "name": "stdout",
     "output_type": "stream",
     "text": [
      "文本: ['1']\n",
      "索引: [49]\n",
      "文本: ['e', 'm', 'p', 'e', 'r', 'o', 'r', ' ', 'r', 'e', 'a', 'd', ' ', 't', 'h', 'i', 's', ' ', 'm', 'e', 'm', 'o', 'r', 'i', 'a', 'l', ' ', 'w', 'i', 't', 'h', ' ', 'd', 'e', 'e', 'p', ' ', 's', 'i', 'g', 'h', 's', ',', ' ', 'a', 'n', 'd', ' ', 'c', 'h', 'i', 'e', 'f', ' ', 'e', 'u', 'n', 'u', 'c', 'h', ' ', 'c', 'a', 'o', ' ', 'j', 'i', 'e', ',', ' ', 'f', 'r', 'o', 'm', ' ', 'h', 'i', 's', ' ', 'p', 'l', 'a', 'c', 'e', ' ', 'b', 'e', 'h', 'i', 'n', 'd', ' ', 't', 'h', 'e', ' ', 't', 'h', 'r', 'o', 'n', 'e', ',', ' ', 'a', 'n', 'x', 'i', 'o', 'u', 's', 'l', 'y', ' ', 'n', 'o', 't', 'e', 'd', ' ', 't', 'h', 'e', 's', 'e', ' ', 's', 'i', 'g', 'n', 's', ' ', 'o', 'f', ' ', 'g', 'r', 'i', 'e', 'f', '.', ' ', 'a', 'n', ' ', 'o', 'p', 'p', 'o', 'r', 't', 'u', 'n', 'i', 't', 'y', ' ', 'o', 'f', 'f', 'e', 'r', 'i', 'n', 'g', ',', ' ', 'c', 'a', 'o', ' ', 'j', 'i', 'e', ' ', 'i', 'n', 'f', 'o', 'r', 'm', 'e', 'd', ' ', 'h', 'i', 's', ' ', 'f', 'e', 'l', 'l', 'o', 'w', 's', ',', ' ', 'a', 'n', 'd', ' ', 'a', ' ', 'c', 'h', 'a', 'r', 'g', 'e', ' ', 'w', 'a', 's', ' ', 't', 'r', 'u', 'm', 'p', 'e', 'd', ' ', 'u', 'p', ' ', 'a', 'g', 'a', 'i', 'n', 's', 't', ' ', 'c', 'a', 'i', ' ', 'y', 'o', 'n', 'g', ',', ' ', 'w', 'h', 'o', ' ', 'w', 'a', 's', ' ', 'd', 'r', 'i', 'v', 'e', 'n', ' ', 'f', 'r', 'o', 'm', ' ', 't', 'h', 'e', ' ', 'c', 'o', 'u', 'r', 't', ' ', 'a', 'n', 'd', ' ', 'f', 'o', 'r', 'c', 'e', 'd', ' ', 't', 'o', ' ', 'r', 'e', 't', 'i', 'r', 'e', ' ', 't', 'o', ' ', 'h', 'i', 's', ' ', 'c', 'o', 'u', 'n', 't', 'r', 'y', ' ', 'h', 'o', 'u', 's', 'e', '.']\n",
      "索引: [2, 16, 20, 2, 10, 5, 10, 1, 10, 2, 3, 11, 1, 4, 8, 7, 9, 1, 16, 2, 16, 5, 10, 7, 3, 12, 1, 17, 7, 4, 8, 1, 11, 2, 2, 20, 1, 9, 7, 14, 8, 9, 21, 1, 3, 6, 11, 1, 15, 8, 7, 2, 18, 1, 2, 13, 6, 13, 15, 8, 1, 15, 3, 5, 1, 29, 7, 2, 21, 1, 18, 10, 5, 16, 1, 8, 7, 9, 1, 20, 12, 3, 15, 2, 1, 23, 2, 8, 7, 6, 11, 1, 4, 8, 2, 1, 4, 8, 10, 5, 6, 2, 21, 1, 3, 6, 28, 7, 5, 13, 9, 12, 19, 1, 6, 5, 4, 2, 11, 1, 4, 8, 2, 9, 2, 1, 9, 7, 14, 6, 9, 1, 5, 18, 1, 14, 10, 7, 2, 18, 22, 1, 3, 6, 1, 5, 20, 20, 5, 10, 4, 13, 6, 7, 4, 19, 1, 5, 18, 18, 2, 10, 7, 6, 14, 21, 1, 15, 3, 5, 1, 29, 7, 2, 1, 7, 6, 18, 5, 10, 16, 2, 11, 1, 8, 7, 9, 1, 18, 2, 12, 12, 5, 17, 9, 21, 1, 3, 6, 11, 1, 3, 1, 15, 8, 3, 10, 14, 2, 1, 17, 3, 9, 1, 4, 10, 13, 16, 20, 2, 11, 1, 13, 20, 1, 3, 14, 3, 7, 6, 9, 4, 1, 15, 3, 7, 1, 19, 5, 6, 14, 21, 1, 17, 8, 5, 1, 17, 3, 9, 1, 11, 10, 7, 24, 2, 6, 1, 18, 10, 5, 16, 1, 4, 8, 2, 1, 15, 5, 13, 10, 4, 1, 3, 6, 11, 1, 18, 5, 10, 15, 2, 11, 1, 4, 5, 1, 10, 2, 4, 7, 10, 2, 1, 4, 5, 1, 8, 7, 9, 1, 15, 5, 13, 6, 4, 10, 19, 1, 8, 5, 13, 9, 2, 22]\n"
     ]
    }
   ],
   "source": [
    "for i in [0, 10]:\n",
    "    print('文本:', tokens[i])\n",
    "    print('索引:', vocab[tokens[i]])"
   ]
  },
  {
   "cell_type": "code",
   "execution_count": 8,
   "id": "407b8779-8d5d-489e-b073-ab717854673a",
   "metadata": {},
   "outputs": [
    {
     "data": {
      "text/plain": [
       "(3177437, 65)"
      ]
     },
     "execution_count": 8,
     "metadata": {},
     "output_type": "execute_result"
    }
   ],
   "source": [
    "# 整合所有功能，封装\n",
    "\n",
    "def load_corpus_txt(txt_path, max_tokens=-1):\n",
    "    \"\"\"返回数据集的词元索引列表和词表\"\"\"\n",
    "    lines = read_ebook_txt(txt_path)\n",
    "    tokens = tokenize(lines, 'char')\n",
    "    vocab = Vocab(tokens)\n",
    "    # 所以将所有文本行展平到一个列表中\n",
    "    corpus = [vocab[token] for line in tokens for token in line]\n",
    "    if max_tokens > 0:\n",
    "        corpus = corpus[:max_tokens]\n",
    "    return corpus, vocab\n",
    "\n",
    "corpus, vocab = load_corpus_txt(txt_path=sanguo_txt_path)\n",
    "len(corpus), len(vocab)"
   ]
  },
  {
   "cell_type": "code",
   "execution_count": 9,
   "id": "a5d07017-3ac5-4da5-bbc5-800d07e2b11d",
   "metadata": {},
   "outputs": [
    {
     "data": {
      "text/plain": [
       "[49, 8, 2, 10, 5, 2, 9, 1, 9, 17, 2, 3, 10, 1, 23, 10, 5, 4, 8, 2]"
      ]
     },
     "execution_count": 9,
     "metadata": {},
     "output_type": "execute_result"
    }
   ],
   "source": [
    "corpus[:20]"
   ]
  },
  {
   "cell_type": "code",
   "execution_count": 10,
   "id": "a27769d7-55a0-41af-9b07-e7d55cd8585b",
   "metadata": {},
   "outputs": [
    {
     "data": {
      "text/plain": [
       "['<unk>',\n",
       " ' ',\n",
       " 'e',\n",
       " 'a',\n",
       " 't',\n",
       " 'o',\n",
       " 'n',\n",
       " 'i',\n",
       " 'h',\n",
       " 's',\n",
       " 'r',\n",
       " 'd',\n",
       " 'l',\n",
       " 'u',\n",
       " 'g',\n",
       " 'c',\n",
       " 'm',\n",
       " 'w',\n",
       " 'f',\n",
       " 'y',\n",
       " 'p',\n",
       " ',',\n",
       " '.',\n",
       " 'b',\n",
       " 'v',\n",
       " 'k',\n",
       " '\"',\n",
       " 'z',\n",
       " 'x',\n",
       " 'j',\n",
       " '“',\n",
       " '”',\n",
       " 'q',\n",
       " \"'\",\n",
       " '-',\n",
       " '?',\n",
       " '？',\n",
       " ';',\n",
       " '[',\n",
       " ']',\n",
       " '!',\n",
       " '！',\n",
       " ':',\n",
       " '；',\n",
       " '*',\n",
       " '—',\n",
       " '：',\n",
       " '2',\n",
       " '0',\n",
       " '1',\n",
       " '(',\n",
       " ')',\n",
       " '…',\n",
       " '6',\n",
       " '5',\n",
       " '4',\n",
       " '（',\n",
       " '）',\n",
       " '8',\n",
       " '9',\n",
       " '3',\n",
       " '7',\n",
       " '\\u3000',\n",
       " '。',\n",
       " '#']"
      ]
     },
     "execution_count": 10,
     "metadata": {},
     "output_type": "execute_result"
    }
   ],
   "source": [
    "vocab.idx_to_token"
   ]
  },
  {
   "cell_type": "code",
   "execution_count": null,
   "id": "78c7223a-3dfa-46a3-9689-e9432034c328",
   "metadata": {},
   "outputs": [],
   "source": []
  }
 ],
 "metadata": {
  "kernelspec": {
   "display_name": "Python 3 (ipykernel)",
   "language": "python",
   "name": "python3"
  },
  "language_info": {
   "codemirror_mode": {
    "name": "ipython",
    "version": 3
   },
   "file_extension": ".py",
   "mimetype": "text/x-python",
   "name": "python",
   "nbconvert_exporter": "python",
   "pygments_lexer": "ipython3",
   "version": "3.9.4"
  }
 },
 "nbformat": 4,
 "nbformat_minor": 5
}
