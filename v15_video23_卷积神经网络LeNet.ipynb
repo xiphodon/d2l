{
 "cells": [
  {
   "cell_type": "code",
   "execution_count": 1,
   "id": "83720ee1-c2e5-4450-9031-d8b68f2ab5fc",
   "metadata": {},
   "outputs": [],
   "source": [
    "import torch\n",
    "from torch import nn\n",
    "import matplotlib.pyplot as plt\n",
    "import utils\n",
    "import time"
   ]
  },
  {
   "cell_type": "code",
   "execution_count": 2,
   "id": "e25fa99d-c3ed-4cf5-9737-e68bf7b9f721",
   "metadata": {},
   "outputs": [],
   "source": [
    "# 对原始模型做了一点小改动，去掉了最后一层的高斯激活。除此之外，这个网络与最初的LeNet-5一致。\n",
    "# 输入图片是28*28的单通道灰度图片（手写数字识别）\n",
    "net = nn.Sequential(\n",
    "    nn.Conv2d(1, 6, kernel_size=5, padding=2), \n",
    "    nn.Sigmoid(),\n",
    "    nn.AvgPool2d(kernel_size=2, stride=2),\n",
    "    nn.Conv2d(6, 16, kernel_size=5), \n",
    "    nn.Sigmoid(),\n",
    "    nn.AvgPool2d(kernel_size=2, stride=2),\n",
    "    nn.Flatten(),\n",
    "    nn.Linear(16 * 5 * 5, 120), \n",
    "    nn.Sigmoid(),\n",
    "    nn.Linear(120, 84), \n",
    "    nn.Sigmoid(),\n",
    "    nn.Linear(84, 10)\n",
    ")\n",
    "# net = nn.Sequential(\n",
    "#     nn.Conv2d(1, 10, kernel_size=3, padding=1), \n",
    "#     nn.ReLU(),\n",
    "#     nn.MaxPool2d(kernel_size=2, stride=2),\n",
    "#     nn.Conv2d(10, 40, kernel_size=3, padding=1), \n",
    "#     nn.ReLU(),\n",
    "#     nn.MaxPool2d(kernel_size=2, stride=2),\n",
    "#     nn.Conv2d(40, 256, kernel_size=1), \n",
    "#     nn.ReLU(),\n",
    "#     nn.Flatten(),\n",
    "#     nn.Linear(256 * 7 * 7, 128), \n",
    "#     nn.ReLU(),\n",
    "#     nn.Linear(128, 10)\n",
    "# )"
   ]
  },
  {
   "cell_type": "code",
   "execution_count": 3,
   "id": "50b22d64-5eba-4f4e-9fa1-16117baf8c93",
   "metadata": {},
   "outputs": [
    {
     "name": "stdout",
     "output_type": "stream",
     "text": [
      "Conv2d output shape: \t torch.Size([1, 6, 28, 28])\n",
      "Sigmoid output shape: \t torch.Size([1, 6, 28, 28])\n",
      "AvgPool2d output shape: \t torch.Size([1, 6, 14, 14])\n",
      "Conv2d output shape: \t torch.Size([1, 16, 10, 10])\n",
      "Sigmoid output shape: \t torch.Size([1, 16, 10, 10])\n",
      "AvgPool2d output shape: \t torch.Size([1, 16, 5, 5])\n",
      "Flatten output shape: \t torch.Size([1, 400])\n",
      "Linear output shape: \t torch.Size([1, 120])\n",
      "Sigmoid output shape: \t torch.Size([1, 120])\n",
      "Linear output shape: \t torch.Size([1, 84])\n",
      "Sigmoid output shape: \t torch.Size([1, 84])\n",
      "Linear output shape: \t torch.Size([1, 10])\n"
     ]
    }
   ],
   "source": [
    "X = torch.rand(size=(1, 1, 28, 28), dtype=torch.float32)\n",
    "for layer in net:\n",
    "    X = layer(X)\n",
    "    print(layer.__class__.__name__, 'output shape: \\t', X.shape)"
   ]
  },
  {
   "cell_type": "code",
   "execution_count": 4,
   "id": "65b750df-0435-49dd-81bd-2aecda3a02b8",
   "metadata": {},
   "outputs": [
    {
     "data": {
      "text/plain": [
       "Sequential(\n",
       "  (0): Conv2d(1, 6, kernel_size=(5, 5), stride=(1, 1), padding=(2, 2))\n",
       "  (1): Sigmoid()\n",
       "  (2): AvgPool2d(kernel_size=2, stride=2, padding=0)\n",
       "  (3): Conv2d(6, 16, kernel_size=(5, 5), stride=(1, 1))\n",
       "  (4): Sigmoid()\n",
       "  (5): AvgPool2d(kernel_size=2, stride=2, padding=0)\n",
       "  (6): Flatten(start_dim=1, end_dim=-1)\n",
       "  (7): Linear(in_features=400, out_features=120, bias=True)\n",
       "  (8): Sigmoid()\n",
       "  (9): Linear(in_features=120, out_features=84, bias=True)\n",
       "  (10): Sigmoid()\n",
       "  (11): Linear(in_features=84, out_features=10, bias=True)\n",
       ")"
      ]
     },
     "execution_count": 4,
     "metadata": {},
     "output_type": "execute_result"
    }
   ],
   "source": [
    "net"
   ]
  },
  {
   "cell_type": "code",
   "execution_count": 5,
   "id": "79ae0528-14a8-4e00-b607-2b756e322c96",
   "metadata": {},
   "outputs": [],
   "source": [
    "def evaluate_accuracy_gpu(net, data_iter, device=None):\n",
    "    \"\"\"使用GPU计算模型在数据集上的精度\"\"\"\n",
    "    if isinstance(net, nn.Module):\n",
    "        net.eval()  # 设置为评估模式\n",
    "        if not device:\n",
    "            device = next(net.parameters()).device\n",
    "    # 正确预测的数量，总预测的数量\n",
    "    y_hat_true_count = 0\n",
    "    y_hat_num_count = 0\n",
    "    with torch.no_grad():\n",
    "        for X, y in data_iter:\n",
    "            if isinstance(X, list):\n",
    "                # BERT微调所需的（之后将介绍）\n",
    "                X = [x.to(device) for x in X]\n",
    "            else:\n",
    "                X = X.to(device)\n",
    "            y = y.to(device)\n",
    "            \n",
    "            y_hat_true_count += utils.accuracy(net(X), y)\n",
    "            y_hat_num_count += y.numel()\n",
    "    return y_hat_true_count / y_hat_num_count"
   ]
  },
  {
   "cell_type": "code",
   "execution_count": 6,
   "id": "acdb2212-3ba4-43f6-ad0d-b0a68b2e013e",
   "metadata": {},
   "outputs": [],
   "source": [
    "def train_ch6(net, train_iter, test_iter, num_epochs, lr, device):\n",
    "    \"\"\"用GPU训练模型(在第六章定义)\"\"\"\n",
    "    time_0 = time.time()\n",
    "    def init_weights(m):\n",
    "        if type(m) == nn.Linear or type(m) == nn.Conv2d:\n",
    "            nn.init.xavier_uniform_(m.weight)\n",
    "    net.apply(init_weights)\n",
    "    print(f'training on: [{device}], [{time.strftime(\"%Y-%m-%d %H:%M:%S\", time.localtime())}]')\n",
    "    net.to(device)\n",
    "    optimizer = torch.optim.SGD(net.parameters(), lr=lr)\n",
    "    loss = nn.CrossEntropyLoss()\n",
    "    \n",
    "    # 时间用时列表\n",
    "    time_list = list()\n",
    "    # 每批次数据量\n",
    "    train_num_per_epoch = 0\n",
    "    # 初始化参数：训练集损失，训练集准确率，测试集准确率\n",
    "    train_l = train_acc = test_acc = None\n",
    "    # 训练损失之和，训练准确率之和，样本数\n",
    "    train_loss = train_hat_true_count = train_num_count = 0\n",
    "    \n",
    "    num_batches = len(train_iter)\n",
    "    for epoch in range(num_epochs):\n",
    "        # 训练损失之和，训练准确率之和，样本数\n",
    "        train_loss = 0\n",
    "        train_hat_true_count = 0\n",
    "        train_num_count = 0\n",
    "        # 训练模式\n",
    "        net.train()\n",
    "        for i, (X, y) in enumerate(train_iter):\n",
    "            start_time = time.time()\n",
    "            optimizer.zero_grad()\n",
    "            X, y = X.to(device), y.to(device)\n",
    "            y_hat = net(X)\n",
    "            l = loss(y_hat, y)\n",
    "            l.backward()\n",
    "            optimizer.step()\n",
    "            with torch.no_grad():\n",
    "                train_loss += l * X.shape[0]\n",
    "                train_hat_true_count += utils.accuracy(y_hat, y)\n",
    "                train_num_count += X.shape[0]\n",
    "\n",
    "            time_list.append(time.time() - start_time)\n",
    "            \n",
    "            train_l = train_loss / train_num_count\n",
    "            train_acc = train_hat_true_count / train_num_count\n",
    "            \n",
    "        train_num_per_epoch = train_num_count\n",
    "        test_acc = evaluate_accuracy_gpu(net, test_iter)\n",
    "        print(f'epoch: {epoch+1}/{num_epochs}, loss {train_l:.3f}, train acc {train_acc:.3f}, test acc {test_acc:.3f}')\n",
    "    \n",
    "    print(f'*** {train_num_per_epoch * num_epochs / sum(time_list):.1f} examples/sec '\n",
    "          f'on {str(device)} - [{utils.time_s2dhms(sum(time_list))}], '\n",
    "          f'all: [{utils.time_s2dhms(time.time() - time_0)}] ***')"
   ]
  },
  {
   "cell_type": "code",
   "execution_count": 7,
   "id": "fcfc12bb-30f7-4788-b4b6-e44e6539588b",
   "metadata": {},
   "outputs": [
    {
     "name": "stdout",
     "output_type": "stream",
     "text": [
      "training on: [cuda:0], [2024-05-30 22:12:31]\n",
      "epoch: 1/10, loss 2.328, train acc 0.101, test acc 0.100\n",
      "epoch: 2/10, loss 2.257, train acc 0.140, test acc 0.394\n",
      "epoch: 3/10, loss 1.259, train acc 0.496, test acc 0.594\n",
      "epoch: 4/10, loss 0.935, train acc 0.634, test acc 0.627\n",
      "epoch: 5/10, loss 0.810, train acc 0.687, test acc 0.612\n",
      "epoch: 6/10, loss 0.711, train acc 0.722, test acc 0.720\n",
      "epoch: 7/10, loss 0.670, train acc 0.737, test acc 0.691\n",
      "epoch: 8/10, loss 0.646, train acc 0.749, test acc 0.735\n",
      "epoch: 9/10, loss 0.610, train acc 0.764, test acc 0.695\n",
      "epoch: 10/10, loss 0.586, train acc 0.774, test acc 0.754\n",
      "*** 43920.3 examples/sec on cuda:0 - [0:00:00:13], all: [0:00:00:50] ***\n"
     ]
    }
   ],
   "source": [
    "lr, num_epochs, batch_size = 1.0, 10, 512\n",
    "# lr, num_epochs, batch_size = 0.01, 10, 64\n",
    "train_iter, test_iter = utils.load_data_fashion_mnist(batch_size=batch_size)\n",
    "train_ch6(net, train_iter, test_iter, num_epochs, lr, utils.try_gpu())"
   ]
  },
  {
   "cell_type": "code",
   "execution_count": null,
   "id": "2937d470-fe51-42ec-bb81-4eb962639937",
   "metadata": {},
   "outputs": [],
   "source": []
  },
  {
   "cell_type": "code",
   "execution_count": null,
   "id": "d7ce9e08-21e7-4a0b-b9c9-30b958dfc14c",
   "metadata": {},
   "outputs": [],
   "source": []
  }
 ],
 "metadata": {
  "kernelspec": {
   "display_name": "Python 3 (ipykernel)",
   "language": "python",
   "name": "python3"
  },
  "language_info": {
   "codemirror_mode": {
    "name": "ipython",
    "version": 3
   },
   "file_extension": ".py",
   "mimetype": "text/x-python",
   "name": "python",
   "nbconvert_exporter": "python",
   "pygments_lexer": "ipython3",
   "version": "3.9.4"
  }
 },
 "nbformat": 4,
 "nbformat_minor": 5
}
