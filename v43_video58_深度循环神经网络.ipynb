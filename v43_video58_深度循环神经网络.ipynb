{
 "cells": [
  {
   "cell_type": "code",
   "execution_count": 1,
   "id": "b9a408da-1c0a-408b-9c8d-da6846a5566f",
   "metadata": {},
   "outputs": [],
   "source": [
    "%matplotlib inline\n",
    "import torch\n",
    "from torch import nn\n",
    "from torch.nn import functional as F\n",
    "from PIL import Image\n",
    "import matplotlib.pyplot as plt\n",
    "from pathlib import Path\n",
    "import utils\n",
    "import torchvision\n",
    "from torchvision.io import image\n",
    "from torchvision.transforms.functional import to_pil_image\n",
    "import pandas as pd\n",
    "import time\n",
    "import numpy as np\n",
    "import collections\n",
    "import re\n",
    "import random\n",
    "import math"
   ]
  },
  {
   "cell_type": "code",
   "execution_count": 2,
   "id": "54f64321-9d29-4f07-a12b-0bd8e8ef7edb",
   "metadata": {},
   "outputs": [
    {
     "name": "stdout",
     "output_type": "stream",
     "text": [
      "65\n"
     ]
    }
   ],
   "source": [
    "batch_size, num_steps = 32, 35\n",
    "train_iter, vocab = utils.load_data_txt(utils.sanguo_txt_path, batch_size, num_steps)\n",
    "# train_iter, vocab = utils.load_data_txt(utils.santi_txt_path, batch_size, num_steps)\n",
    "print(len(vocab))"
   ]
  },
  {
   "cell_type": "code",
   "execution_count": 3,
   "id": "3a66cc37-63c4-418a-9323-64c8556e648a",
   "metadata": {},
   "outputs": [],
   "source": [
    "vocab_size, num_hiddens, num_layers = len(vocab), 256, 2\n",
    "num_inputs = vocab_size\n",
    "device = utils.try_gpu()\n",
    "lstm_layer = nn.LSTM(num_inputs, num_hiddens, num_layers)\n",
    "model = utils.RNNModel(lstm_layer, len(vocab))\n",
    "model = model.to(device)"
   ]
  },
  {
   "cell_type": "code",
   "execution_count": 4,
   "id": "0b10deab-bc84-4a32-a0f0-2232f0ac4323",
   "metadata": {},
   "outputs": [],
   "source": [
    "predict_prefix = ['cao cao', 'kingdom']\n",
    "# predict_prefix = ['三体组织', '物理学']"
   ]
  },
  {
   "cell_type": "code",
   "execution_count": 5,
   "id": "0617219a-5295-4795-875f-878d3b8174cd",
   "metadata": {},
   "outputs": [
    {
     "name": "stdout",
     "output_type": "stream",
     "text": [
      "cao cao the the the the the the the the the the the the the the the the the the the the the the the the the the the the the the the the the the the the the the the the the the the the the the the the the the\n",
      "epoch: 50/500, ppl: 14.703899574007396\n",
      "cao cao the erperer the end the erperer the end the erperer the end the erperer the end the erperer the end the erperer the end the erperer the end the erperer the end the erperer the end the erperer the end\n",
      "epoch: 100/500, ppl: 9.293821751576706\n",
      "cao cao the word man the word man the word man the word man the word man the word man the word man the word man the word man the word man the word man the word man the word man the word man the word man the \n",
      "epoch: 150/500, ppl: 6.105247634079759\n",
      "cao cao jie the rigelars.othe sectorenang on everyonelle of heaven,, sho lang, hang suud, wis ripe intipiegsung boo gingine, and beared where fade, and a scacters shade the repeldies and sondeneds, zhang jue\n",
      "epoch: 200/500, ppl: 2.2712031170085365\n",
      "cao cao jie the lord of human. and in these names they put forth this manifesto：good fortune of the han is exhausted, and the wise and worthy man has appeared. discern the will of heaven, o ye people, and wa\n",
      "epoch: 250/500, ppl: 1.0847174768562269\n",
      "cao cao jie campery that branned of the empire's division into three parts, known to history as the three kingdoms.the descent into misrule hastened in the reigns of the two predecessors of emperor xian, whi\n",
      "epoch: 300/500, ppl: 1.0581513529663864\n",
      "cao cao jing, and chang family, of whom three brothers bore the name of zhang jue, zhang ba, and zhang lian, respectively. the eldest zhang jue was an unclassed graduate, who devoted himself to medicine. one\n",
      "epoch: 350/500, ppl: 1.0352936333327758\n",
      "cao cao jing, and chang baant, dound ten min dreplly brothered that branch of the family had remained on in the place, gradually becoming poorer and poorer as the years rolled on. his father liu hong had bee\n",
      "epoch: 400/500, ppl: 1.0295060636537268\n",
      "cao cao jin, frent hou was anmenle mir tr the estind dith bronthers than befared in the era of established calm （ad 168）, that emperor ling went in state to the hall of virtue. as he drew near the throne, a \n",
      "epoch: 450/500, ppl: 1.0269193503854717\n",
      "cao cao jing, hon sechivend for sentang the most nem th empire. the imperial protector* of youzhou was liu yan, a scion of the imperial house. learning of the approach of the rebels, liu yan called in comman\n",
      "epoch: 500/500, ppl: 1.0274869639589712\n",
      "困惑度 1.0, 123971.9 词元/秒 cuda:0\n",
      "cao cao jing, hon sechivend for sentang the most nem th empire. the imperial protector* of youzhou was liu yan, a scion of the imperial house. learning of the approach of the rebels, liu yan called in comman\n",
      "kingdoms, swear brotherhood in the peach garden;one victory shatters the rebels in battlegrounds.under heaven, after a long period of division, tends to unite； after a long period of union, tends to divide. \n"
     ]
    }
   ],
   "source": [
    "num_epochs, lr = 500, 2\n",
    "utils.train_ch8(model, train_iter, vocab, lr*1.0, num_epochs, device, predict_prefix=predict_prefix)"
   ]
  },
  {
   "cell_type": "code",
   "execution_count": null,
   "id": "4ce74baf-b4c1-412c-b157-3233f4a322be",
   "metadata": {},
   "outputs": [],
   "source": []
  }
 ],
 "metadata": {
  "kernelspec": {
   "display_name": "Python 3 (ipykernel)",
   "language": "python",
   "name": "python3"
  },
  "language_info": {
   "codemirror_mode": {
    "name": "ipython",
    "version": 3
   },
   "file_extension": ".py",
   "mimetype": "text/x-python",
   "name": "python",
   "nbconvert_exporter": "python",
   "pygments_lexer": "ipython3",
   "version": "3.9.4"
  }
 },
 "nbformat": 4,
 "nbformat_minor": 5
}
