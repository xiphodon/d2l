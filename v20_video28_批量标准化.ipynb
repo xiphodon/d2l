{
 "cells": [
  {
   "cell_type": "code",
   "execution_count": 1,
   "id": "09b0b116-2fdc-4031-8053-3fc1c10a1bda",
   "metadata": {},
   "outputs": [],
   "source": [
    "import torch\n",
    "from torch import nn\n",
    "import utils"
   ]
  },
  {
   "cell_type": "code",
   "execution_count": 2,
   "id": "972da34f-e12f-4c64-8ed6-16df58dad858",
   "metadata": {},
   "outputs": [],
   "source": [
    "def batch_norm(X, gamma, beta, moving_mean, moving_var, eps, momentum):\n",
    "    # 通过is_grad_enabled来判断当前模式是训练模式还是预测模式\n",
    "    if not torch.is_grad_enabled():\n",
    "        # 预测模式下，直接使用传入的移动平均所得的均值和方差\n",
    "        X_hat = (X - moving_mean) / torch.sqrt(moving_var + eps)\n",
    "    else:\n",
    "        assert len(X.shape) in (2, 4)\n",
    "        if len(X.shape) == 2:\n",
    "            # 使用全连接层的情况，计算特征维上的均值和方差\n",
    "            mean = X.mean(dim=0)\n",
    "            var = ((X - mean) ** 2).mean(dim=0)\n",
    "        else:\n",
    "            # 使用二维卷积层的情况，计算通道维上（axis=1）的均值和方差。\n",
    "            # 这里我们需要保持X的形状以便后面可以做广播运算\n",
    "            mean = X.mean(dim=(0, 2, 3), keepdim=True)\n",
    "            var = ((X - mean) ** 2).mean(dim=(0, 2, 3), keepdim=True)\n",
    "        # 训练模式下，用当前的均值和方差做标准化\n",
    "        X_hat = (X - mean) / torch.sqrt(var + eps)\n",
    "        # 更新移动平均的均值和方差\n",
    "        moving_mean = momentum * moving_mean + (1.0 - momentum) * mean\n",
    "        moving_var = momentum * moving_var + (1.0 - momentum) * var\n",
    "    Y = gamma * X_hat + beta  # 缩放和移位\n",
    "    return Y, moving_mean.data, moving_var.data"
   ]
  },
  {
   "cell_type": "code",
   "execution_count": 3,
   "id": "bc20727b-dd66-4467-ad4e-32db7d7ccb68",
   "metadata": {},
   "outputs": [],
   "source": [
    "class BatchNorm(nn.Module):\n",
    "    # num_features：完全连接层的输出数量或卷积层的输出通道数。\n",
    "    # num_dims：2表示完全连接层，4表示卷积层\n",
    "    def __init__(self, num_features, num_dims):\n",
    "        super().__init__()\n",
    "        if num_dims == 2:\n",
    "            shape = (1, num_features)\n",
    "        else:\n",
    "            shape = (1, num_features, 1, 1)\n",
    "        # 参与求梯度和迭代的拉伸和偏移参数，分别初始化成1和0\n",
    "        self.gamma = nn.Parameter(torch.ones(shape))\n",
    "        self.beta = nn.Parameter(torch.zeros(shape))\n",
    "        # 非模型参数的变量初始化为0和1\n",
    "        self.moving_mean = torch.zeros(shape)\n",
    "        self.moving_var = torch.ones(shape)\n",
    "\n",
    "    def forward(self, X):\n",
    "        # 如果X不在内存上，将moving_mean和moving_var\n",
    "        # 复制到X所在显存上\n",
    "        if self.moving_mean.device != X.device:\n",
    "            self.moving_mean = self.moving_mean.to(X.device)\n",
    "            self.moving_var = self.moving_var.to(X.device)\n",
    "        # 保存更新过的moving_mean和moving_var\n",
    "        Y, self.moving_mean, self.moving_var = batch_norm(\n",
    "            X, self.gamma, self.beta, self.moving_mean,\n",
    "            self.moving_var, eps=1e-5, momentum=0.9)\n",
    "        return Y"
   ]
  },
  {
   "cell_type": "code",
   "execution_count": 4,
   "id": "e344798e-2752-4ac3-8f1d-7e5a8accdd74",
   "metadata": {},
   "outputs": [],
   "source": [
    "# 使用批量规范化层的 LeNet\n",
    "net = nn.Sequential(\n",
    "    nn.Conv2d(1, 6, kernel_size=5), \n",
    "    BatchNorm(6, num_dims=4), \n",
    "    nn.Sigmoid(),\n",
    "    nn.AvgPool2d(kernel_size=2, stride=2),\n",
    "    \n",
    "    nn.Conv2d(6, 16, kernel_size=5), \n",
    "    BatchNorm(16, num_dims=4), \n",
    "    nn.Sigmoid(),\n",
    "    nn.AvgPool2d(kernel_size=2, stride=2), \n",
    "    \n",
    "    nn.Flatten(),\n",
    "    nn.Linear(16*4*4, 120), \n",
    "    BatchNorm(120, num_dims=2), \n",
    "    nn.Sigmoid(),\n",
    "    \n",
    "    nn.Linear(120, 84), \n",
    "    BatchNorm(84, num_dims=2), \n",
    "    nn.Sigmoid(),\n",
    "    \n",
    "    nn.Linear(84, 10))"
   ]
  },
  {
   "cell_type": "code",
   "execution_count": 5,
   "id": "6c8aa614-be3a-4cb8-b5e4-f01cc2916615",
   "metadata": {},
   "outputs": [
    {
     "name": "stdout",
     "output_type": "stream",
     "text": [
      "training on: [cuda:0], [2024-06-01 00:46:45]\n",
      "epoch: 1/10, loss 0.734, train acc 0.734, test acc 0.711\n",
      "epoch: 2/10, loss 0.479, train acc 0.825, test acc 0.817\n",
      "epoch: 3/10, loss 0.405, train acc 0.854, test acc 0.676\n",
      "epoch: 4/10, loss 0.361, train acc 0.868, test acc 0.841\n",
      "epoch: 5/10, loss 0.331, train acc 0.880, test acc 0.861\n",
      "epoch: 6/10, loss 0.311, train acc 0.887, test acc 0.860\n",
      "epoch: 7/10, loss 0.295, train acc 0.892, test acc 0.869\n",
      "epoch: 8/10, loss 0.284, train acc 0.895, test acc 0.881\n",
      "epoch: 9/10, loss 0.271, train acc 0.900, test acc 0.856\n",
      "epoch: 10/10, loss 0.260, train acc 0.904, test acc 0.836\n",
      "*** 24819.4 examples/sec on cuda:0 - [0:00:00:24], all: [0:00:01:00] ***\n"
     ]
    }
   ],
   "source": [
    "lr, num_epochs, batch_size = 1.0, 10, 256\n",
    "train_iter, test_iter = utils.load_data_fashion_mnist(batch_size)\n",
    "utils.train_ch6(net, train_iter, test_iter, num_epochs, lr, utils.try_gpu())"
   ]
  },
  {
   "cell_type": "code",
   "execution_count": 6,
   "id": "0727c141-e862-41f8-95c8-c9042c5a9810",
   "metadata": {},
   "outputs": [
    {
     "data": {
      "text/plain": [
       "(tensor([3.4609, 1.9792, 3.2465, 3.2853, 2.5997, 1.9066], device='cuda:0',\n",
       "        grad_fn=<ViewBackward>),\n",
       " tensor([-1.7435, -1.1527, -2.0026, -3.5925,  2.2950, -2.0930], device='cuda:0',\n",
       "        grad_fn=<ViewBackward>))"
      ]
     },
     "execution_count": 6,
     "metadata": {},
     "output_type": "execute_result"
    }
   ],
   "source": [
    "# 查看第一个批量规范化层中学到的拉伸参数gamma和偏移参数beta。\n",
    "net[1].gamma.reshape((-1,)), net[1].beta.reshape((-1,))"
   ]
  },
  {
   "cell_type": "code",
   "execution_count": 7,
   "id": "8c45efd0-e904-45ad-b3b9-2d8db5419ccd",
   "metadata": {},
   "outputs": [],
   "source": [
    "# 简明实现\n",
    "\n",
    "net = nn.Sequential(\n",
    "    nn.Conv2d(1, 6, kernel_size=5), \n",
    "    nn.BatchNorm2d(6), \n",
    "    nn.Sigmoid(),\n",
    "    nn.AvgPool2d(kernel_size=2, stride=2),\n",
    "    \n",
    "    nn.Conv2d(6, 16, kernel_size=5), \n",
    "    nn.BatchNorm2d(16), \n",
    "    nn.Sigmoid(),\n",
    "    nn.AvgPool2d(kernel_size=2, stride=2), \n",
    "    \n",
    "    nn.Flatten(),\n",
    "    nn.Linear(256, 120), \n",
    "    nn.BatchNorm1d(120), \n",
    "    nn.Sigmoid(),\n",
    "    \n",
    "    nn.Linear(120, 84), \n",
    "    nn.BatchNorm1d(84), \n",
    "    nn.Sigmoid(),\n",
    "    \n",
    "    nn.Linear(84, 10))"
   ]
  },
  {
   "cell_type": "code",
   "execution_count": 8,
   "id": "4eb143f3-aec8-471c-93b9-7a07c6088a8e",
   "metadata": {},
   "outputs": [
    {
     "name": "stdout",
     "output_type": "stream",
     "text": [
      "training on: [cuda:0], [2024-06-01 00:52:20]\n",
      "epoch: 1/10, loss 0.727, train acc 0.736, test acc 0.767\n",
      "epoch: 2/10, loss 0.475, train acc 0.828, test acc 0.774\n",
      "epoch: 3/10, loss 0.396, train acc 0.855, test acc 0.835\n",
      "epoch: 4/10, loss 0.359, train acc 0.869, test acc 0.822\n",
      "epoch: 5/10, loss 0.334, train acc 0.878, test acc 0.553\n",
      "epoch: 6/10, loss 0.316, train acc 0.884, test acc 0.797\n",
      "epoch: 7/10, loss 0.300, train acc 0.891, test acc 0.695\n",
      "epoch: 8/10, loss 0.287, train acc 0.894, test acc 0.834\n",
      "epoch: 9/10, loss 0.276, train acc 0.898, test acc 0.800\n",
      "epoch: 10/10, loss 0.269, train acc 0.901, test acc 0.872\n",
      "*** 42484.4 examples/sec on cuda:0 - [0:00:00:14], all: [0:00:00:49] ***\n"
     ]
    }
   ],
   "source": [
    "utils.train_ch6(net, train_iter, test_iter, num_epochs, lr, utils.try_gpu())"
   ]
  },
  {
   "cell_type": "code",
   "execution_count": null,
   "id": "cbcb9d93-2e7d-400f-b80f-e4f05f56b8fb",
   "metadata": {},
   "outputs": [],
   "source": []
  }
 ],
 "metadata": {
  "kernelspec": {
   "display_name": "Python 3 (ipykernel)",
   "language": "python",
   "name": "python3"
  },
  "language_info": {
   "codemirror_mode": {
    "name": "ipython",
    "version": 3
   },
   "file_extension": ".py",
   "mimetype": "text/x-python",
   "name": "python",
   "nbconvert_exporter": "python",
   "pygments_lexer": "ipython3",
   "version": "3.9.4"
  }
 },
 "nbformat": 4,
 "nbformat_minor": 5
}
