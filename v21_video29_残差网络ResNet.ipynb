{
 "cells": [
  {
   "cell_type": "code",
   "execution_count": 1,
   "id": "d955c778-858a-4314-b669-9f52134399e6",
   "metadata": {},
   "outputs": [],
   "source": [
    "import torch\n",
    "from torch import nn\n",
    "from torch.nn import functional as F\n",
    "import utils"
   ]
  },
  {
   "cell_type": "code",
   "execution_count": 24,
   "id": "807891bf-1dc7-4e12-bcbf-bbb5e3886ccc",
   "metadata": {},
   "outputs": [],
   "source": [
    "class Residual(nn.Module):\n",
    "    \"\"\"\n",
    "        残差模块\n",
    "    \"\"\"\n",
    "    def __init__(self, input_channels, num_channels,\n",
    "                 use_1x1conv=False, strides=1):\n",
    "        super().__init__()\n",
    "        self.conv1 = nn.Conv2d(input_channels, num_channels, kernel_size=3, padding=1, stride=strides)\n",
    "        self.conv2 = nn.Conv2d(num_channels, num_channels, kernel_size=3, padding=1)\n",
    "        if use_1x1conv:\n",
    "            self.conv3 = nn.Conv2d(input_channels, num_channels, kernel_size=1, stride=strides)\n",
    "        else:\n",
    "            self.conv3 = lambda x: x\n",
    "        self.bn1 = nn.BatchNorm2d(num_channels)\n",
    "        self.bn2 = nn.BatchNorm2d(num_channels)\n",
    "\n",
    "    def forward(self, X):\n",
    "        \"\"\"\n",
    "            主路与短路保持同样的shape\n",
    "        \"\"\"\n",
    "        # 主路\n",
    "        Y = F.relu(self.bn1(self.conv1(X)))\n",
    "        Y = self.bn2(self.conv2(Y))\n",
    "        # 短路\n",
    "        X = self.conv3(X)\n",
    "        # 主路与短路复合\n",
    "        Y += X\n",
    "        return F.relu(Y)"
   ]
  },
  {
   "cell_type": "code",
   "execution_count": 25,
   "id": "3f376a68-bf28-4c97-9550-116e5133d319",
   "metadata": {},
   "outputs": [
    {
     "data": {
      "text/plain": [
       "torch.Size([4, 3, 6, 6])"
      ]
     },
     "execution_count": 25,
     "metadata": {},
     "output_type": "execute_result"
    }
   ],
   "source": [
    "X = torch.rand(4, 3, 6, 6)\n",
    "\n",
    "blk = Residual(3, 3)\n",
    "Y = blk(X)\n",
    "Y.shape"
   ]
  },
  {
   "cell_type": "code",
   "execution_count": 26,
   "id": "b230abbc-0094-4ef5-82df-35c364f2bcf6",
   "metadata": {},
   "outputs": [
    {
     "data": {
      "text/plain": [
       "torch.Size([4, 5, 3, 3])"
      ]
     },
     "execution_count": 26,
     "metadata": {},
     "output_type": "execute_result"
    }
   ],
   "source": [
    "blk = Residual(3, 5, use_1x1conv=True, strides=2)\n",
    "Y = blk(X)\n",
    "Y.shape"
   ]
  },
  {
   "cell_type": "code",
   "execution_count": 27,
   "id": "8218165c-8700-4753-9ecb-695ec1b24bb3",
   "metadata": {},
   "outputs": [],
   "source": [
    "b1 = nn.Sequential(\n",
    "    nn.Conv2d(1, 64, kernel_size=7, stride=2, padding=3),\n",
    "    nn.BatchNorm2d(64), \n",
    "    nn.ReLU(),\n",
    "    nn.MaxPool2d(kernel_size=3, stride=2, padding=1)\n",
    ")"
   ]
  },
  {
   "cell_type": "code",
   "execution_count": 28,
   "id": "29b70b9b-0bbd-4123-a584-5f01a7b2830d",
   "metadata": {},
   "outputs": [],
   "source": [
    "def resnet_block(input_channels, num_channels, num_residuals, first_block=False):\n",
    "    blk = []\n",
    "    for i in range(num_residuals):\n",
    "        if i == 0 and not first_block:\n",
    "            blk.append(Residual(input_channels, num_channels, use_1x1conv=True, strides=2))\n",
    "        else:\n",
    "            blk.append(Residual(num_channels, num_channels))\n",
    "    return blk"
   ]
  },
  {
   "cell_type": "code",
   "execution_count": 29,
   "id": "ffc6d456-906c-4974-a04b-f280b41502db",
   "metadata": {},
   "outputs": [],
   "source": [
    "b2 = nn.Sequential(*resnet_block(64, 64, 2, first_block=True))\n",
    "b3 = nn.Sequential(*resnet_block(64, 128, 2))\n",
    "b4 = nn.Sequential(*resnet_block(128, 256, 2))\n",
    "b5 = nn.Sequential(*resnet_block(256, 512, 2))"
   ]
  },
  {
   "cell_type": "code",
   "execution_count": 30,
   "id": "492d3787-214f-45ec-9506-4ac92f3ef444",
   "metadata": {},
   "outputs": [],
   "source": [
    "# ResNet-18\n",
    "# b1(1) + b2(4) + b3(4) + b4(4) + b5(4) + Linear(1) = 18层\n",
    "net = nn.Sequential(\n",
    "    b1, b2, b3, b4, b5,\n",
    "    nn.AdaptiveAvgPool2d((1,1)),\n",
    "    nn.Flatten(), \n",
    "    nn.Linear(512, 10)\n",
    ")"
   ]
  },
  {
   "cell_type": "code",
   "execution_count": 31,
   "id": "398980e8-eaf9-445a-8795-9dbfaa8ecde3",
   "metadata": {},
   "outputs": [
    {
     "name": "stdout",
     "output_type": "stream",
     "text": [
      "Conv2d output shape:\t torch.Size([1, 64, 112, 112])\n",
      "BatchNorm2d output shape:\t torch.Size([1, 64, 112, 112])\n",
      "ReLU output shape:\t torch.Size([1, 64, 112, 112])\n",
      "MaxPool2d output shape:\t torch.Size([1, 64, 56, 56])\n",
      "Residual output shape:\t torch.Size([1, 64, 56, 56])\n",
      "Residual output shape:\t torch.Size([1, 64, 56, 56])\n",
      "Residual output shape:\t torch.Size([1, 128, 28, 28])\n",
      "Residual output shape:\t torch.Size([1, 128, 28, 28])\n",
      "Residual output shape:\t torch.Size([1, 256, 14, 14])\n",
      "Residual output shape:\t torch.Size([1, 256, 14, 14])\n",
      "Residual output shape:\t torch.Size([1, 512, 7, 7])\n",
      "Residual output shape:\t torch.Size([1, 512, 7, 7])\n",
      "AdaptiveAvgPool2d output shape:\t torch.Size([1, 512, 1, 1])\n",
      "Flatten output shape:\t torch.Size([1, 512])\n",
      "Linear output shape:\t torch.Size([1, 10])\n"
     ]
    }
   ],
   "source": [
    "X = torch.rand(size=(1, 1, 224, 224))\n",
    "for layer in net:\n",
    "    if isinstance(layer, nn.Sequential):\n",
    "        for inner_layer in layer:\n",
    "            X = inner_layer(X)\n",
    "            print(inner_layer.__class__.__name__, 'output shape:\\t', X.shape)\n",
    "    else:\n",
    "        X = layer(X)\n",
    "        print(layer.__class__.__name__, 'output shape:\\t', X.shape)"
   ]
  },
  {
   "cell_type": "code",
   "execution_count": 32,
   "id": "6d793a25-101b-495b-acfe-5cc5508ec101",
   "metadata": {},
   "outputs": [
    {
     "name": "stdout",
     "output_type": "stream",
     "text": [
      "training on: [cuda:0], [2024-06-01 01:57:29]\n",
      "epoch: 1/10, loss 0.493, train acc 0.827, test acc 0.881\n",
      "epoch: 2/10, loss 0.254, train acc 0.907, test acc 0.844\n",
      "epoch: 3/10, loss 0.192, train acc 0.929, test acc 0.880\n",
      "epoch: 4/10, loss 0.145, train acc 0.948, test acc 0.896\n",
      "epoch: 5/10, loss 0.114, train acc 0.960, test acc 0.850\n",
      "epoch: 6/10, loss 0.081, train acc 0.972, test acc 0.889\n",
      "epoch: 7/10, loss 0.058, train acc 0.980, test acc 0.898\n",
      "epoch: 8/10, loss 0.039, train acc 0.988, test acc 0.800\n",
      "epoch: 9/10, loss 0.026, train acc 0.992, test acc 0.905\n",
      "epoch: 10/10, loss 0.010, train acc 0.998, test acc 0.910\n",
      "*** 964.9 examples/sec on cuda:0 - [0:00:10:21], all: [0:00:12:23] ***\n"
     ]
    }
   ],
   "source": [
    "lr, num_epochs, batch_size = 0.05, 10, 256\n",
    "train_iter, test_iter = utils.load_data_fashion_mnist(batch_size, resize=96)\n",
    "utils.train_ch6(net, train_iter, test_iter, num_epochs, lr, utils.try_gpu())"
   ]
  },
  {
   "cell_type": "code",
   "execution_count": null,
   "id": "22752778-515f-4165-a32e-1d09616e0c13",
   "metadata": {},
   "outputs": [],
   "source": []
  }
 ],
 "metadata": {
  "kernelspec": {
   "display_name": "Python 3 (ipykernel)",
   "language": "python",
   "name": "python3"
  },
  "language_info": {
   "codemirror_mode": {
    "name": "ipython",
    "version": 3
   },
   "file_extension": ".py",
   "mimetype": "text/x-python",
   "name": "python",
   "nbconvert_exporter": "python",
   "pygments_lexer": "ipython3",
   "version": "3.9.4"
  }
 },
 "nbformat": 4,
 "nbformat_minor": 5
}
