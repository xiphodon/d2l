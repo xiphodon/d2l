{
 "cells": [
  {
   "cell_type": "code",
   "execution_count": 1,
   "id": "e9a63819-9b64-4f9c-8544-092e3e48dd3f",
   "metadata": {},
   "outputs": [],
   "source": [
    "import torch\n",
    "from torch import nn\n",
    "import utils"
   ]
  },
  {
   "cell_type": "code",
   "execution_count": 2,
   "id": "9c85be9d-3d41-469c-88f6-c8ed0f50bcf0",
   "metadata": {},
   "outputs": [],
   "source": [
    "def vgg_block(num_convs, in_channels, out_channels):\n",
    "    layers = []\n",
    "    for _ in range(num_convs):\n",
    "        layers.append(nn.Conv2d(in_channels, out_channels,\n",
    "                                kernel_size=3, padding=1))\n",
    "        layers.append(nn.ReLU())\n",
    "        in_channels = out_channels\n",
    "    layers.append(nn.MaxPool2d(kernel_size=2,stride=2))\n",
    "    return nn.Sequential(*layers)"
   ]
  },
  {
   "cell_type": "code",
   "execution_count": 3,
   "id": "7f6ceabf-cf5f-48df-bc7f-4750f391836a",
   "metadata": {},
   "outputs": [],
   "source": [
    "# 超参数变量conv_arch。该变量指定了每个VGG块里卷积层个数和输出通道数。全连接模块则与AlexNet中的相同。\n",
    "# 原始VGG网络有5个卷积块，其中前两个块各有一个卷积层，后三个块各包含两个卷积层。 \n",
    "# 第一个模块有64个输出通道，每个后续模块将输出通道数量翻倍，直到该数字达到512。\n",
    "# 由于该网络使用8个卷积层和3个全连接层，因此它通常被称为VGG-11。\n",
    "\n",
    "conv_arch = ((1, 64), (1, 128), (2, 256), (2, 512), (2, 512))"
   ]
  },
  {
   "cell_type": "code",
   "execution_count": 4,
   "id": "f9226bd9-6a0f-4987-85d8-6d815baec294",
   "metadata": {},
   "outputs": [],
   "source": [
    "def vgg(conv_arch):\n",
    "    conv_blks = []\n",
    "    in_channels = 1\n",
    "    # 卷积层部分\n",
    "    for (num_convs, out_channels) in conv_arch:\n",
    "        conv_blks.append(vgg_block(num_convs, in_channels, out_channels))\n",
    "        in_channels = out_channels\n",
    "\n",
    "    return nn.Sequential(\n",
    "        *conv_blks, \n",
    "        nn.Flatten(),\n",
    "        # 全连接层部分\n",
    "        nn.Linear(in_channels * 7 * 7, 4096), nn.ReLU(), nn.Dropout(0.5),\n",
    "        nn.Linear(4096, 4096), nn.ReLU(), nn.Dropout(0.5),\n",
    "        nn.Linear(4096, 10))\n",
    "\n",
    "net = vgg(conv_arch)"
   ]
  },
  {
   "cell_type": "code",
   "execution_count": 5,
   "id": "fd70debd-5645-4a8f-a0e7-50859e1176ef",
   "metadata": {},
   "outputs": [
    {
     "name": "stdout",
     "output_type": "stream",
     "text": [
      "Sequential output shape:\t torch.Size([1, 64, 112, 112])\n",
      "Sequential output shape:\t torch.Size([1, 128, 56, 56])\n",
      "Sequential output shape:\t torch.Size([1, 256, 28, 28])\n",
      "Sequential output shape:\t torch.Size([1, 512, 14, 14])\n",
      "Sequential output shape:\t torch.Size([1, 512, 7, 7])\n",
      "Flatten output shape:\t torch.Size([1, 25088])\n",
      "Linear output shape:\t torch.Size([1, 4096])\n",
      "ReLU output shape:\t torch.Size([1, 4096])\n",
      "Dropout output shape:\t torch.Size([1, 4096])\n",
      "Linear output shape:\t torch.Size([1, 4096])\n",
      "ReLU output shape:\t torch.Size([1, 4096])\n",
      "Dropout output shape:\t torch.Size([1, 4096])\n",
      "Linear output shape:\t torch.Size([1, 10])\n"
     ]
    }
   ],
   "source": [
    "X = torch.randn(size=(1, 1, 224, 224))\n",
    "for blk in net:\n",
    "    X = blk(X)\n",
    "    print(blk.__class__.__name__,'output shape:\\t',X.shape)"
   ]
  },
  {
   "cell_type": "code",
   "execution_count": 6,
   "id": "d73e6697-97bf-48cc-a1e2-fd749dbc5495",
   "metadata": {},
   "outputs": [],
   "source": [
    "# 由于VGG-11比AlexNet计算量更大，因此我们构建了一个通道数较少的网络，足够用于训练Fashion-MNIST数据集。\n",
    "# conv_arch中每个vgg块通道数为原来的1/8\n",
    "ratio = 8\n",
    "small_conv_arch = [(pair[0], pair[1] // ratio) for pair in conv_arch]\n",
    "net = vgg(small_conv_arch)"
   ]
  },
  {
   "cell_type": "code",
   "execution_count": 7,
   "id": "58986af2-eb7b-4828-83b8-118e766c8a9f",
   "metadata": {},
   "outputs": [
    {
     "name": "stdout",
     "output_type": "stream",
     "text": [
      "training on: [cuda:0], [2024-05-30 22:49:33]\n",
      "epoch: 1/10, loss 0.752, train acc 0.720, test acc 0.864\n",
      "epoch: 2/10, loss 0.347, train acc 0.873, test acc 0.882\n",
      "epoch: 3/10, loss 0.284, train acc 0.896, test acc 0.896\n",
      "epoch: 4/10, loss 0.250, train acc 0.908, test acc 0.907\n",
      "epoch: 5/10, loss 0.224, train acc 0.919, test acc 0.907\n",
      "epoch: 6/10, loss 0.202, train acc 0.926, test acc 0.917\n",
      "epoch: 7/10, loss 0.185, train acc 0.933, test acc 0.917\n",
      "epoch: 8/10, loss 0.171, train acc 0.937, test acc 0.917\n",
      "epoch: 9/10, loss 0.156, train acc 0.942, test acc 0.924\n",
      "epoch: 10/10, loss 0.142, train acc 0.948, test acc 0.927\n",
      "*** 610.6 examples/sec on cuda:0 - [0:00:16:22], all: [0:00:21:14] ***\n"
     ]
    }
   ],
   "source": [
    "lr, num_epochs, batch_size = 0.05, 10, 64\n",
    "train_iter, test_iter = utils.load_data_fashion_mnist(batch_size, resize=224)\n",
    "utils.train_ch6(net, train_iter, test_iter, num_epochs, lr, utils.try_gpu())"
   ]
  },
  {
   "cell_type": "code",
   "execution_count": null,
   "id": "3065f172-05a3-4a42-aaad-834bdc2a5b16",
   "metadata": {},
   "outputs": [],
   "source": []
  }
 ],
 "metadata": {
  "kernelspec": {
   "display_name": "Python 3 (ipykernel)",
   "language": "python",
   "name": "python3"
  },
  "language_info": {
   "codemirror_mode": {
    "name": "ipython",
    "version": 3
   },
   "file_extension": ".py",
   "mimetype": "text/x-python",
   "name": "python",
   "nbconvert_exporter": "python",
   "pygments_lexer": "ipython3",
   "version": "3.9.4"
  }
 },
 "nbformat": 4,
 "nbformat_minor": 5
}
