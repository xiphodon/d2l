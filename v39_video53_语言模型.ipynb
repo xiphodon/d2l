{
 "cells": [
  {
   "cell_type": "code",
   "execution_count": 1,
   "id": "48063dd2-b963-4b48-b949-1eef8967eb68",
   "metadata": {},
   "outputs": [],
   "source": [
    "%matplotlib inline\n",
    "import torch\n",
    "from torch import nn\n",
    "from torch.nn import functional as F\n",
    "from PIL import Image\n",
    "import matplotlib.pyplot as plt\n",
    "from pathlib import Path\n",
    "import utils\n",
    "import torchvision\n",
    "from torchvision.io import image\n",
    "from torchvision.transforms.functional import to_pil_image\n",
    "import pandas as pd\n",
    "import time\n",
    "import numpy as np\n",
    "import collections\n",
    "import re\n",
    "import random"
   ]
  },
  {
   "cell_type": "code",
   "execution_count": 2,
   "id": "ee05f136-8ebb-475a-ab95-f7c9fefd7bad",
   "metadata": {},
   "outputs": [
    {
     "data": {
      "text/plain": [
       "[('the', 35403),\n",
       " ('and', 23708),\n",
       " ('to', 19311),\n",
       " ('of', 16145),\n",
       " ('a', 9567),\n",
       " ('he', 9073),\n",
       " ('his', 8911),\n",
       " ('in', 7110),\n",
       " ('was', 6718),\n",
       " ('you', 4999)]"
      ]
     },
     "execution_count": 2,
     "metadata": {},
     "output_type": "execute_result"
    }
   ],
   "source": [
    "tokens = utils.tokenize(utils.read_ebook_txt(utils.sanguo_txt_path), token='word')\n",
    "# 所有文本行拼接到一起\n",
    "corpus = [token for line in tokens for token in line]\n",
    "vocab = utils.Vocab(corpus)\n",
    "vocab.token_freqs[:10]"
   ]
  },
  {
   "cell_type": "code",
   "execution_count": 3,
   "id": "ea296c64-bc48-450b-adaa-3b1610d6022f",
   "metadata": {},
   "outputs": [
    {
     "data": {
      "text/plain": [
       "[<matplotlib.lines.Line2D at 0x2468e41e520>]"
      ]
     },
     "execution_count": 3,
     "metadata": {},
     "output_type": "execute_result"
    },
    {
     "data": {
      "image/png": "[encoded data removed]",
      "text/plain": [
       "<Figure size 432x288 with 1 Axes>"
      ]
     },
     "metadata": {
      "needs_background": "light"
     },
     "output_type": "display_data"
    }
   ],
   "source": [
    "# 词频以一种明确的方式迅速衰减\n",
    "freqs = [freq for token, freq in vocab.token_freqs]\n",
    "plt.plot(np.log10(freqs))"
   ]
  },
  {
   "cell_type": "code",
   "execution_count": 4,
   "id": "90b41cd0-9929-4eb5-b52d-b338663b1883",
   "metadata": {},
   "outputs": [
    {
     "data": {
      "text/plain": [
       "[(('of', 'the'), 4265),\n",
       " (('to', 'the'), 2385),\n",
       " (('in', 'the'), 2117),\n",
       " (('and', 'the'), 1628),\n",
       " (('cao', 'cao'), 1424),\n",
       " (('on', 'the'), 1129),\n",
       " (('liu', 'bei'), 1067),\n",
       " (('at', 'the'), 949),\n",
       " (('of', 'his'), 884),\n",
       " (('he', 'was'), 823)]"
      ]
     },
     "execution_count": 4,
     "metadata": {},
     "output_type": "execute_result"
    }
   ],
   "source": [
    "# 二元语法的频率\n",
    "\n",
    "bigram_tokens = [pair for pair in zip(corpus[:-1], corpus[1:])]\n",
    "bigram_vocab = utils.Vocab(bigram_tokens)\n",
    "bigram_vocab.token_freqs[:10]"
   ]
  },
  {
   "cell_type": "code",
   "execution_count": 5,
   "id": "5e84da1f-ac7e-422b-8d53-56fa6c6a3080",
   "metadata": {},
   "outputs": [
    {
     "data": {
      "text/plain": [
       "[(('out', 'of', 'the'), 201),\n",
       " (('the', 'ruler', 'of'), 186),\n",
       " (('as', 'soon', 'as'), 175),\n",
       " (('one', 'of', 'the'), 170),\n",
       " (('the', 'army', 'of'), 132),\n",
       " (('the', 'prime', 'minister'), 124),\n",
       " (('said', 'cao', 'cao.'), 121),\n",
       " (('and', 'i', 'will'), 115),\n",
       " (('the', 'soldiers', 'of'), 114),\n",
       " (('the', 'troops', 'of'), 105)]"
      ]
     },
     "execution_count": 5,
     "metadata": {},
     "output_type": "execute_result"
    }
   ],
   "source": [
    "# 三元语法的频率\n",
    "\n",
    "trigram_tokens = [triple for triple in zip(corpus[:-2], corpus[1:-1], corpus[2:])]\n",
    "trigram_vocab = utils.Vocab(trigram_tokens)\n",
    "trigram_vocab.token_freqs[:10]"
   ]
  },
  {
   "cell_type": "code",
   "execution_count": 6,
   "id": "b32321d7-b5a3-4f29-85b0-cf04beab7497",
   "metadata": {},
   "outputs": [
    {
     "data": {
      "text/plain": [
       "<matplotlib.legend.Legend at 0x2469c6f5640>"
      ]
     },
     "execution_count": 6,
     "metadata": {},
     "output_type": "execute_result"
    },
    {
     "data": {
      "image/png": "[encoded data removed]",
      "text/plain": [
       "<Figure size 432x288 with 1 Axes>"
      ]
     },
     "metadata": {
      "needs_background": "light"
     },
     "output_type": "display_data"
    }
   ],
   "source": [
    "bigram_freqs = [freq for token, freq in bigram_vocab.token_freqs]\n",
    "trigram_freqs = [freq for token, freq in trigram_vocab.token_freqs]\n",
    "\n",
    "plt.plot(np.log10(freqs))\n",
    "plt.plot(np.log10(bigram_freqs))\n",
    "plt.plot(np.log10(trigram_freqs))\n",
    "plt.legend(['unigram', 'bigram', 'trigram'])"
   ]
  },
  {
   "cell_type": "code",
   "execution_count": 7,
   "id": "e2c17d8f-1f59-4437-b08f-f1ef1ef99960",
   "metadata": {},
   "outputs": [],
   "source": [
    "# 随机采样\n",
    "\n",
    "def seq_data_iter_random(corpus, batch_size, num_steps):\n",
    "    \"\"\"使用随机抽样生成一个小批量子序列\"\"\"\n",
    "    # 从随机偏移量开始对序列进行分区，随机范围包括num_steps-1\n",
    "    corpus = corpus[random.randint(0, num_steps - 1):]\n",
    "    # 减去1，是因为我们需要考虑标签\n",
    "    num_subseqs = (len(corpus) - 1) // num_steps\n",
    "    # 长度为num_steps的子序列的起始索引\n",
    "    initial_indices = list(range(0, num_subseqs * num_steps, num_steps))\n",
    "    # 在随机抽样的迭代过程中，\n",
    "    # 来自两个相邻的、随机的、小批量中的子序列不一定在原始序列上相邻\n",
    "    random.shuffle(initial_indices)\n",
    "\n",
    "    def data(pos):\n",
    "        # 返回从pos位置开始的长度为num_steps的序列\n",
    "        return corpus[pos: pos + num_steps]\n",
    "\n",
    "    num_batches = num_subseqs // batch_size\n",
    "    for i in range(0, batch_size * num_batches, batch_size):\n",
    "        # 在这里，initial_indices包含子序列的随机起始索引\n",
    "        initial_indices_per_batch = initial_indices[i: i + batch_size]\n",
    "        X = [data(j) for j in initial_indices_per_batch]\n",
    "        Y = [data(j + 1) for j in initial_indices_per_batch]\n",
    "        yield torch.tensor(X), torch.tensor(Y)"
   ]
  },
  {
   "cell_type": "code",
   "execution_count": 8,
   "id": "99ed0b04-210a-4dcf-ae47-7bdd83aeadf7",
   "metadata": {},
   "outputs": [
    {
     "name": "stdout",
     "output_type": "stream",
     "text": [
      "X:  tensor([[10, 11, 12, 13, 14],\n",
      "        [25, 26, 27, 28, 29]]) \n",
      "Y: tensor([[11, 12, 13, 14, 15],\n",
      "        [26, 27, 28, 29, 30]])\n",
      "X:  tensor([[20, 21, 22, 23, 24],\n",
      "        [ 0,  1,  2,  3,  4]]) \n",
      "Y: tensor([[21, 22, 23, 24, 25],\n",
      "        [ 1,  2,  3,  4,  5]])\n",
      "X:  tensor([[15, 16, 17, 18, 19],\n",
      "        [ 5,  6,  7,  8,  9]]) \n",
      "Y: tensor([[16, 17, 18, 19, 20],\n",
      "        [ 6,  7,  8,  9, 10]])\n"
     ]
    }
   ],
   "source": [
    "my_seq = list(range(35))\n",
    "for X, Y in seq_data_iter_random(my_seq, batch_size=2, num_steps=5):\n",
    "    print('X: ', X, '\\nY:', Y)"
   ]
  },
  {
   "cell_type": "code",
   "execution_count": 9,
   "id": "1600a43f-0fb7-428b-a1ec-1bd119645276",
   "metadata": {},
   "outputs": [],
   "source": [
    "# 顺序分区\n",
    "\n",
    "def seq_data_iter_sequential(corpus, batch_size, num_steps):\n",
    "    \"\"\"使用顺序分区生成一个小批量子序列\"\"\"\n",
    "    # 从随机偏移量开始划分序列\n",
    "    offset = random.randint(0, num_steps)\n",
    "    num_tokens = ((len(corpus) - offset - 1) // batch_size) * batch_size\n",
    "    Xs = torch.tensor(corpus[offset: offset + num_tokens])\n",
    "    Ys = torch.tensor(corpus[offset + 1: offset + 1 + num_tokens])\n",
    "    Xs, Ys = Xs.reshape(batch_size, -1), Ys.reshape(batch_size, -1)\n",
    "    num_batches = Xs.shape[1] // num_steps\n",
    "    for i in range(0, num_steps * num_batches, num_steps):\n",
    "        X = Xs[:, i: i + num_steps]\n",
    "        Y = Ys[:, i: i + num_steps]\n",
    "        yield X, Y"
   ]
  },
  {
   "cell_type": "code",
   "execution_count": 10,
   "id": "2b5a811d-18fc-42d0-ad6d-e9aa65fe9f3b",
   "metadata": {},
   "outputs": [
    {
     "name": "stdout",
     "output_type": "stream",
     "text": [
      "X:  tensor([[ 5,  6,  7,  8,  9],\n",
      "        [19, 20, 21, 22, 23]]) \n",
      "Y: tensor([[ 6,  7,  8,  9, 10],\n",
      "        [20, 21, 22, 23, 24]])\n",
      "X:  tensor([[10, 11, 12, 13, 14],\n",
      "        [24, 25, 26, 27, 28]]) \n",
      "Y: tensor([[11, 12, 13, 14, 15],\n",
      "        [25, 26, 27, 28, 29]])\n"
     ]
    }
   ],
   "source": [
    "for X, Y in seq_data_iter_sequential(my_seq, batch_size=2, num_steps=5):\n",
    "    print('X: ', X, '\\nY:', Y)"
   ]
  },
  {
   "cell_type": "code",
   "execution_count": 11,
   "id": "cb2c7fb4-6c42-4907-a707-1886a10ce0c3",
   "metadata": {},
   "outputs": [],
   "source": [
    "class SeqDataLoader:  \n",
    "    \"\"\"加载序列数据的迭代器\"\"\"\n",
    "    def __init__(self, txt_Path: Path, batch_size, num_steps, use_random_iter, max_tokens):\n",
    "        if use_random_iter:\n",
    "            self.data_iter_fn = seq_data_iter_random\n",
    "        else:\n",
    "            self.data_iter_fn = seq_data_iter_sequential\n",
    "        self.corpus, self.vocab = utils.load_corpus_txt(txt_Path, max_tokens=max_tokens)\n",
    "        self.batch_size, self.num_steps = batch_size, num_steps\n",
    "\n",
    "    def __iter__(self):\n",
    "        return self.data_iter_fn(self.corpus, self.batch_size, self.num_steps)"
   ]
  },
  {
   "cell_type": "code",
   "execution_count": 12,
   "id": "a9b14a4e-a5ef-4145-b1c5-fb5ae381b1c6",
   "metadata": {},
   "outputs": [],
   "source": [
    "def load_data_txt(txt_path: Path, batch_size, num_steps, use_random_iter=False, max_tokens=10000):\n",
    "    \"\"\"返回时光机器数据集的迭代器和词表\"\"\"\n",
    "    data_iter = SeqDataLoader(txt_path, batch_size, num_steps, use_random_iter, max_tokens)\n",
    "    return data_iter, data_iter.vocab"
   ]
  },
  {
   "cell_type": "code",
   "execution_count": null,
   "id": "1fe61423-194c-4f76-a90a-ac0f535cbb95",
   "metadata": {},
   "outputs": [],
   "source": []
  }
 ],
 "metadata": {
  "kernelspec": {
   "display_name": "Python 3 (ipykernel)",
   "language": "python",
   "name": "python3"
  },
  "language_info": {
   "codemirror_mode": {
    "name": "ipython",
    "version": 3
   },
   "file_extension": ".py",
   "mimetype": "text/x-python",
   "name": "python",
   "nbconvert_exporter": "python",
   "pygments_lexer": "ipython3",
   "version": "3.9.4"
  }
 },
 "nbformat": 4,
 "nbformat_minor": 5
}
