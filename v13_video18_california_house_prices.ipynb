{
 "cells": [
  {
   "cell_type": "code",
   "execution_count": 1,
   "id": "633307c7-0d77-42e9-a1f3-955736f2d8dc",
   "metadata": {},
   "outputs": [],
   "source": [
    "import torch\n",
    "from torch import nn\n",
    "import utils\n",
    "import pandas as pd\n",
    "import numpy as np\n",
    "from pathlib import Path\n",
    "import matplotlib.pyplot as plt\n",
    "import re"
   ]
  },
  {
   "cell_type": "code",
   "execution_count": 2,
   "id": "484026ff-5013-4a6b-813d-ebf7006abbff",
   "metadata": {},
   "outputs": [],
   "source": [
    "data_dir_path = Path('../data/california_house_prices')\n",
    "train_csv_path = data_dir_path / 'train.csv'\n",
    "test_csv_path = data_dir_path / 'test.csv'"
   ]
  },
  {
   "cell_type": "code",
   "execution_count": 3,
   "id": "d735a135-0e7b-4273-8cba-140ac6147d77",
   "metadata": {},
   "outputs": [
    {
     "data": {
      "text/plain": [
       "((47439, 41), (31626, 40))"
      ]
     },
     "execution_count": 3,
     "metadata": {},
     "output_type": "execute_result"
    }
   ],
   "source": [
    "train_df = pd.read_csv(train_csv_path.as_posix())\n",
    "test_df = pd.read_csv(test_csv_path.as_posix())\n",
    "train_df.shape, test_df.shape"
   ]
  },
  {
   "cell_type": "code",
   "execution_count": 4,
   "id": "1637a9a8-9d59-4f8e-a014-ad4aef38ca85",
   "metadata": {},
   "outputs": [
    {
     "data": {
      "text/html": [
       "<div>\n",
       "<style scoped>\n",
       "    .dataframe tbody tr th:only-of-type {\n",
       "        vertical-align: middle;\n",
       "    }\n",
       "\n",
       "    .dataframe tbody tr th {\n",
       "        vertical-align: top;\n",
       "    }\n",
       "\n",
       "    .dataframe thead th {\n",
       "        text-align: right;\n",
       "    }\n",
       "</style>\n",
       "<table border=\"1\" class=\"dataframe\">\n",
       "  <thead>\n",
       "    <tr style=\"text-align: right;\">\n",
       "      <th></th>\n",
       "      <th>Id</th>\n",
       "      <th>Address</th>\n",
       "      <th>Sold Price</th>\n",
       "      <th>Summary</th>\n",
       "      <th>Type</th>\n",
       "      <th>Year built</th>\n",
       "      <th>Heating</th>\n",
       "      <th>Cooling</th>\n",
       "      <th>Parking</th>\n",
       "      <th>Lot</th>\n",
       "      <th>...</th>\n",
       "      <th>Parking features</th>\n",
       "      <th>Tax assessed value</th>\n",
       "      <th>Annual tax amount</th>\n",
       "      <th>Listed On</th>\n",
       "      <th>Listed Price</th>\n",
       "      <th>Last Sold On</th>\n",
       "      <th>Last Sold Price</th>\n",
       "      <th>City</th>\n",
       "      <th>Zip</th>\n",
       "      <th>State</th>\n",
       "    </tr>\n",
       "  </thead>\n",
       "  <tbody>\n",
       "    <tr>\n",
       "      <th>0</th>\n",
       "      <td>0</td>\n",
       "      <td>540 Pine Ln</td>\n",
       "      <td>3825000.0</td>\n",
       "      <td>540 Pine Ln, Los Altos, CA 94022 is a single f...</td>\n",
       "      <td>SingleFamily</td>\n",
       "      <td>1969.0</td>\n",
       "      <td>Heating - 2+ Zones, Central Forced Air - Gas</td>\n",
       "      <td>Multi-Zone, Central AC, Whole House / Attic Fan</td>\n",
       "      <td>Garage, Garage - Attached, Covered</td>\n",
       "      <td>1.0</td>\n",
       "      <td>...</td>\n",
       "      <td>Garage, Garage - Attached, Covered</td>\n",
       "      <td>886486.0</td>\n",
       "      <td>12580.0</td>\n",
       "      <td>2019-10-24</td>\n",
       "      <td>4198000.0</td>\n",
       "      <td>NaN</td>\n",
       "      <td>NaN</td>\n",
       "      <td>Los Altos</td>\n",
       "      <td>94022</td>\n",
       "      <td>CA</td>\n",
       "    </tr>\n",
       "    <tr>\n",
       "      <th>1</th>\n",
       "      <td>1</td>\n",
       "      <td>1727 W 67th St</td>\n",
       "      <td>505000.0</td>\n",
       "      <td>HURRY, HURRY.......Great house 3 bed and 2 bat...</td>\n",
       "      <td>SingleFamily</td>\n",
       "      <td>1926.0</td>\n",
       "      <td>Combination</td>\n",
       "      <td>Wall/Window Unit(s), Evaporative Cooling, See ...</td>\n",
       "      <td>Detached Carport, Garage</td>\n",
       "      <td>4047.0</td>\n",
       "      <td>...</td>\n",
       "      <td>Detached Carport, Garage</td>\n",
       "      <td>505000.0</td>\n",
       "      <td>6253.0</td>\n",
       "      <td>2019-10-16</td>\n",
       "      <td>525000.0</td>\n",
       "      <td>2019-08-30</td>\n",
       "      <td>328000.0</td>\n",
       "      <td>Los Angeles</td>\n",
       "      <td>90047</td>\n",
       "      <td>CA</td>\n",
       "    </tr>\n",
       "    <tr>\n",
       "      <th>2</th>\n",
       "      <td>2</td>\n",
       "      <td>28093 Pine Ave</td>\n",
       "      <td>140000.0</td>\n",
       "      <td>'THE PERFECT CABIN TO FLIP!  Strawberry deligh...</td>\n",
       "      <td>SingleFamily</td>\n",
       "      <td>1958.0</td>\n",
       "      <td>Forced air</td>\n",
       "      <td>NaN</td>\n",
       "      <td>0 spaces</td>\n",
       "      <td>9147.0</td>\n",
       "      <td>...</td>\n",
       "      <td>NaN</td>\n",
       "      <td>49627.0</td>\n",
       "      <td>468.0</td>\n",
       "      <td>2019-08-25</td>\n",
       "      <td>180000.0</td>\n",
       "      <td>NaN</td>\n",
       "      <td>NaN</td>\n",
       "      <td>Strawberry</td>\n",
       "      <td>95375</td>\n",
       "      <td>CA</td>\n",
       "    </tr>\n",
       "    <tr>\n",
       "      <th>3</th>\n",
       "      <td>3</td>\n",
       "      <td>10750 Braddock Dr</td>\n",
       "      <td>1775000.0</td>\n",
       "      <td>Rare 2-story Gated 5 bedroom Modern Mediterran...</td>\n",
       "      <td>SingleFamily</td>\n",
       "      <td>1947.0</td>\n",
       "      <td>Central</td>\n",
       "      <td>Central Air</td>\n",
       "      <td>Detached Carport, Driveway, Garage - Two Door</td>\n",
       "      <td>NaN</td>\n",
       "      <td>...</td>\n",
       "      <td>Detached Carport, Driveway, Garage - Two Door</td>\n",
       "      <td>1775000.0</td>\n",
       "      <td>20787.0</td>\n",
       "      <td>2019-10-24</td>\n",
       "      <td>1895000.0</td>\n",
       "      <td>2016-08-30</td>\n",
       "      <td>1500000.0</td>\n",
       "      <td>Culver City</td>\n",
       "      <td>90230</td>\n",
       "      <td>CA</td>\n",
       "    </tr>\n",
       "    <tr>\n",
       "      <th>4</th>\n",
       "      <td>4</td>\n",
       "      <td>7415 O Donovan Rd</td>\n",
       "      <td>1175000.0</td>\n",
       "      <td>Beautiful 200 acre ranch land with several pas...</td>\n",
       "      <td>VacantLand</td>\n",
       "      <td>NaN</td>\n",
       "      <td>NaN</td>\n",
       "      <td>NaN</td>\n",
       "      <td>0 spaces</td>\n",
       "      <td>NaN</td>\n",
       "      <td>...</td>\n",
       "      <td>NaN</td>\n",
       "      <td>NaN</td>\n",
       "      <td>NaN</td>\n",
       "      <td>2019-06-07</td>\n",
       "      <td>1595000.0</td>\n",
       "      <td>2016-06-27</td>\n",
       "      <td>900000.0</td>\n",
       "      <td>Creston</td>\n",
       "      <td>93432</td>\n",
       "      <td>CA</td>\n",
       "    </tr>\n",
       "  </tbody>\n",
       "</table>\n",
       "<p>5 rows × 41 columns</p>\n",
       "</div>"
      ],
      "text/plain": [
       "   Id            Address  Sold Price  \\\n",
       "0   0        540 Pine Ln   3825000.0   \n",
       "1   1     1727 W 67th St    505000.0   \n",
       "2   2     28093 Pine Ave    140000.0   \n",
       "3   3  10750 Braddock Dr   1775000.0   \n",
       "4   4  7415 O Donovan Rd   1175000.0   \n",
       "\n",
       "                                             Summary          Type  \\\n",
       "0  540 Pine Ln, Los Altos, CA 94022 is a single f...  SingleFamily   \n",
       "1  HURRY, HURRY.......Great house 3 bed and 2 bat...  SingleFamily   \n",
       "2  'THE PERFECT CABIN TO FLIP!  Strawberry deligh...  SingleFamily   \n",
       "3  Rare 2-story Gated 5 bedroom Modern Mediterran...  SingleFamily   \n",
       "4  Beautiful 200 acre ranch land with several pas...    VacantLand   \n",
       "\n",
       "   Year built                                       Heating  \\\n",
       "0      1969.0  Heating - 2+ Zones, Central Forced Air - Gas   \n",
       "1      1926.0                                   Combination   \n",
       "2      1958.0                                    Forced air   \n",
       "3      1947.0                                       Central   \n",
       "4         NaN                                           NaN   \n",
       "\n",
       "                                             Cooling  \\\n",
       "0    Multi-Zone, Central AC, Whole House / Attic Fan   \n",
       "1  Wall/Window Unit(s), Evaporative Cooling, See ...   \n",
       "2                                                NaN   \n",
       "3                                        Central Air   \n",
       "4                                                NaN   \n",
       "\n",
       "                                         Parking     Lot  ...  \\\n",
       "0             Garage, Garage - Attached, Covered     1.0  ...   \n",
       "1                       Detached Carport, Garage  4047.0  ...   \n",
       "2                                       0 spaces  9147.0  ...   \n",
       "3  Detached Carport, Driveway, Garage - Two Door     NaN  ...   \n",
       "4                                       0 spaces     NaN  ...   \n",
       "\n",
       "                                Parking features  Tax assessed value  \\\n",
       "0             Garage, Garage - Attached, Covered            886486.0   \n",
       "1                       Detached Carport, Garage            505000.0   \n",
       "2                                            NaN             49627.0   \n",
       "3  Detached Carport, Driveway, Garage - Two Door           1775000.0   \n",
       "4                                            NaN                 NaN   \n",
       "\n",
       "   Annual tax amount   Listed On  Listed Price  Last Sold On Last Sold Price  \\\n",
       "0            12580.0  2019-10-24     4198000.0           NaN             NaN   \n",
       "1             6253.0  2019-10-16      525000.0    2019-08-30        328000.0   \n",
       "2              468.0  2019-08-25      180000.0           NaN             NaN   \n",
       "3            20787.0  2019-10-24     1895000.0    2016-08-30       1500000.0   \n",
       "4                NaN  2019-06-07     1595000.0    2016-06-27        900000.0   \n",
       "\n",
       "          City    Zip  State  \n",
       "0    Los Altos  94022     CA  \n",
       "1  Los Angeles  90047     CA  \n",
       "2   Strawberry  95375     CA  \n",
       "3  Culver City  90230     CA  \n",
       "4      Creston  93432     CA  \n",
       "\n",
       "[5 rows x 41 columns]"
      ]
     },
     "execution_count": 4,
     "metadata": {},
     "output_type": "execute_result"
    }
   ],
   "source": [
    "train_df.head(5)"
   ]
  },
  {
   "cell_type": "code",
   "execution_count": 5,
   "id": "92b4ca2c-4a9b-4596-9e14-fbb6a066fe03",
   "metadata": {},
   "outputs": [
    {
     "data": {
      "text/html": [
       "<div>\n",
       "<style scoped>\n",
       "    .dataframe tbody tr th:only-of-type {\n",
       "        vertical-align: middle;\n",
       "    }\n",
       "\n",
       "    .dataframe tbody tr th {\n",
       "        vertical-align: top;\n",
       "    }\n",
       "\n",
       "    .dataframe thead th {\n",
       "        text-align: right;\n",
       "    }\n",
       "</style>\n",
       "<table border=\"1\" class=\"dataframe\">\n",
       "  <thead>\n",
       "    <tr style=\"text-align: right;\">\n",
       "      <th></th>\n",
       "      <th>Address</th>\n",
       "      <th>Sold Price</th>\n",
       "      <th>Summary</th>\n",
       "      <th>Type</th>\n",
       "      <th>Year built</th>\n",
       "      <th>Heating</th>\n",
       "      <th>Cooling</th>\n",
       "      <th>Parking</th>\n",
       "      <th>Lot</th>\n",
       "      <th>Bedrooms</th>\n",
       "      <th>...</th>\n",
       "      <th>Parking features</th>\n",
       "      <th>Tax assessed value</th>\n",
       "      <th>Annual tax amount</th>\n",
       "      <th>Listed On</th>\n",
       "      <th>Listed Price</th>\n",
       "      <th>Last Sold On</th>\n",
       "      <th>Last Sold Price</th>\n",
       "      <th>City</th>\n",
       "      <th>Zip</th>\n",
       "      <th>State</th>\n",
       "    </tr>\n",
       "  </thead>\n",
       "  <tbody>\n",
       "    <tr>\n",
       "      <th>0</th>\n",
       "      <td>540 Pine Ln</td>\n",
       "      <td>3825000.0</td>\n",
       "      <td>540 Pine Ln, Los Altos, CA 94022 is a single f...</td>\n",
       "      <td>SingleFamily</td>\n",
       "      <td>1969.0</td>\n",
       "      <td>Heating - 2+ Zones, Central Forced Air - Gas</td>\n",
       "      <td>Multi-Zone, Central AC, Whole House / Attic Fan</td>\n",
       "      <td>Garage, Garage - Attached, Covered</td>\n",
       "      <td>1.0</td>\n",
       "      <td>Ground Floor Bedroom, Master Bedroom on Ground...</td>\n",
       "      <td>...</td>\n",
       "      <td>Garage, Garage - Attached, Covered</td>\n",
       "      <td>886486.0</td>\n",
       "      <td>12580.0</td>\n",
       "      <td>2019-10-24</td>\n",
       "      <td>4198000.0</td>\n",
       "      <td>NaN</td>\n",
       "      <td>NaN</td>\n",
       "      <td>Los Altos</td>\n",
       "      <td>94022</td>\n",
       "      <td>CA</td>\n",
       "    </tr>\n",
       "    <tr>\n",
       "      <th>1</th>\n",
       "      <td>1727 W 67th St</td>\n",
       "      <td>505000.0</td>\n",
       "      <td>HURRY, HURRY.......Great house 3 bed and 2 bat...</td>\n",
       "      <td>SingleFamily</td>\n",
       "      <td>1926.0</td>\n",
       "      <td>Combination</td>\n",
       "      <td>Wall/Window Unit(s), Evaporative Cooling, See ...</td>\n",
       "      <td>Detached Carport, Garage</td>\n",
       "      <td>4047.0</td>\n",
       "      <td>3</td>\n",
       "      <td>...</td>\n",
       "      <td>Detached Carport, Garage</td>\n",
       "      <td>505000.0</td>\n",
       "      <td>6253.0</td>\n",
       "      <td>2019-10-16</td>\n",
       "      <td>525000.0</td>\n",
       "      <td>2019-08-30</td>\n",
       "      <td>328000.0</td>\n",
       "      <td>Los Angeles</td>\n",
       "      <td>90047</td>\n",
       "      <td>CA</td>\n",
       "    </tr>\n",
       "    <tr>\n",
       "      <th>2</th>\n",
       "      <td>28093 Pine Ave</td>\n",
       "      <td>140000.0</td>\n",
       "      <td>'THE PERFECT CABIN TO FLIP!  Strawberry deligh...</td>\n",
       "      <td>SingleFamily</td>\n",
       "      <td>1958.0</td>\n",
       "      <td>Forced air</td>\n",
       "      <td>NaN</td>\n",
       "      <td>0 spaces</td>\n",
       "      <td>9147.0</td>\n",
       "      <td>2</td>\n",
       "      <td>...</td>\n",
       "      <td>NaN</td>\n",
       "      <td>49627.0</td>\n",
       "      <td>468.0</td>\n",
       "      <td>2019-08-25</td>\n",
       "      <td>180000.0</td>\n",
       "      <td>NaN</td>\n",
       "      <td>NaN</td>\n",
       "      <td>Strawberry</td>\n",
       "      <td>95375</td>\n",
       "      <td>CA</td>\n",
       "    </tr>\n",
       "    <tr>\n",
       "      <th>3</th>\n",
       "      <td>10750 Braddock Dr</td>\n",
       "      <td>1775000.0</td>\n",
       "      <td>Rare 2-story Gated 5 bedroom Modern Mediterran...</td>\n",
       "      <td>SingleFamily</td>\n",
       "      <td>1947.0</td>\n",
       "      <td>Central</td>\n",
       "      <td>Central Air</td>\n",
       "      <td>Detached Carport, Driveway, Garage - Two Door</td>\n",
       "      <td>NaN</td>\n",
       "      <td>5</td>\n",
       "      <td>...</td>\n",
       "      <td>Detached Carport, Driveway, Garage - Two Door</td>\n",
       "      <td>1775000.0</td>\n",
       "      <td>20787.0</td>\n",
       "      <td>2019-10-24</td>\n",
       "      <td>1895000.0</td>\n",
       "      <td>2016-08-30</td>\n",
       "      <td>1500000.0</td>\n",
       "      <td>Culver City</td>\n",
       "      <td>90230</td>\n",
       "      <td>CA</td>\n",
       "    </tr>\n",
       "    <tr>\n",
       "      <th>4</th>\n",
       "      <td>7415 O Donovan Rd</td>\n",
       "      <td>1175000.0</td>\n",
       "      <td>Beautiful 200 acre ranch land with several pas...</td>\n",
       "      <td>VacantLand</td>\n",
       "      <td>NaN</td>\n",
       "      <td>NaN</td>\n",
       "      <td>NaN</td>\n",
       "      <td>0 spaces</td>\n",
       "      <td>NaN</td>\n",
       "      <td>NaN</td>\n",
       "      <td>...</td>\n",
       "      <td>NaN</td>\n",
       "      <td>NaN</td>\n",
       "      <td>NaN</td>\n",
       "      <td>2019-06-07</td>\n",
       "      <td>1595000.0</td>\n",
       "      <td>2016-06-27</td>\n",
       "      <td>900000.0</td>\n",
       "      <td>Creston</td>\n",
       "      <td>93432</td>\n",
       "      <td>CA</td>\n",
       "    </tr>\n",
       "  </tbody>\n",
       "</table>\n",
       "<p>5 rows × 40 columns</p>\n",
       "</div>"
      ],
      "text/plain": [
       "             Address  Sold Price  \\\n",
       "0        540 Pine Ln   3825000.0   \n",
       "1     1727 W 67th St    505000.0   \n",
       "2     28093 Pine Ave    140000.0   \n",
       "3  10750 Braddock Dr   1775000.0   \n",
       "4  7415 O Donovan Rd   1175000.0   \n",
       "\n",
       "                                             Summary          Type  \\\n",
       "0  540 Pine Ln, Los Altos, CA 94022 is a single f...  SingleFamily   \n",
       "1  HURRY, HURRY.......Great house 3 bed and 2 bat...  SingleFamily   \n",
       "2  'THE PERFECT CABIN TO FLIP!  Strawberry deligh...  SingleFamily   \n",
       "3  Rare 2-story Gated 5 bedroom Modern Mediterran...  SingleFamily   \n",
       "4  Beautiful 200 acre ranch land with several pas...    VacantLand   \n",
       "\n",
       "   Year built                                       Heating  \\\n",
       "0      1969.0  Heating - 2+ Zones, Central Forced Air - Gas   \n",
       "1      1926.0                                   Combination   \n",
       "2      1958.0                                    Forced air   \n",
       "3      1947.0                                       Central   \n",
       "4         NaN                                           NaN   \n",
       "\n",
       "                                             Cooling  \\\n",
       "0    Multi-Zone, Central AC, Whole House / Attic Fan   \n",
       "1  Wall/Window Unit(s), Evaporative Cooling, See ...   \n",
       "2                                                NaN   \n",
       "3                                        Central Air   \n",
       "4                                                NaN   \n",
       "\n",
       "                                         Parking     Lot  \\\n",
       "0             Garage, Garage - Attached, Covered     1.0   \n",
       "1                       Detached Carport, Garage  4047.0   \n",
       "2                                       0 spaces  9147.0   \n",
       "3  Detached Carport, Driveway, Garage - Two Door     NaN   \n",
       "4                                       0 spaces     NaN   \n",
       "\n",
       "                                            Bedrooms  ...  \\\n",
       "0  Ground Floor Bedroom, Master Bedroom on Ground...  ...   \n",
       "1                                                  3  ...   \n",
       "2                                                  2  ...   \n",
       "3                                                  5  ...   \n",
       "4                                                NaN  ...   \n",
       "\n",
       "                                Parking features  Tax assessed value  \\\n",
       "0             Garage, Garage - Attached, Covered            886486.0   \n",
       "1                       Detached Carport, Garage            505000.0   \n",
       "2                                            NaN             49627.0   \n",
       "3  Detached Carport, Driveway, Garage - Two Door           1775000.0   \n",
       "4                                            NaN                 NaN   \n",
       "\n",
       "   Annual tax amount   Listed On  Listed Price Last Sold On Last Sold Price  \\\n",
       "0            12580.0  2019-10-24     4198000.0          NaN             NaN   \n",
       "1             6253.0  2019-10-16      525000.0   2019-08-30        328000.0   \n",
       "2              468.0  2019-08-25      180000.0          NaN             NaN   \n",
       "3            20787.0  2019-10-24     1895000.0   2016-08-30       1500000.0   \n",
       "4                NaN  2019-06-07     1595000.0   2016-06-27        900000.0   \n",
       "\n",
       "          City    Zip State  \n",
       "0    Los Altos  94022    CA  \n",
       "1  Los Angeles  90047    CA  \n",
       "2   Strawberry  95375    CA  \n",
       "3  Culver City  90230    CA  \n",
       "4      Creston  93432    CA  \n",
       "\n",
       "[5 rows x 40 columns]"
      ]
     },
     "execution_count": 5,
     "metadata": {},
     "output_type": "execute_result"
    }
   ],
   "source": [
    "train_df_no_id = train_df[train_df.columns[1:]]\n",
    "train_df_no_id.head(5)"
   ]
  },
  {
   "cell_type": "code",
   "execution_count": 6,
   "id": "8c036c93-c3d1-45d1-aa36-4a53e2f0b1fe",
   "metadata": {},
   "outputs": [
    {
     "data": {
      "text/plain": [
       "(Sold Price                     1.000000\n",
       " Annual tax amount              0.746221\n",
       " Tax assessed value             0.743233\n",
       " Last Sold Price                0.706779\n",
       " Listed Price                   0.612651\n",
       " Full bathrooms                 0.544245\n",
       " Bathrooms                      0.516208\n",
       " Elementary School Score        0.275555\n",
       " Middle School Score            0.244285\n",
       " High School Score              0.191616\n",
       " High School Distance           0.099491\n",
       " Elementary School Distance     0.086177\n",
       " Middle School Distance         0.059330\n",
       " Zip                            0.049961\n",
       " Year built                     0.027095\n",
       " Garage spaces                  0.009288\n",
       " Total spaces                   0.007492\n",
       " Lot                            0.006610\n",
       " Total interior livable area    0.001520\n",
       " Name: Sold Price, dtype: float64,\n",
       " (19,))"
      ]
     },
     "execution_count": 6,
     "metadata": {},
     "output_type": "execute_result"
    }
   ],
   "source": [
    "train_saleprice_corr = abs(train_df_no_id.corr()['Sold Price']).sort_values(ascending=False)\n",
    "train_saleprice_corr, train_saleprice_corr.shape"
   ]
  },
  {
   "cell_type": "code",
   "execution_count": 7,
   "id": "fa08b686-cad9-402a-bdf1-b076e7ae4ecc",
   "metadata": {},
   "outputs": [
    {
     "data": {
      "image/png": "[encoded data removed]",
      "text/plain": [
       "<Figure size 432x288 with 1 Axes>"
      ]
     },
     "metadata": {
      "needs_background": "light"
     },
     "output_type": "display_data"
    }
   ],
   "source": [
    "plt.bar(x=train_saleprice_corr.index, height=train_saleprice_corr.values)\n",
    "plt.xticks(rotation=90)\n",
    "plt.show()"
   ]
  },
  {
   "cell_type": "code",
   "execution_count": 8,
   "id": "4aa08463-eaa4-4e3b-a87f-21ab82a7c8ce",
   "metadata": {},
   "outputs": [
    {
     "data": {
      "image/png": "[encoded data removed]",
      "text/plain": [
       "<Figure size 432x288 with 1 Axes>"
      ]
     },
     "metadata": {
      "needs_background": "light"
     },
     "output_type": "display_data"
    }
   ],
   "source": [
    "plt.hist(train_df['Sold Price'], bins=50)\n",
    "plt.show()"
   ]
  },
  {
   "cell_type": "code",
   "execution_count": 9,
   "id": "a50423af-36a9-4229-88d0-e664c718ad91",
   "metadata": {},
   "outputs": [
    {
     "data": {
      "image/png": "[encoded data removed]",
      "text/plain": [
       "<Figure size 432x288 with 1 Axes>"
      ]
     },
     "metadata": {
      "needs_background": "light"
     },
     "output_type": "display_data"
    }
   ],
   "source": [
    "plt.hist(np.log(train_df['Sold Price'] + 1), bins=50)\n",
    "plt.show()"
   ]
  },
  {
   "cell_type": "code",
   "execution_count": 10,
   "id": "061846f0-bc06-4bdf-9702-c425eb53de36",
   "metadata": {},
   "outputs": [
    {
     "data": {
      "text/plain": [
       "Index(['Annual tax amount', 'Tax assessed value', 'Last Sold Price',\n",
       "       'Listed Price', 'Full bathrooms', 'Bathrooms',\n",
       "       'Elementary School Score', 'Middle School Score', 'High School Score'],\n",
       "      dtype='object')"
      ]
     },
     "execution_count": 10,
     "metadata": {},
     "output_type": "execute_result"
    }
   ],
   "source": [
    "# 相关性高的9项，可视化\n",
    "top_9_name = train_saleprice_corr.index[1:10]\n",
    "top_9_name"
   ]
  },
  {
   "cell_type": "code",
   "execution_count": 11,
   "id": "fe75477d-225a-4014-860d-be17f5d28fb9",
   "metadata": {},
   "outputs": [
    {
     "data": {
      "image/png": "[encoded data removed]",
      "text/plain": [
       "<Figure size 720x1440 with 9 Axes>"
      ]
     },
     "metadata": {
      "needs_background": "light"
     },
     "output_type": "display_data"
    }
   ],
   "source": [
    "plot_row = 5\n",
    "plot_col = 2\n",
    "\n",
    "fig = plt.figure(figsize=(10, 20))\n",
    "for i in range(plot_row * plot_col - 1):\n",
    "    plt.subplot(plot_row, plot_col, i+1)\n",
    "    plt.scatter(x=train_df[top_9_name[i]], y=train_df['Sold Price'], s=2)\n",
    "    plt.xlabel(top_9_name[i])\n",
    "plt.show()"
   ]
  },
  {
   "cell_type": "code",
   "execution_count": 12,
   "id": "9295ae73-9f26-4bae-a10d-fcc43124813c",
   "metadata": {},
   "outputs": [
    {
     "data": {
      "text/plain": [
       "(47436, 41)"
      ]
     },
     "execution_count": 12,
     "metadata": {},
     "output_type": "execute_result"
    }
   ],
   "source": [
    "# 去除异常值\n",
    "train_df = train_df.drop(train_df[(train_df['Annual tax amount']<100000) & (train_df['Sold Price']>8e7)].index)\n",
    "train_df = train_df.drop(train_df[(train_df['Tax assessed value']<0.5e7) & (train_df['Sold Price']>8e7)].index)\n",
    "train_df = train_df.drop(train_df[(train_df['Last Sold Price']>8e7) & (train_df['Sold Price']<4e7)].index)\n",
    "train_df = train_df.drop(train_df[(train_df['Listed Price']>4e8) & (train_df['Sold Price']<1e7)].index)\n",
    "train_df = train_df.drop(train_df[(train_df['Bathrooms']<10) & (train_df['Sold Price']>8e7)].index)\n",
    "train_df.shape"
   ]
  },
  {
   "cell_type": "code",
   "execution_count": 13,
   "id": "8196a4e8-1864-4dff-8760-3417e99a8e5f",
   "metadata": {},
   "outputs": [
    {
     "data": {
      "text/plain": [
       "(47436, 39)"
      ]
     },
     "execution_count": 13,
     "metadata": {},
     "output_type": "execute_result"
    }
   ],
   "source": [
    "train_df_no_id_label = pd.concat([train_df.iloc[:, 1:2], train_df.iloc[:, 3:]], axis=1)\n",
    "train_df_no_id_label.shape"
   ]
  },
  {
   "cell_type": "code",
   "execution_count": 14,
   "id": "0c3b46f3-b9ec-4b8d-8c59-e1cce14cc554",
   "metadata": {},
   "outputs": [
    {
     "data": {
      "text/plain": [
       "(79062, 39)"
      ]
     },
     "execution_count": 14,
     "metadata": {},
     "output_type": "execute_result"
    }
   ],
   "source": [
    "all_df = pd.concat([train_df_no_id_label, test_df.iloc[:, 1:]], axis=0)\n",
    "all_df.shape"
   ]
  },
  {
   "cell_type": "code",
   "execution_count": 15,
   "id": "cf347dae-2021-4770-bfe1-63b783942771",
   "metadata": {},
   "outputs": [],
   "source": [
    "all_df.reset_index(drop=True, inplace=True)"
   ]
  },
  {
   "cell_type": "code",
   "execution_count": 16,
   "id": "162e9124-6d84-46de-8d28-748eb2669b77",
   "metadata": {},
   "outputs": [
    {
     "data": {
      "text/html": [
       "<div>\n",
       "<style scoped>\n",
       "    .dataframe tbody tr th:only-of-type {\n",
       "        vertical-align: middle;\n",
       "    }\n",
       "\n",
       "    .dataframe tbody tr th {\n",
       "        vertical-align: top;\n",
       "    }\n",
       "\n",
       "    .dataframe thead th {\n",
       "        text-align: right;\n",
       "    }\n",
       "</style>\n",
       "<table border=\"1\" class=\"dataframe\">\n",
       "  <thead>\n",
       "    <tr style=\"text-align: right;\">\n",
       "      <th></th>\n",
       "      <th>Year built</th>\n",
       "      <th>Lot</th>\n",
       "      <th>Bathrooms</th>\n",
       "      <th>Full bathrooms</th>\n",
       "      <th>Total interior livable area</th>\n",
       "      <th>Total spaces</th>\n",
       "      <th>Garage spaces</th>\n",
       "      <th>Elementary School Score</th>\n",
       "      <th>Elementary School Distance</th>\n",
       "      <th>Middle School Score</th>\n",
       "      <th>Middle School Distance</th>\n",
       "      <th>High School Score</th>\n",
       "      <th>High School Distance</th>\n",
       "      <th>Tax assessed value</th>\n",
       "      <th>Annual tax amount</th>\n",
       "      <th>Listed Price</th>\n",
       "      <th>Last Sold Price</th>\n",
       "      <th>Zip</th>\n",
       "    </tr>\n",
       "  </thead>\n",
       "  <tbody>\n",
       "    <tr>\n",
       "      <th>count</th>\n",
       "      <td>77120.000000</td>\n",
       "      <td>5.607400e+04</td>\n",
       "      <td>73653.000000</td>\n",
       "      <td>66136.000000</td>\n",
       "      <td>7.518500e+04</td>\n",
       "      <td>77395.000000</td>\n",
       "      <td>77395.000000</td>\n",
       "      <td>70327.000000</td>\n",
       "      <td>70569.000000</td>\n",
       "      <td>50784.000000</td>\n",
       "      <td>50786.000000</td>\n",
       "      <td>71279.000000</td>\n",
       "      <td>71888.000000</td>\n",
       "      <td>7.273900e+04</td>\n",
       "      <td>71853.000000</td>\n",
       "      <td>7.906200e+04</td>\n",
       "      <td>4.951800e+04</td>\n",
       "      <td>79062.000000</td>\n",
       "    </tr>\n",
       "    <tr>\n",
       "      <th>mean</th>\n",
       "      <td>1962.740275</td>\n",
       "      <td>3.690900e+05</td>\n",
       "      <td>2.391159</td>\n",
       "      <td>2.100172</td>\n",
       "      <td>4.216058e+03</td>\n",
       "      <td>1.861877</td>\n",
       "      <td>1.690794</td>\n",
       "      <td>5.710126</td>\n",
       "      <td>1.141058</td>\n",
       "      <td>5.250000</td>\n",
       "      <td>1.710716</td>\n",
       "      <td>6.160061</td>\n",
       "      <td>2.349050</td>\n",
       "      <td>6.849754e+05</td>\n",
       "      <td>8657.898710</td>\n",
       "      <td>1.132434e+06</td>\n",
       "      <td>6.948855e+05</td>\n",
       "      <td>93163.452278</td>\n",
       "    </tr>\n",
       "    <tr>\n",
       "      <th>std</th>\n",
       "      <td>129.069100</td>\n",
       "      <td>1.996235e+07</td>\n",
       "      <td>1.161559</td>\n",
       "      <td>0.941884</td>\n",
       "      <td>6.433898e+05</td>\n",
       "      <td>13.738901</td>\n",
       "      <td>13.677014</td>\n",
       "      <td>2.071204</td>\n",
       "      <td>2.184171</td>\n",
       "      <td>2.022071</td>\n",
       "      <td>2.321423</td>\n",
       "      <td>1.979889</td>\n",
       "      <td>3.297142</td>\n",
       "      <td>1.017706e+06</td>\n",
       "      <td>12661.939984</td>\n",
       "      <td>1.588811e+06</td>\n",
       "      <td>9.267232e+05</td>\n",
       "      <td>2088.309530</td>\n",
       "    </tr>\n",
       "    <tr>\n",
       "      <th>min</th>\n",
       "      <td>0.000000</td>\n",
       "      <td>0.000000e+00</td>\n",
       "      <td>0.000000</td>\n",
       "      <td>1.000000</td>\n",
       "      <td>1.000000e+00</td>\n",
       "      <td>-15.000000</td>\n",
       "      <td>-15.000000</td>\n",
       "      <td>1.000000</td>\n",
       "      <td>0.000000</td>\n",
       "      <td>1.000000</td>\n",
       "      <td>0.000000</td>\n",
       "      <td>1.000000</td>\n",
       "      <td>0.000000</td>\n",
       "      <td>0.000000e+00</td>\n",
       "      <td>0.000000</td>\n",
       "      <td>0.000000e+00</td>\n",
       "      <td>0.000000e+00</td>\n",
       "      <td>85611.000000</td>\n",
       "    </tr>\n",
       "    <tr>\n",
       "      <th>25%</th>\n",
       "      <td>1950.000000</td>\n",
       "      <td>5.087000e+03</td>\n",
       "      <td>2.000000</td>\n",
       "      <td>2.000000</td>\n",
       "      <td>1.200000e+03</td>\n",
       "      <td>0.000000</td>\n",
       "      <td>0.000000</td>\n",
       "      <td>4.000000</td>\n",
       "      <td>0.300000</td>\n",
       "      <td>3.000000</td>\n",
       "      <td>0.700000</td>\n",
       "      <td>5.000000</td>\n",
       "      <td>0.800000</td>\n",
       "      <td>2.250730e+05</td>\n",
       "      <td>3024.000000</td>\n",
       "      <td>4.800000e+05</td>\n",
       "      <td>2.790000e+05</td>\n",
       "      <td>91360.000000</td>\n",
       "    </tr>\n",
       "    <tr>\n",
       "      <th>50%</th>\n",
       "      <td>1972.000000</td>\n",
       "      <td>6.753000e+03</td>\n",
       "      <td>2.000000</td>\n",
       "      <td>2.000000</td>\n",
       "      <td>1.586000e+03</td>\n",
       "      <td>2.000000</td>\n",
       "      <td>2.000000</td>\n",
       "      <td>6.000000</td>\n",
       "      <td>0.600000</td>\n",
       "      <td>5.000000</td>\n",
       "      <td>1.100000</td>\n",
       "      <td>6.000000</td>\n",
       "      <td>1.400000</td>\n",
       "      <td>4.534510e+05</td>\n",
       "      <td>5912.000000</td>\n",
       "      <td>7.950000e+05</td>\n",
       "      <td>4.950000e+05</td>\n",
       "      <td>94025.000000</td>\n",
       "    </tr>\n",
       "    <tr>\n",
       "      <th>75%</th>\n",
       "      <td>1992.000000</td>\n",
       "      <td>1.063150e+04</td>\n",
       "      <td>3.000000</td>\n",
       "      <td>2.000000</td>\n",
       "      <td>2.167000e+03</td>\n",
       "      <td>2.000000</td>\n",
       "      <td>2.000000</td>\n",
       "      <td>7.000000</td>\n",
       "      <td>1.000000</td>\n",
       "      <td>7.000000</td>\n",
       "      <td>1.900000</td>\n",
       "      <td>8.000000</td>\n",
       "      <td>2.400000</td>\n",
       "      <td>8.179560e+05</td>\n",
       "      <td>10451.000000</td>\n",
       "      <td>1.299000e+06</td>\n",
       "      <td>8.200000e+05</td>\n",
       "      <td>95051.000000</td>\n",
       "    </tr>\n",
       "    <tr>\n",
       "      <th>max</th>\n",
       "      <td>9999.000000</td>\n",
       "      <td>2.217378e+09</td>\n",
       "      <td>24.000000</td>\n",
       "      <td>24.000000</td>\n",
       "      <td>1.764164e+08</td>\n",
       "      <td>3109.000000</td>\n",
       "      <td>3109.000000</td>\n",
       "      <td>10.000000</td>\n",
       "      <td>57.200000</td>\n",
       "      <td>10.000000</td>\n",
       "      <td>57.200000</td>\n",
       "      <td>10.000000</td>\n",
       "      <td>73.900000</td>\n",
       "      <td>4.389089e+07</td>\n",
       "      <td>999999.000000</td>\n",
       "      <td>7.500000e+07</td>\n",
       "      <td>3.900000e+07</td>\n",
       "      <td>96155.000000</td>\n",
       "    </tr>\n",
       "  </tbody>\n",
       "</table>\n",
       "</div>"
      ],
      "text/plain": [
       "         Year built           Lot     Bathrooms  Full bathrooms  \\\n",
       "count  77120.000000  5.607400e+04  73653.000000    66136.000000   \n",
       "mean    1962.740275  3.690900e+05      2.391159        2.100172   \n",
       "std      129.069100  1.996235e+07      1.161559        0.941884   \n",
       "min        0.000000  0.000000e+00      0.000000        1.000000   \n",
       "25%     1950.000000  5.087000e+03      2.000000        2.000000   \n",
       "50%     1972.000000  6.753000e+03      2.000000        2.000000   \n",
       "75%     1992.000000  1.063150e+04      3.000000        2.000000   \n",
       "max     9999.000000  2.217378e+09     24.000000       24.000000   \n",
       "\n",
       "       Total interior livable area  Total spaces  Garage spaces  \\\n",
       "count                 7.518500e+04  77395.000000   77395.000000   \n",
       "mean                  4.216058e+03      1.861877       1.690794   \n",
       "std                   6.433898e+05     13.738901      13.677014   \n",
       "min                   1.000000e+00    -15.000000     -15.000000   \n",
       "25%                   1.200000e+03      0.000000       0.000000   \n",
       "50%                   1.586000e+03      2.000000       2.000000   \n",
       "75%                   2.167000e+03      2.000000       2.000000   \n",
       "max                   1.764164e+08   3109.000000    3109.000000   \n",
       "\n",
       "       Elementary School Score  Elementary School Distance  \\\n",
       "count             70327.000000                70569.000000   \n",
       "mean                  5.710126                    1.141058   \n",
       "std                   2.071204                    2.184171   \n",
       "min                   1.000000                    0.000000   \n",
       "25%                   4.000000                    0.300000   \n",
       "50%                   6.000000                    0.600000   \n",
       "75%                   7.000000                    1.000000   \n",
       "max                  10.000000                   57.200000   \n",
       "\n",
       "       Middle School Score  Middle School Distance  High School Score  \\\n",
       "count         50784.000000            50786.000000       71279.000000   \n",
       "mean              5.250000                1.710716           6.160061   \n",
       "std               2.022071                2.321423           1.979889   \n",
       "min               1.000000                0.000000           1.000000   \n",
       "25%               3.000000                0.700000           5.000000   \n",
       "50%               5.000000                1.100000           6.000000   \n",
       "75%               7.000000                1.900000           8.000000   \n",
       "max              10.000000               57.200000          10.000000   \n",
       "\n",
       "       High School Distance  Tax assessed value  Annual tax amount  \\\n",
       "count          71888.000000        7.273900e+04       71853.000000   \n",
       "mean               2.349050        6.849754e+05        8657.898710   \n",
       "std                3.297142        1.017706e+06       12661.939984   \n",
       "min                0.000000        0.000000e+00           0.000000   \n",
       "25%                0.800000        2.250730e+05        3024.000000   \n",
       "50%                1.400000        4.534510e+05        5912.000000   \n",
       "75%                2.400000        8.179560e+05       10451.000000   \n",
       "max               73.900000        4.389089e+07      999999.000000   \n",
       "\n",
       "       Listed Price  Last Sold Price           Zip  \n",
       "count  7.906200e+04     4.951800e+04  79062.000000  \n",
       "mean   1.132434e+06     6.948855e+05  93163.452278  \n",
       "std    1.588811e+06     9.267232e+05   2088.309530  \n",
       "min    0.000000e+00     0.000000e+00  85611.000000  \n",
       "25%    4.800000e+05     2.790000e+05  91360.000000  \n",
       "50%    7.950000e+05     4.950000e+05  94025.000000  \n",
       "75%    1.299000e+06     8.200000e+05  95051.000000  \n",
       "max    7.500000e+07     3.900000e+07  96155.000000  "
      ]
     },
     "execution_count": 16,
     "metadata": {},
     "output_type": "execute_result"
    }
   ],
   "source": [
    "all_df.describe()"
   ]
  },
  {
   "cell_type": "code",
   "execution_count": 17,
   "id": "2179ac2b-4a22-4636-bcba-baa7df80b180",
   "metadata": {},
   "outputs": [
    {
     "name": "stdout",
     "output_type": "stream",
     "text": [
      "<class 'pandas.core.frame.DataFrame'>\n",
      "RangeIndex: 79062 entries, 0 to 79061\n",
      "Data columns (total 39 columns):\n",
      " #   Column                       Non-Null Count  Dtype  \n",
      "---  ------                       --------------  -----  \n",
      " 0   Address                      79062 non-null  object \n",
      " 1   Summary                      78223 non-null  object \n",
      " 2   Type                         79062 non-null  object \n",
      " 3   Year built                   77120 non-null  float64\n",
      " 4   Heating                      67550 non-null  object \n",
      " 5   Cooling                      63953 non-null  object \n",
      " 6   Parking                      77386 non-null  object \n",
      " 7   Lot                          56074 non-null  float64\n",
      " 8   Bedrooms                     74465 non-null  object \n",
      " 9   Bathrooms                    73653 non-null  float64\n",
      " 10  Full bathrooms               66136 non-null  float64\n",
      " 11  Total interior livable area  75185 non-null  float64\n",
      " 12  Total spaces                 77395 non-null  float64\n",
      " 13  Garage spaces                77395 non-null  float64\n",
      " 14  Region                       79060 non-null  object \n",
      " 15  Elementary School            70569 non-null  object \n",
      " 16  Elementary School Score      70327 non-null  float64\n",
      " 17  Elementary School Distance   70569 non-null  float64\n",
      " 18  Middle School                50786 non-null  object \n",
      " 19  Middle School Score          50784 non-null  float64\n",
      " 20  Middle School Distance       50786 non-null  float64\n",
      " 21  High School                  71889 non-null  object \n",
      " 22  High School Score            71279 non-null  float64\n",
      " 23  High School Distance         71888 non-null  float64\n",
      " 24  Flooring                     57137 non-null  object \n",
      " 25  Heating features             66515 non-null  object \n",
      " 26  Cooling features             62429 non-null  object \n",
      " 27  Appliances included          55714 non-null  object \n",
      " 28  Laundry features             59081 non-null  object \n",
      " 29  Parking features             72435 non-null  object \n",
      " 30  Tax assessed value           72739 non-null  float64\n",
      " 31  Annual tax amount            71853 non-null  float64\n",
      " 32  Listed On                    79062 non-null  object \n",
      " 33  Listed Price                 79062 non-null  float64\n",
      " 34  Last Sold On                 49518 non-null  object \n",
      " 35  Last Sold Price              49518 non-null  float64\n",
      " 36  City                         79062 non-null  object \n",
      " 37  Zip                          79062 non-null  int64  \n",
      " 38  State                        79062 non-null  object \n",
      "dtypes: float64(17), int64(1), object(21)\n",
      "memory usage: 23.5+ MB\n"
     ]
    }
   ],
   "source": [
    "all_df.info()"
   ]
  },
  {
   "cell_type": "code",
   "execution_count": 18,
   "id": "2046c324-8e31-44ce-aee2-001a15dec9b8",
   "metadata": {},
   "outputs": [
    {
     "data": {
      "text/plain": [
       "(79062, 36)"
      ]
     },
     "execution_count": 18,
     "metadata": {},
     "output_type": "execute_result"
    }
   ],
   "source": [
    "all_df.drop(columns=['Address', 'Summary', 'State'], inplace=True)\n",
    "all_df.shape"
   ]
  },
  {
   "cell_type": "code",
   "execution_count": 19,
   "id": "540bc983-0972-47cf-83da-5c4c35d43171",
   "metadata": {},
   "outputs": [
    {
     "data": {
      "text/plain": [
       "Type                            object\n",
       "Year built                     float64\n",
       "Heating                         object\n",
       "Cooling                         object\n",
       "Parking                         object\n",
       "Lot                            float64\n",
       "Bedrooms                        object\n",
       "Bathrooms                      float64\n",
       "Full bathrooms                 float64\n",
       "Total interior livable area    float64\n",
       "Total spaces                   float64\n",
       "Garage spaces                  float64\n",
       "Region                          object\n",
       "Elementary School               object\n",
       "Elementary School Score        float64\n",
       "Elementary School Distance     float64\n",
       "Middle School                   object\n",
       "Middle School Score            float64\n",
       "Middle School Distance         float64\n",
       "High School                     object\n",
       "High School Score              float64\n",
       "High School Distance           float64\n",
       "Flooring                        object\n",
       "Heating features                object\n",
       "Cooling features                object\n",
       "Appliances included             object\n",
       "Laundry features                object\n",
       "Parking features                object\n",
       "Tax assessed value             float64\n",
       "Annual tax amount              float64\n",
       "Listed On                       object\n",
       "Listed Price                   float64\n",
       "Last Sold On                    object\n",
       "Last Sold Price                float64\n",
       "City                            object\n",
       "Zip                              int64\n",
       "dtype: object"
      ]
     },
     "execution_count": 19,
     "metadata": {},
     "output_type": "execute_result"
    }
   ],
   "source": [
    "all_df.dtypes"
   ]
  },
  {
   "cell_type": "code",
   "execution_count": 20,
   "id": "42864f8c-2a6c-4cbd-a8b4-79b0b5b03c83",
   "metadata": {},
   "outputs": [
    {
     "data": {
      "text/plain": [
       "SingleFamily                                            53519\n",
       "Condo                                                   12794\n",
       "Townhouse                                                4096\n",
       "MultiFamily                                              2258\n",
       "Unknown                                                  2167\n",
       "                                                        ...  \n",
       "1 Level, Low-Rise (1-3), Ground Floor, Semi-Attached        1\n",
       "One to Five Acres                                           1\n",
       "1 Level, Luxury, Low-Rise (1-3), End Unit                   1\n",
       "Detached, Split Level                                       1\n",
       "SINGLE, RURLRES                                             1\n",
       "Name: Type, Length: 174, dtype: int64"
      ]
     },
     "execution_count": 20,
     "metadata": {},
     "output_type": "execute_result"
    }
   ],
   "source": [
    "all_df['Type'].value_counts()"
   ]
  },
  {
   "cell_type": "code",
   "execution_count": 21,
   "id": "82e8df16-3a57-415c-8ffa-76db68dd31a4",
   "metadata": {},
   "outputs": [
    {
     "data": {
      "text/plain": [
       "Los Angeles      11916\n",
       "San Jose          7030\n",
       "San Francisco     5744\n",
       "San Mateo         1125\n",
       "San Diego         1108\n",
       "                 ...  \n",
       "El Nido              1\n",
       "Redcrest             1\n",
       "Mineral              1\n",
       "Independence         1\n",
       "McKittrick           1\n",
       "Name: City, Length: 1122, dtype: int64"
      ]
     },
     "execution_count": 21,
     "metadata": {},
     "output_type": "execute_result"
    }
   ],
   "source": [
    "all_df['City'].value_counts()"
   ]
  },
  {
   "cell_type": "code",
   "execution_count": 22,
   "id": "1eaf21df-7f4b-4cce-b920-3c0a94d9d572",
   "metadata": {},
   "outputs": [
    {
     "data": {
      "text/plain": [
       "2017-06-30    49\n",
       "2017-09-29    47\n",
       "2016-07-29    44\n",
       "2019-08-30    43\n",
       "2017-05-26    43\n",
       "              ..\n",
       "2020-03-01     1\n",
       "1994-08-17     1\n",
       "1995-08-21     1\n",
       "1997-12-22     1\n",
       "1990-08-31     1\n",
       "Name: Last Sold On, Length: 6948, dtype: int64"
      ]
     },
     "execution_count": 22,
     "metadata": {},
     "output_type": "execute_result"
    }
   ],
   "source": [
    "all_df['Last Sold On'].value_counts()"
   ]
  },
  {
   "cell_type": "code",
   "execution_count": 23,
   "id": "315ddebc-6f8d-43da-ad22-676d2a894565",
   "metadata": {},
   "outputs": [
    {
     "data": {
      "text/plain": [
       "2021-01-13    2022\n",
       "2021-01-27     686\n",
       "2021-01-15     620\n",
       "2021-01-08     521\n",
       "2021-01-14     520\n",
       "              ... \n",
       "2012-04-04       1\n",
       "2012-08-04       1\n",
       "2014-09-07       1\n",
       "2016-01-06       1\n",
       "2014-09-12       1\n",
       "Name: Listed On, Length: 2815, dtype: int64"
      ]
     },
     "execution_count": 23,
     "metadata": {},
     "output_type": "execute_result"
    }
   ],
   "source": [
    "all_df['Listed On'].value_counts()"
   ]
  },
  {
   "cell_type": "code",
   "execution_count": 24,
   "id": "a27b4676-0063-48c7-affc-a787b59be5b8",
   "metadata": {},
   "outputs": [],
   "source": [
    "def datatime_extract_year(datatime_str: str):\n",
    "    \"\"\"\n",
    "        时间字符串抽取年\n",
    "    \"\"\"\n",
    "    datatime_str = str(datatime_str)\n",
    "    if datatime_str:\n",
    "        return datatime_str.split('-')[0]\n",
    "    return None"
   ]
  },
  {
   "cell_type": "code",
   "execution_count": 25,
   "id": "56650014-7e87-4ded-a6d3-ffcf031d1d62",
   "metadata": {},
   "outputs": [],
   "source": [
    "all_df['Listed On'] = all_df['Listed On'].apply(datatime_extract_year)\n",
    "all_df['Last Sold On'] = all_df['Last Sold On'].apply(datatime_extract_year)"
   ]
  },
  {
   "cell_type": "code",
   "execution_count": 26,
   "id": "5adf8c38-2ddf-40c1-b2d3-994b8d76c60d",
   "metadata": {},
   "outputs": [],
   "source": [
    "all_df['Listed On'] = all_df['Listed On'].astype('float32')\n",
    "all_df['Last Sold On'] = all_df['Last Sold On'].astype('float32')"
   ]
  },
  {
   "cell_type": "code",
   "execution_count": 27,
   "id": "df6412ad-96c0-4f7f-baed-bad2796217ac",
   "metadata": {},
   "outputs": [
    {
     "data": {
      "text/plain": [
       "Type                            object\n",
       "Year built                     float64\n",
       "Heating                         object\n",
       "Cooling                         object\n",
       "Parking                         object\n",
       "Lot                            float64\n",
       "Bedrooms                        object\n",
       "Bathrooms                      float64\n",
       "Full bathrooms                 float64\n",
       "Total interior livable area    float64\n",
       "Total spaces                   float64\n",
       "Garage spaces                  float64\n",
       "Region                          object\n",
       "Elementary School               object\n",
       "Elementary School Score        float64\n",
       "Elementary School Distance     float64\n",
       "Middle School                   object\n",
       "Middle School Score            float64\n",
       "Middle School Distance         float64\n",
       "High School                     object\n",
       "High School Score              float64\n",
       "High School Distance           float64\n",
       "Flooring                        object\n",
       "Heating features                object\n",
       "Cooling features                object\n",
       "Appliances included             object\n",
       "Laundry features                object\n",
       "Parking features                object\n",
       "Tax assessed value             float64\n",
       "Annual tax amount              float64\n",
       "Listed On                      float32\n",
       "Listed Price                   float64\n",
       "Last Sold On                   float32\n",
       "Last Sold Price                float64\n",
       "City                            object\n",
       "Zip                              int64\n",
       "dtype: object"
      ]
     },
     "execution_count": 27,
     "metadata": {},
     "output_type": "execute_result"
    }
   ],
   "source": [
    "all_df.dtypes"
   ]
  },
  {
   "cell_type": "code",
   "execution_count": 28,
   "id": "d28d980e-941e-49b6-adad-e984f8a3329b",
   "metadata": {},
   "outputs": [
    {
     "name": "stdout",
     "output_type": "stream",
     "text": [
      "['Heating', 'Cooling', 'Parking', 'Bedrooms', 'Region', 'Elementary School', 'Middle School', 'High School', 'Flooring', 'Heating features', 'Cooling features', 'Appliances included', 'Laundry features', 'Parking features']\n",
      "['Year built', 'Lot', 'Bathrooms', 'Full bathrooms', 'Total interior livable area', 'Total spaces', 'Garage spaces', 'Elementary School Score', 'Elementary School Distance', 'Middle School Score', 'Middle School Distance', 'High School Score', 'High School Distance', 'Tax assessed value', 'Annual tax amount', 'Listed On', 'Listed Price', 'Last Sold On', 'Last Sold Price', 'Zip']\n",
      "['City', 'Type']\n"
     ]
    },
    {
     "data": {
      "text/plain": [
       "((79062, 14), (79062, 20), (79062, 2))"
      ]
     },
     "execution_count": 28,
     "metadata": {},
     "output_type": "execute_result"
    }
   ],
   "source": [
    "# 处理数据为文字的字段\n",
    "text_name_list = ['Heating', 'Cooling', 'Parking', 'Bedrooms', 'Region', 'Elementary School', \n",
    "                 'Middle School', 'High School', 'Flooring', 'Heating features', \n",
    "                 'Cooling features', 'Appliances included', 'Laundry features', 'Parking features']\n",
    "text_df = all_df[text_name_list]\n",
    "\n",
    "# 数字字段\n",
    "numeric_name_list = all_df.dtypes[all_df.dtypes != 'object'].index.tolist()\n",
    "numeric_df = all_df[numeric_name_list]\n",
    "\n",
    "# 独热字段\n",
    "one_hot_name_list = list(set(all_df.columns.tolist()) - set(text_name_list) - set(numeric_name_list))\n",
    "one_hot_df = all_df[one_hot_name_list]\n",
    "\n",
    "del all_df\n",
    "\n",
    "print(text_name_list)\n",
    "print(numeric_name_list)\n",
    "print(one_hot_name_list)\n",
    "\n",
    "text_df.shape, numeric_df.shape, one_hot_df.shape"
   ]
  },
  {
   "cell_type": "code",
   "execution_count": null,
   "id": "01b74bd0-ca23-42bd-9af6-6d34dac1b6d8",
   "metadata": {},
   "outputs": [],
   "source": []
  },
  {
   "cell_type": "code",
   "execution_count": 29,
   "id": "c6748031-2d8a-4ce5-96d6-c350146cef4c",
   "metadata": {},
   "outputs": [
    {
     "data": {
      "text/html": [
       "<div>\n",
       "<style scoped>\n",
       "    .dataframe tbody tr th:only-of-type {\n",
       "        vertical-align: middle;\n",
       "    }\n",
       "\n",
       "    .dataframe tbody tr th {\n",
       "        vertical-align: top;\n",
       "    }\n",
       "\n",
       "    .dataframe thead th {\n",
       "        text-align: right;\n",
       "    }\n",
       "</style>\n",
       "<table border=\"1\" class=\"dataframe\">\n",
       "  <thead>\n",
       "    <tr style=\"text-align: right;\">\n",
       "      <th></th>\n",
       "      <th>Heating</th>\n",
       "      <th>Cooling</th>\n",
       "      <th>Parking</th>\n",
       "      <th>Bedrooms</th>\n",
       "      <th>Region</th>\n",
       "      <th>Elementary School</th>\n",
       "      <th>Middle School</th>\n",
       "      <th>High School</th>\n",
       "      <th>Flooring</th>\n",
       "      <th>Heating features</th>\n",
       "      <th>Cooling features</th>\n",
       "      <th>Appliances included</th>\n",
       "      <th>Laundry features</th>\n",
       "      <th>Parking features</th>\n",
       "    </tr>\n",
       "  </thead>\n",
       "  <tbody>\n",
       "    <tr>\n",
       "      <th>count</th>\n",
       "      <td>67550</td>\n",
       "      <td>63953</td>\n",
       "      <td>77386</td>\n",
       "      <td>74465</td>\n",
       "      <td>79060</td>\n",
       "      <td>70569</td>\n",
       "      <td>50786</td>\n",
       "      <td>71889</td>\n",
       "      <td>57137</td>\n",
       "      <td>66515</td>\n",
       "      <td>62429</td>\n",
       "      <td>55714</td>\n",
       "      <td>59081</td>\n",
       "      <td>72435</td>\n",
       "    </tr>\n",
       "    <tr>\n",
       "      <th>unique</th>\n",
       "      <td>2659</td>\n",
       "      <td>910</td>\n",
       "      <td>9912</td>\n",
       "      <td>277</td>\n",
       "      <td>1258</td>\n",
       "      <td>3567</td>\n",
       "      <td>808</td>\n",
       "      <td>921</td>\n",
       "      <td>1738</td>\n",
       "      <td>1762</td>\n",
       "      <td>595</td>\n",
       "      <td>11289</td>\n",
       "      <td>3030</td>\n",
       "      <td>9694</td>\n",
       "    </tr>\n",
       "    <tr>\n",
       "      <th>top</th>\n",
       "      <td>Central</td>\n",
       "      <td>Central Air</td>\n",
       "      <td>Garage, Garage - Attached, Covered</td>\n",
       "      <td>3</td>\n",
       "      <td>Los Angeles</td>\n",
       "      <td>Laurel Elementary School</td>\n",
       "      <td>Hubert Howe Bancroft Middle School</td>\n",
       "      <td>Fairfax Senior High School</td>\n",
       "      <td>Wood</td>\n",
       "      <td>Central</td>\n",
       "      <td>Central Air</td>\n",
       "      <td>Dishwasher, Dryer, Garbage disposal, Microwave...</td>\n",
       "      <td>In Garage</td>\n",
       "      <td>Garage, Garage - Attached, Covered</td>\n",
       "    </tr>\n",
       "    <tr>\n",
       "      <th>freq</th>\n",
       "      <td>19370</td>\n",
       "      <td>21526</td>\n",
       "      <td>13066</td>\n",
       "      <td>27227</td>\n",
       "      <td>12271</td>\n",
       "      <td>415</td>\n",
       "      <td>1124</td>\n",
       "      <td>1715</td>\n",
       "      <td>5672</td>\n",
       "      <td>16024</td>\n",
       "      <td>18582</td>\n",
       "      <td>2352</td>\n",
       "      <td>6839</td>\n",
       "      <td>13296</td>\n",
       "    </tr>\n",
       "  </tbody>\n",
       "</table>\n",
       "</div>"
      ],
      "text/plain": [
       "        Heating      Cooling                             Parking Bedrooms  \\\n",
       "count     67550        63953                               77386    74465   \n",
       "unique     2659          910                                9912      277   \n",
       "top     Central  Central Air  Garage, Garage - Attached, Covered        3   \n",
       "freq      19370        21526                               13066    27227   \n",
       "\n",
       "             Region         Elementary School  \\\n",
       "count         79060                     70569   \n",
       "unique         1258                      3567   \n",
       "top     Los Angeles  Laurel Elementary School   \n",
       "freq          12271                       415   \n",
       "\n",
       "                             Middle School                 High School  \\\n",
       "count                                50786                       71889   \n",
       "unique                                 808                         921   \n",
       "top     Hubert Howe Bancroft Middle School  Fairfax Senior High School   \n",
       "freq                                  1124                        1715   \n",
       "\n",
       "       Flooring Heating features Cooling features  \\\n",
       "count     57137            66515            62429   \n",
       "unique     1738             1762              595   \n",
       "top        Wood          Central      Central Air   \n",
       "freq       5672            16024            18582   \n",
       "\n",
       "                                      Appliances included Laundry features  \\\n",
       "count                                               55714            59081   \n",
       "unique                                              11289             3030   \n",
       "top     Dishwasher, Dryer, Garbage disposal, Microwave...        In Garage   \n",
       "freq                                                 2352             6839   \n",
       "\n",
       "                          Parking features  \n",
       "count                                72435  \n",
       "unique                                9694  \n",
       "top     Garage, Garage - Attached, Covered  \n",
       "freq                                 13296  "
      ]
     },
     "execution_count": 29,
     "metadata": {},
     "output_type": "execute_result"
    }
   ],
   "source": [
    "text_df.describe(include='object')"
   ]
  },
  {
   "cell_type": "code",
   "execution_count": 30,
   "id": "6183141b-ee03-440b-83ad-93fb7c510fd6",
   "metadata": {},
   "outputs": [],
   "source": [
    "def arr_to_one_text(arr: list, sep: str=','):\n",
    "    \"\"\"\n",
    "        文本序列拼接为一个大文本\n",
    "    \"\"\"\n",
    "    res = []\n",
    "    for i in arr:\n",
    "        if i is not None:\n",
    "            _str = str(i).strip()\n",
    "            if _str not in ['nan', 'None', '']:\n",
    "                res.append(_str)\n",
    "    return sep.join(res)"
   ]
  },
  {
   "cell_type": "code",
   "execution_count": 31,
   "id": "f9532c31-6678-406c-b207-45bbbaa5ad74",
   "metadata": {},
   "outputs": [],
   "source": [
    "def plot_text_series_value_counts(series: pd.Series, top_nums: int=20):\n",
    "    \"\"\"\n",
    "        绘制text序列value_counts\n",
    "    \"\"\"\n",
    "    series_value_counts = series.value_counts()[:top_nums]\n",
    "    plt.bar(x=series_value_counts.keys(), height=series_value_counts.values)\n",
    "    plt.xticks(rotation=90)\n",
    "    plt.show()"
   ]
  },
  {
   "cell_type": "code",
   "execution_count": 32,
   "id": "8f17e91c-aa46-4f9d-bf01-06739da0e7e3",
   "metadata": {},
   "outputs": [
    {
     "data": {
      "image/png": "[encoded data removed]",
      "text/plain": [
       "<Figure size 432x288 with 1 Axes>"
      ]
     },
     "metadata": {
      "needs_background": "light"
     },
     "output_type": "display_data"
    }
   ],
   "source": [
    "plot_text_series_value_counts(text_df['Heating'])"
   ]
  },
  {
   "cell_type": "code",
   "execution_count": 33,
   "id": "fdc14038-44ec-4979-8838-8b8c1c185d67",
   "metadata": {},
   "outputs": [],
   "source": [
    "def extract_key_words(series: pd.Series):\n",
    "    \"\"\"\n",
    "    从序列中抽取关键字\n",
    "    \"\"\"\n",
    "    # 将序列所有文字拼接为一个大文本\n",
    "    text = arr_to_one_text(series.unique().tolist())\n",
    "    # 按照特殊符号分割为关键词\n",
    "    short_text_list = re.split(r'[^A-Za-z0-9_\\s]+', text)\n",
    "    short_text_list = [i.strip() for i in short_text_list]\n",
    "    # 关键词去重\n",
    "    key_str_arr = pd.Series(short_text_list).unique()\n",
    "\n",
    "    # 对关键词进行类别编码\n",
    "    key_words_dict = dict()\n",
    "    counter = 1\n",
    "    for item in key_str_arr:\n",
    "        if item.lower() not in key_words_dict:\n",
    "            key_words_dict[item.lower()] = counter\n",
    "            counter += 1\n",
    "    return key_words_dict"
   ]
  },
  {
   "cell_type": "code",
   "execution_count": 34,
   "id": "7e834bbb-6749-4539-b5ad-58323f8af55a",
   "metadata": {},
   "outputs": [],
   "source": [
    "def text_2_class(text: str, key_words_dict: dict):\n",
    "    \"\"\"\n",
    "        文本转类别\n",
    "    \"\"\"\n",
    "    class_set = set()\n",
    "    if text is None or pd.isna(text):\n",
    "        text = ''\n",
    "    _text_list = re.split(r'[^A-Za-z0-9_\\s]+', text)\n",
    "    for i in _text_list:\n",
    "        i = i.strip().lower()\n",
    "        if i in key_words_dict:\n",
    "            class_set.add(str(key_words_dict[i]))\n",
    "    if len(class_set) == 0:\n",
    "        return ['0']\n",
    "    return list(sorted(class_set))"
   ]
  },
  {
   "cell_type": "code",
   "execution_count": 35,
   "id": "726b7ffe-8afd-4615-a65c-d97d0db60657",
   "metadata": {},
   "outputs": [],
   "source": [
    "def series_to_multi_hot(series: pd.Series):\n",
    "    \"\"\"\n",
    "        转 multi hot 编码\n",
    "    \"\"\"\n",
    "    # 抽取关键字类别字典\n",
    "    key_words_dict = extract_key_words(series)\n",
    "    \n",
    "    # 生成muti_hot相应尺寸的zero_dataframe\n",
    "    zero_list = [0] * len(series)\n",
    "    series_name = series.name\n",
    "    data_dict = dict()\n",
    "    for i in range(len(key_words_dict)):\n",
    "        data_dict[f'{series_name}_{i}'] = zero_list\n",
    "    multi_hot_df = pd.DataFrame(data_dict)\n",
    "    \n",
    "    # 将拥有的类别标记在对应的muti hot列中\n",
    "    for data_i, data_str in series.items():\n",
    "        # 文字转类别\n",
    "        class_list = text_2_class(data_str, key_words_dict)\n",
    "        for i in class_list:\n",
    "            class_name = f'{series_name}_{i}'\n",
    "            multi_hot_df.loc[data_i, class_name] = 1  \n",
    "    return multi_hot_df"
   ]
  },
  {
   "cell_type": "code",
   "execution_count": 36,
   "id": "2e41fb2a-434c-4840-be3c-c455fec235c5",
   "metadata": {},
   "outputs": [],
   "source": [
    "# multi_hot_df = None\n",
    "# for name in text_name_list:\n",
    "#     print(name)\n",
    "#     if multi_hot_df is None:\n",
    "#         multi_hot_df = series_to_multi_hot(text_df[name])\n",
    "#     else:\n",
    "#         multi_hot_df = pd.concat([multi_hot_df, series_to_multi_hot(text_df[name])], axis=1)"
   ]
  },
  {
   "cell_type": "code",
   "execution_count": 37,
   "id": "ae979eeb-b8b8-417b-923e-53423896eabc",
   "metadata": {},
   "outputs": [],
   "source": [
    "# multi_hot_df.shape"
   ]
  },
  {
   "cell_type": "code",
   "execution_count": 38,
   "id": "1404f7bd-804b-4507-b724-5c6f52666920",
   "metadata": {},
   "outputs": [],
   "source": [
    "# 数值数据标准化\n",
    "numeric_df = np.log(numeric_df + 1)\n",
    "numeric_df = (numeric_df - numeric_df.mean()) / numeric_df.std()\n",
    "# 标准化后，缺失值填充0\n",
    "numeric_df = numeric_df.fillna(0)"
   ]
  },
  {
   "cell_type": "code",
   "execution_count": 39,
   "id": "61ac1529-3920-43b1-b0c4-ceae3bb5a081",
   "metadata": {},
   "outputs": [
    {
     "data": {
      "text/plain": [
       "(79062, 20)"
      ]
     },
     "execution_count": 39,
     "metadata": {},
     "output_type": "execute_result"
    }
   ],
   "source": [
    "numeric_df.shape"
   ]
  },
  {
   "cell_type": "code",
   "execution_count": 40,
   "id": "09d00546-8767-4c98-b812-c22cb7de3332",
   "metadata": {},
   "outputs": [
    {
     "data": {
      "text/plain": [
       "(79062, 1298)"
      ]
     },
     "execution_count": 40,
     "metadata": {},
     "output_type": "execute_result"
    }
   ],
   "source": [
    "one_hot_df = pd.get_dummies(one_hot_df, dummy_na=True, dtype=int)\n",
    "one_hot_df.shape"
   ]
  },
  {
   "cell_type": "code",
   "execution_count": 41,
   "id": "d1d149a0-06d5-425d-a9bd-113fc173965a",
   "metadata": {},
   "outputs": [
    {
     "data": {
      "text/plain": [
       "(79062, 1318)"
      ]
     },
     "execution_count": 41,
     "metadata": {},
     "output_type": "execute_result"
    }
   ],
   "source": [
    "# all_df = pd.concat([numeric_df, multi_hot_df], axis=1)\n",
    "# del numeric_df\n",
    "# del multi_hot_df\n",
    "# all_df = pd.concat([all_df, one_hot_df], axis=1)\n",
    "# del one_hot_df\n",
    "\n",
    "\n",
    "all_df = pd.concat([numeric_df, one_hot_df], axis=1)\n",
    "del one_hot_df\n",
    "del numeric_df\n",
    "\n",
    "all_df.shape"
   ]
  },
  {
   "cell_type": "code",
   "execution_count": 42,
   "id": "b99fb08a-7ecf-40a0-8e53-0ed785d71f8f",
   "metadata": {},
   "outputs": [],
   "source": [
    "n_train = train_df.shape[0]\n",
    "train_data = torch.tensor(all_df.iloc[:n_train].values, dtype=torch.float32)\n",
    "test_data = torch.tensor(all_df.iloc[n_train:].values, dtype=torch.float32)\n",
    "train_labels = torch.tensor(train_df['Sold Price'].values.reshape(-1, 1), dtype=torch.float32)"
   ]
  },
  {
   "cell_type": "code",
   "execution_count": 43,
   "id": "347fb7a3-3e4f-4177-9934-6e1bd544a917",
   "metadata": {},
   "outputs": [
    {
     "data": {
      "text/plain": [
       "(torch.Size([47436, 1318]), torch.Size([31626, 1318]))"
      ]
     },
     "execution_count": 43,
     "metadata": {},
     "output_type": "execute_result"
    }
   ],
   "source": [
    "train_data.shape, test_data.shape"
   ]
  },
  {
   "cell_type": "code",
   "execution_count": 44,
   "id": "4211fdc1-2ea4-4e9f-a1b9-c449c4a3a32f",
   "metadata": {},
   "outputs": [
    {
     "data": {
      "text/plain": [
       "(tensor([[ 0.0598, -5.3786, -3.6510,  ...,  0.0000,  0.0000,  0.0000],\n",
       "         [ 0.0114, -0.4462, -0.2218,  ...,  0.0000,  0.0000,  0.0000]]),\n",
       " tensor([[3825000.],\n",
       "         [ 505000.]]))"
      ]
     },
     "execution_count": 44,
     "metadata": {},
     "output_type": "execute_result"
    }
   ],
   "source": [
    "train_data[:2, :], train_labels[:2, :]"
   ]
  },
  {
   "cell_type": "code",
   "execution_count": 45,
   "id": "e58d9c0b-f1f9-4e03-b23f-a9523473bc34",
   "metadata": {},
   "outputs": [],
   "source": [
    "loss = nn.MSELoss()\n",
    "in_features = train_data.shape[1]"
   ]
  },
  {
   "cell_type": "code",
   "execution_count": 146,
   "id": "53a9a8dc-f15b-4997-9ca1-101a86900222",
   "metadata": {},
   "outputs": [],
   "source": [
    "def get_net():\n",
    "    net = nn.Sequential(\n",
    "        nn.Linear(in_features, 512),\n",
    "        nn.ReLU(),\n",
    "        nn.Linear(512, 1)\n",
    "    )\n",
    "    return net"
   ]
  },
  {
   "cell_type": "code",
   "execution_count": 147,
   "id": "3900238a-65e6-46f3-b67c-abdf957ac168",
   "metadata": {},
   "outputs": [],
   "source": [
    "def log_rmse(net, x, y):\n",
    "    \"\"\"取对数，得到均方根误差\"\"\"\n",
    "    # 对y值设置上限和下限\n",
    "    # y_hat = torch.clamp(net(x), 1, float('inf'))\n",
    "    rmse = torch.sqrt(loss(torch.log(net(x) + 1), torch.log(y + 1)))\n",
    "    rmse.requires_grad_(True)\n",
    "    return rmse"
   ]
  },
  {
   "cell_type": "code",
   "execution_count": 148,
   "id": "a1f3525a-cdc4-4f2a-90d2-a73dd57e3c83",
   "metadata": {},
   "outputs": [],
   "source": [
    "def train(net, train_data, train_labels, test_data, test_labels,\n",
    "          num_epochs, learning_rate, weight_decay, batch_size):\n",
    "    train_ls, test_ls = [], []\n",
    "    train_data_iter = utils.load_array((train_data, train_labels), batch_size)\n",
    "    # 这里使用的是Adam优化算法\n",
    "    optimizer = torch.optim.Adam(net.parameters(),\n",
    "                                 lr = learning_rate,\n",
    "                                 weight_decay = weight_decay)\n",
    "    for epoch in range(num_epochs):\n",
    "        for X, y in train_data_iter:\n",
    "            optimizer.zero_grad()\n",
    "            l = loss(net(X), y)\n",
    "            # l = log_rmse(net, X, y)\n",
    "            l.backward()\n",
    "            optimizer.step()\n",
    "        train_ls.append(log_rmse(net, train_data, train_labels).item())\n",
    "        if test_labels is not None:\n",
    "            test_ls.append(log_rmse(net, test_data, test_labels).item())\n",
    "            print(f'---epoch: {epoch + 1}/{num_epochs}, 训练log_rmse: {float(train_ls[-1]):f}, '\n",
    "                  f'验证log_rmse: {float(test_ls[-1]):f}')\n",
    "        else:\n",
    "            print(f'---epoch: {epoch + 1}/{num_epochs}, log_rmse: {float(train_ls[-1]):f}')\n",
    "    return train_ls, test_ls"
   ]
  },
  {
   "cell_type": "code",
   "execution_count": 149,
   "id": "72d455ca-5610-4dff-94b6-bab2df39c376",
   "metadata": {},
   "outputs": [],
   "source": [
    "def get_k_fold_data(k, i, X, y):\n",
    "    \"\"\"\n",
    "        k折交叉验证\n",
    "    \"\"\"\n",
    "    assert k > 1\n",
    "    fold_size = X.shape[0] // k\n",
    "    X_train, y_train = None, None\n",
    "    for j in range(k):\n",
    "        idx = slice(j * fold_size, (j + 1) * fold_size)\n",
    "        X_part, y_part = X[idx, :], y[idx]\n",
    "        if j == i:\n",
    "            X_valid, y_valid = X_part, y_part\n",
    "        elif X_train is None:\n",
    "            X_train, y_train = X_part, y_part\n",
    "        else:\n",
    "            X_train = torch.cat([X_train, X_part], 0)\n",
    "            y_train = torch.cat([y_train, y_part], 0)\n",
    "    return X_train, y_train, X_valid, y_valid"
   ]
  },
  {
   "cell_type": "code",
   "execution_count": 150,
   "id": "a6c3a260-db34-40ea-935a-3e1ada166386",
   "metadata": {},
   "outputs": [],
   "source": [
    "def k_fold(k, X_train, y_train, num_epochs, learning_rate, weight_decay,\n",
    "           batch_size):\n",
    "    train_loss_sum, valid_loss_sum = 0, 0\n",
    "    for i in range(k):\n",
    "        print(f'第{i + 1}折')\n",
    "        _X_train, _y_train, _X_valid, _y_valid = get_k_fold_data(k, i, X_train, y_train)\n",
    "        net = get_net()\n",
    "        train_ls, valid_ls = train(net, _X_train, _y_train, _X_valid, _y_valid, num_epochs, \n",
    "                                   learning_rate, weight_decay, batch_size)\n",
    "        train_loss_sum += train_ls[-1]\n",
    "        valid_loss_sum += valid_ls[-1]\n",
    "        print(f'第{i + 1}折，训练log_rmse: {float(train_ls[-1]):f}, '\n",
    "              f'验证log_rmse: {float(valid_ls[-1]):f}')\n",
    "    return train_loss_sum / k, valid_loss_sum / k"
   ]
  },
  {
   "cell_type": "code",
   "execution_count": 151,
   "id": "38b1eb3d-00ad-4ecd-b04b-4e0b133b37e1",
   "metadata": {},
   "outputs": [
    {
     "name": "stdout",
     "output_type": "stream",
     "text": [
      "第1折\n",
      "---epoch: 1/40, 训练log_rmse: 0.634777, 验证log_rmse: 0.592012\n",
      "---epoch: 2/40, 训练log_rmse: 0.678325, 验证log_rmse: 0.622691\n",
      "---epoch: 3/40, 训练log_rmse: 0.713147, 验证log_rmse: 0.656280\n",
      "---epoch: 4/40, 训练log_rmse: 0.709878, 验证log_rmse: 0.662703\n",
      "---epoch: 5/40, 训练log_rmse: 0.683457, 验证log_rmse: 0.641831\n",
      "---epoch: 6/40, 训练log_rmse: 0.656117, 验证log_rmse: 0.626155\n",
      "---epoch: 7/40, 训练log_rmse: 0.622751, 验证log_rmse: 0.591610\n",
      "---epoch: 8/40, 训练log_rmse: 0.601773, 验证log_rmse: 0.546602\n",
      "---epoch: 9/40, 训练log_rmse: 0.581293, 验证log_rmse: 0.533840\n",
      "---epoch: 10/40, 训练log_rmse: 0.564120, 验证log_rmse: 0.519802\n",
      "---epoch: 11/40, 训练log_rmse: 0.548827, 验证log_rmse: 0.511074\n",
      "---epoch: 12/40, 训练log_rmse: 0.536217, 验证log_rmse: 0.501321\n",
      "---epoch: 13/40, 训练log_rmse: 0.520509, 验证log_rmse: 0.489231\n",
      "---epoch: 14/40, 训练log_rmse: 0.511320, 验证log_rmse: 0.476918\n",
      "---epoch: 15/40, 训练log_rmse: 0.503056, 验证log_rmse: 0.470179\n",
      "---epoch: 16/40, 训练log_rmse: 0.499862, 验证log_rmse: 0.469648\n",
      "---epoch: 17/40, 训练log_rmse: 0.490244, 验证log_rmse: 0.464143\n",
      "---epoch: 18/40, 训练log_rmse: 0.484728, 验证log_rmse: 0.461941\n",
      "---epoch: 19/40, 训练log_rmse: 0.480597, 验证log_rmse: 0.458256\n",
      "---epoch: 20/40, 训练log_rmse: 0.472799, 验证log_rmse: 0.454362\n",
      "---epoch: 21/40, 训练log_rmse: 0.470300, 验证log_rmse: 0.454037\n",
      "---epoch: 22/40, 训练log_rmse: 0.454569, 验证log_rmse: 0.440563\n",
      "---epoch: 23/40, 训练log_rmse: 0.405408, 验证log_rmse: 0.400676\n",
      "---epoch: 24/40, 训练log_rmse: 0.291904, 验证log_rmse: 0.288344\n",
      "---epoch: 25/40, 训练log_rmse: 0.249961, 验证log_rmse: 0.267568\n",
      "---epoch: 26/40, 训练log_rmse: 0.238185, 验证log_rmse: 0.259787\n",
      "---epoch: 27/40, 训练log_rmse: 0.232139, 验证log_rmse: 0.257028\n",
      "---epoch: 28/40, 训练log_rmse: 0.224908, 验证log_rmse: 0.251779\n",
      "---epoch: 29/40, 训练log_rmse: 0.223428, 验证log_rmse: 0.254829\n",
      "---epoch: 30/40, 训练log_rmse: 0.221877, 验证log_rmse: 0.251559\n",
      "---epoch: 31/40, 训练log_rmse: 0.217368, 验证log_rmse: 0.247035\n",
      "---epoch: 32/40, 训练log_rmse: 0.218418, 验证log_rmse: 0.249429\n",
      "---epoch: 33/40, 训练log_rmse: 0.216945, 验证log_rmse: 0.247443\n",
      "---epoch: 34/40, 训练log_rmse: 0.215151, 验证log_rmse: 0.247957\n",
      "---epoch: 35/40, 训练log_rmse: 0.214288, 验证log_rmse: 0.247043\n",
      "---epoch: 36/40, 训练log_rmse: 0.211981, 验证log_rmse: 0.244361\n",
      "---epoch: 37/40, 训练log_rmse: 0.214276, 验证log_rmse: 0.249758\n",
      "---epoch: 38/40, 训练log_rmse: 0.210103, 验证log_rmse: 0.245150\n",
      "---epoch: 39/40, 训练log_rmse: 0.212019, 验证log_rmse: 0.246832\n",
      "---epoch: 40/40, 训练log_rmse: 0.208987, 验证log_rmse: 0.246130\n",
      "第1折，训练log_rmse: 0.208987, 验证log_rmse: 0.246130\n",
      "第2折\n",
      "---epoch: 1/40, 训练log_rmse: 0.682844, 验证log_rmse: 0.660173\n",
      "---epoch: 2/40, 训练log_rmse: 0.617705, 验证log_rmse: 0.622328\n",
      "---epoch: 3/40, 训练log_rmse: 0.606171, 验证log_rmse: 0.617857\n",
      "---epoch: 4/40, 训练log_rmse: 0.584523, 验证log_rmse: 0.589898\n",
      "---epoch: 5/40, 训练log_rmse: 0.590748, 验证log_rmse: 0.583565\n",
      "---epoch: 6/40, 训练log_rmse: 0.572730, 验证log_rmse: 0.556275\n",
      "---epoch: 7/40, 训练log_rmse: 0.555038, 验证log_rmse: 0.538102\n",
      "---epoch: 8/40, 训练log_rmse: 0.540212, 验证log_rmse: 0.521550\n",
      "---epoch: 9/40, 训练log_rmse: 0.538469, 验证log_rmse: 0.518539\n",
      "---epoch: 10/40, 训练log_rmse: 0.521166, 验证log_rmse: 0.489299\n",
      "---epoch: 11/40, 训练log_rmse: 0.490004, 验证log_rmse: 0.430286\n",
      "---epoch: 12/40, 训练log_rmse: 0.415055, 验证log_rmse: 0.374926\n",
      "---epoch: 13/40, 训练log_rmse: 0.298490, 验证log_rmse: 0.320775\n",
      "---epoch: 14/40, 训练log_rmse: 0.272806, 验证log_rmse: 0.280146\n",
      "---epoch: 15/40, 训练log_rmse: 0.255188, 验证log_rmse: 0.258472\n",
      "---epoch: 16/40, 训练log_rmse: 0.243234, 验证log_rmse: 0.250010\n",
      "---epoch: 17/40, 训练log_rmse: 0.243895, 验证log_rmse: 0.250073\n",
      "---epoch: 18/40, 训练log_rmse: 0.241058, 验证log_rmse: 0.248206\n",
      "---epoch: 19/40, 训练log_rmse: 0.231559, 验证log_rmse: 0.241645\n",
      "---epoch: 20/40, 训练log_rmse: 0.239999, 验证log_rmse: 0.248585\n",
      "---epoch: 21/40, 训练log_rmse: 0.231697, 验证log_rmse: 0.241263\n",
      "---epoch: 22/40, 训练log_rmse: 0.229239, 验证log_rmse: 0.238740\n",
      "---epoch: 23/40, 训练log_rmse: 0.231392, 验证log_rmse: 0.242144\n",
      "---epoch: 24/40, 训练log_rmse: 0.233063, 验证log_rmse: 0.242169\n",
      "---epoch: 25/40, 训练log_rmse: 0.221037, 验证log_rmse: 0.231892\n",
      "---epoch: 26/40, 训练log_rmse: 0.223249, 验证log_rmse: 0.236389\n",
      "---epoch: 27/40, 训练log_rmse: 0.220759, 验证log_rmse: 0.232906\n",
      "---epoch: 28/40, 训练log_rmse: 0.217804, 验证log_rmse: 0.230573\n",
      "---epoch: 29/40, 训练log_rmse: 0.231146, 验证log_rmse: 0.242109\n",
      "---epoch: 30/40, 训练log_rmse: 0.221091, 验证log_rmse: 0.234717\n",
      "---epoch: 31/40, 训练log_rmse: 0.224461, 验证log_rmse: 0.237069\n",
      "---epoch: 32/40, 训练log_rmse: 0.216184, 验证log_rmse: 0.230838\n",
      "---epoch: 33/40, 训练log_rmse: 0.224780, 验证log_rmse: 0.236670\n",
      "---epoch: 34/40, 训练log_rmse: 0.215755, 验证log_rmse: 0.231122\n",
      "---epoch: 35/40, 训练log_rmse: 0.214491, 验证log_rmse: 0.228607\n",
      "---epoch: 36/40, 训练log_rmse: 0.213689, 验证log_rmse: 0.229187\n",
      "---epoch: 37/40, 训练log_rmse: 0.212847, 验证log_rmse: 0.228278\n",
      "---epoch: 38/40, 训练log_rmse: 0.216328, 验证log_rmse: 0.233627\n",
      "---epoch: 39/40, 训练log_rmse: 0.210141, 验证log_rmse: 0.226840\n",
      "---epoch: 40/40, 训练log_rmse: 0.216896, 验证log_rmse: 0.234250\n",
      "第2折，训练log_rmse: 0.216896, 验证log_rmse: 0.234250\n",
      "第3折\n",
      "---epoch: 1/40, 训练log_rmse: 1.010255, 验证log_rmse: 0.956965\n",
      "---epoch: 2/40, 训练log_rmse: 0.674779, 验证log_rmse: 0.658811\n",
      "---epoch: 3/40, 训练log_rmse: 0.613119, 验证log_rmse: 0.618841\n",
      "---epoch: 4/40, 训练log_rmse: 0.577614, 验证log_rmse: 0.591323\n",
      "---epoch: 5/40, 训练log_rmse: 0.537911, 验证log_rmse: 0.564600\n",
      "---epoch: 6/40, 训练log_rmse: 0.502541, 验证log_rmse: 0.535880\n",
      "---epoch: 7/40, 训练log_rmse: 0.476123, 验证log_rmse: 0.506005\n",
      "---epoch: 8/40, 训练log_rmse: 0.420364, 验证log_rmse: 0.438827\n",
      "---epoch: 9/40, 训练log_rmse: 0.303926, 验证log_rmse: 0.324991\n",
      "---epoch: 10/40, 训练log_rmse: 0.267439, 验证log_rmse: 0.285231\n",
      "---epoch: 11/40, 训练log_rmse: 0.259317, 验证log_rmse: 0.256104\n",
      "---epoch: 12/40, 训练log_rmse: 0.258090, 验证log_rmse: 0.253105\n",
      "---epoch: 13/40, 训练log_rmse: 0.249772, 验证log_rmse: 0.243645\n",
      "---epoch: 14/40, 训练log_rmse: 0.241928, 验证log_rmse: 0.239469\n",
      "---epoch: 15/40, 训练log_rmse: 0.234796, 验证log_rmse: 0.232811\n",
      "---epoch: 16/40, 训练log_rmse: 0.243840, 验证log_rmse: 0.241634\n",
      "---epoch: 17/40, 训练log_rmse: 0.235384, 验证log_rmse: 0.232774\n",
      "---epoch: 18/40, 训练log_rmse: 0.234727, 验证log_rmse: 0.233095\n",
      "---epoch: 19/40, 训练log_rmse: 0.231244, 验证log_rmse: 0.229996\n",
      "---epoch: 20/40, 训练log_rmse: 0.229071, 验证log_rmse: 0.228948\n",
      "---epoch: 21/40, 训练log_rmse: 0.229708, 验证log_rmse: 0.230937\n",
      "---epoch: 22/40, 训练log_rmse: 0.232299, 验证log_rmse: 0.233373\n",
      "---epoch: 23/40, 训练log_rmse: 0.230070, 验证log_rmse: 0.230512\n",
      "---epoch: 24/40, 训练log_rmse: 0.224774, 验证log_rmse: 0.225950\n",
      "---epoch: 25/40, 训练log_rmse: 0.224676, 验证log_rmse: 0.226295\n",
      "---epoch: 26/40, 训练log_rmse: 0.229085, 验证log_rmse: 0.232190\n",
      "---epoch: 27/40, 训练log_rmse: 0.227371, 验证log_rmse: 0.229543\n",
      "---epoch: 28/40, 训练log_rmse: 0.221731, 验证log_rmse: 0.224131\n",
      "---epoch: 29/40, 训练log_rmse: 0.218806, 验证log_rmse: 0.222131\n",
      "---epoch: 30/40, 训练log_rmse: 0.227803, 验证log_rmse: 0.231838\n",
      "---epoch: 31/40, 训练log_rmse: 0.218711, 验证log_rmse: 0.222771\n",
      "---epoch: 32/40, 训练log_rmse: 0.216125, 验证log_rmse: 0.221757\n",
      "---epoch: 33/40, 训练log_rmse: 0.215424, 验证log_rmse: 0.220166\n",
      "---epoch: 34/40, 训练log_rmse: 0.219118, 验证log_rmse: 0.224399\n",
      "---epoch: 35/40, 训练log_rmse: 0.216056, 验证log_rmse: 0.221387\n",
      "---epoch: 36/40, 训练log_rmse: 0.215855, 验证log_rmse: 0.220621\n",
      "---epoch: 37/40, 训练log_rmse: 0.215592, 验证log_rmse: 0.221530\n",
      "---epoch: 38/40, 训练log_rmse: 0.220376, 验证log_rmse: 0.225967\n",
      "---epoch: 39/40, 训练log_rmse: 0.215839, 验证log_rmse: 0.222361\n",
      "---epoch: 40/40, 训练log_rmse: 0.214734, 验证log_rmse: 0.221021\n",
      "第3折，训练log_rmse: 0.214734, 验证log_rmse: 0.221021\n",
      "第4折\n",
      "---epoch: 1/40, 训练log_rmse: 0.771392, 验证log_rmse: 0.795187\n",
      "---epoch: 2/40, 训练log_rmse: 0.621380, 验证log_rmse: 0.610430\n",
      "---epoch: 3/40, 训练log_rmse: 0.653508, 验证log_rmse: 0.666175\n",
      "---epoch: 4/40, 训练log_rmse: 0.644838, 验证log_rmse: 0.641028\n",
      "---epoch: 5/40, 训练log_rmse: 0.654343, 验证log_rmse: 0.653175\n",
      "---epoch: 6/40, 训练log_rmse: 0.626393, 验证log_rmse: 0.621117\n",
      "---epoch: 7/40, 训练log_rmse: 0.609483, 验证log_rmse: 0.601754\n",
      "---epoch: 8/40, 训练log_rmse: 0.595844, 验证log_rmse: 0.583484\n",
      "---epoch: 9/40, 训练log_rmse: 0.572932, 验证log_rmse: 0.568422\n",
      "---epoch: 10/40, 训练log_rmse: 0.562533, 验证log_rmse: 0.549236\n",
      "---epoch: 11/40, 训练log_rmse: 0.550827, 验证log_rmse: 0.542823\n",
      "---epoch: 12/40, 训练log_rmse: 0.535531, 验证log_rmse: 0.530245\n",
      "---epoch: 13/40, 训练log_rmse: 0.529085, 验证log_rmse: 0.526136\n",
      "---epoch: 14/40, 训练log_rmse: 0.518634, 验证log_rmse: 0.519116\n",
      "---epoch: 15/40, 训练log_rmse: 0.507676, 验证log_rmse: 0.506183\n",
      "---epoch: 16/40, 训练log_rmse: 0.502819, 验证log_rmse: 0.499915\n",
      "---epoch: 17/40, 训练log_rmse: 0.502347, 验证log_rmse: 0.493032\n",
      "---epoch: 18/40, 训练log_rmse: 0.494696, 验证log_rmse: 0.486034\n",
      "---epoch: 19/40, 训练log_rmse: 0.488851, 验证log_rmse: 0.478091\n",
      "---epoch: 20/40, 训练log_rmse: 0.481685, 验证log_rmse: 0.473295\n",
      "---epoch: 21/40, 训练log_rmse: 0.474550, 验证log_rmse: 0.471645\n",
      "---epoch: 22/40, 训练log_rmse: 0.467074, 验证log_rmse: 0.466570\n",
      "---epoch: 23/40, 训练log_rmse: 0.460517, 验证log_rmse: 0.456155\n",
      "---epoch: 24/40, 训练log_rmse: 0.432321, 验证log_rmse: 0.448293\n",
      "---epoch: 25/40, 训练log_rmse: 0.367898, 验证log_rmse: 0.393020\n",
      "---epoch: 26/40, 训练log_rmse: 0.286481, 验证log_rmse: 0.311514\n",
      "---epoch: 27/40, 训练log_rmse: 0.246122, 验证log_rmse: 0.271154\n",
      "---epoch: 28/40, 训练log_rmse: 0.229030, 验证log_rmse: 0.256207\n",
      "---epoch: 29/40, 训练log_rmse: 0.223653, 验证log_rmse: 0.253162\n",
      "---epoch: 30/40, 训练log_rmse: 0.221350, 验证log_rmse: 0.251789\n",
      "---epoch: 31/40, 训练log_rmse: 0.223908, 验证log_rmse: 0.255567\n",
      "---epoch: 32/40, 训练log_rmse: 0.218684, 验证log_rmse: 0.250676\n",
      "---epoch: 33/40, 训练log_rmse: 0.220139, 验证log_rmse: 0.252003\n",
      "---epoch: 34/40, 训练log_rmse: 0.216396, 验证log_rmse: 0.248905\n",
      "---epoch: 35/40, 训练log_rmse: 0.215357, 验证log_rmse: 0.249526\n",
      "---epoch: 36/40, 训练log_rmse: 0.220606, 验证log_rmse: 0.254367\n",
      "---epoch: 37/40, 训练log_rmse: 0.216511, 验证log_rmse: 0.251755\n",
      "---epoch: 38/40, 训练log_rmse: 0.216237, 验证log_rmse: 0.251701\n",
      "---epoch: 39/40, 训练log_rmse: 0.212892, 验证log_rmse: 0.249716\n",
      "---epoch: 40/40, 训练log_rmse: 0.209880, 验证log_rmse: 0.245836\n",
      "第4折，训练log_rmse: 0.209880, 验证log_rmse: 0.245836\n",
      "第5折\n",
      "---epoch: 1/40, 训练log_rmse: 0.871077, 验证log_rmse: 1.152640\n",
      "---epoch: 2/40, 训练log_rmse: 0.665909, 验证log_rmse: 0.794197\n",
      "---epoch: 3/40, 训练log_rmse: 0.589848, 验证log_rmse: 0.673389\n",
      "---epoch: 4/40, 训练log_rmse: 0.541795, 验证log_rmse: 0.617159\n",
      "---epoch: 5/40, 训练log_rmse: 0.532053, 验证log_rmse: 0.610125\n",
      "---epoch: 6/40, 训练log_rmse: 0.529148, 验证log_rmse: 0.601992\n",
      "---epoch: 7/40, 训练log_rmse: 0.509899, 验证log_rmse: 0.589415\n",
      "---epoch: 8/40, 训练log_rmse: 0.492377, 验证log_rmse: 0.556768\n",
      "---epoch: 9/40, 训练log_rmse: 0.424169, 验证log_rmse: 0.502336\n",
      "---epoch: 10/40, 训练log_rmse: 0.314603, 验证log_rmse: 0.377822\n",
      "---epoch: 11/40, 训练log_rmse: 0.271712, 验证log_rmse: 0.336344\n",
      "---epoch: 12/40, 训练log_rmse: 0.257338, 验证log_rmse: 0.331242\n",
      "---epoch: 13/40, 训练log_rmse: 0.244794, 验证log_rmse: 0.314638\n",
      "---epoch: 14/40, 训练log_rmse: 0.243882, 验证log_rmse: 0.310081\n",
      "---epoch: 15/40, 训练log_rmse: 0.247175, 验证log_rmse: 0.312870\n",
      "---epoch: 16/40, 训练log_rmse: 0.234547, 验证log_rmse: 0.299600\n",
      "---epoch: 17/40, 训练log_rmse: 0.227315, 验证log_rmse: 0.292816\n",
      "---epoch: 18/40, 训练log_rmse: 0.228721, 验证log_rmse: 0.295503\n",
      "---epoch: 19/40, 训练log_rmse: 0.228689, 验证log_rmse: 0.289047\n",
      "---epoch: 20/40, 训练log_rmse: 0.223958, 验证log_rmse: 0.284033\n",
      "---epoch: 21/40, 训练log_rmse: 0.218355, 验证log_rmse: 0.280272\n",
      "---epoch: 22/40, 训练log_rmse: 0.223637, 验证log_rmse: 0.282268\n",
      "---epoch: 23/40, 训练log_rmse: 0.218311, 验证log_rmse: 0.280042\n",
      "---epoch: 24/40, 训练log_rmse: 0.221227, 验证log_rmse: 0.276725\n",
      "---epoch: 25/40, 训练log_rmse: 0.219536, 验证log_rmse: 0.277786\n",
      "---epoch: 26/40, 训练log_rmse: 0.212795, 验证log_rmse: 0.270706\n",
      "---epoch: 27/40, 训练log_rmse: 0.212939, 验证log_rmse: 0.270919\n",
      "---epoch: 28/40, 训练log_rmse: 0.212013, 验证log_rmse: 0.270757\n",
      "---epoch: 29/40, 训练log_rmse: 0.215229, 验证log_rmse: 0.273771\n",
      "---epoch: 30/40, 训练log_rmse: 0.211126, 验证log_rmse: 0.268952\n",
      "---epoch: 31/40, 训练log_rmse: 0.213756, 验证log_rmse: 0.268599\n",
      "---epoch: 32/40, 训练log_rmse: 0.210622, 验证log_rmse: 0.271432\n",
      "---epoch: 33/40, 训练log_rmse: 0.208323, 验证log_rmse: 0.271080\n",
      "---epoch: 34/40, 训练log_rmse: 0.209957, 验证log_rmse: 0.269851\n",
      "---epoch: 35/40, 训练log_rmse: 0.209652, 验证log_rmse: 0.267291\n",
      "---epoch: 36/40, 训练log_rmse: 0.209930, 验证log_rmse: 0.266969\n",
      "---epoch: 37/40, 训练log_rmse: 0.209612, 验证log_rmse: 0.264808\n",
      "---epoch: 38/40, 训练log_rmse: 0.206680, 验证log_rmse: 0.265626\n",
      "---epoch: 39/40, 训练log_rmse: 0.205566, 验证log_rmse: 0.264264\n",
      "---epoch: 40/40, 训练log_rmse: 0.204370, 验证log_rmse: 0.265073\n",
      "第5折，训练log_rmse: 0.204370, 验证log_rmse: 0.265073\n",
      "END, 5折平均训练log_rmse: 0.210974, 平均验证log_rmse: 0.242462\n"
     ]
    }
   ],
   "source": [
    "k, num_epochs, lr, weight_decay, batch_size = 5, 40, 0.25, 0, 128\n",
    "train_l, valid_l = k_fold(k, train_data, train_labels, num_epochs, lr,\n",
    "                          weight_decay, batch_size)\n",
    "print(f'END, {k}折平均训练log_rmse: {float(train_l):f}, '\n",
    "      f'平均验证log_rmse: {float(valid_l):f}')"
   ]
  },
  {
   "cell_type": "code",
   "execution_count": 152,
   "id": "932fe4de-4355-4795-b5e1-275c3bfa0359",
   "metadata": {},
   "outputs": [
    {
     "name": "stdout",
     "output_type": "stream",
     "text": [
      "---epoch: 1/40, log_rmse: 0.716325\n",
      "---epoch: 2/40, log_rmse: 0.641057\n",
      "---epoch: 3/40, log_rmse: 0.587868\n",
      "---epoch: 4/40, log_rmse: 0.552984\n",
      "---epoch: 5/40, log_rmse: 0.548807\n",
      "---epoch: 6/40, log_rmse: 0.533967\n",
      "---epoch: 7/40, log_rmse: 0.526619\n",
      "---epoch: 8/40, log_rmse: 0.507974\n",
      "---epoch: 9/40, log_rmse: 0.496060\n",
      "---epoch: 10/40, log_rmse: 0.479378\n",
      "---epoch: 11/40, log_rmse: 0.379463\n",
      "---epoch: 12/40, log_rmse: 0.267018\n",
      "---epoch: 13/40, log_rmse: 0.249383\n",
      "---epoch: 14/40, log_rmse: 0.236299\n",
      "---epoch: 15/40, log_rmse: 0.230558\n",
      "---epoch: 16/40, log_rmse: 0.223049\n",
      "---epoch: 17/40, log_rmse: 0.230365\n",
      "---epoch: 18/40, log_rmse: 0.221672\n",
      "---epoch: 19/40, log_rmse: 0.225833\n",
      "---epoch: 20/40, log_rmse: 0.222141\n",
      "---epoch: 21/40, log_rmse: 0.218495\n",
      "---epoch: 22/40, log_rmse: 0.215064\n",
      "---epoch: 23/40, log_rmse: 0.214381\n",
      "---epoch: 24/40, log_rmse: 0.212967\n",
      "---epoch: 25/40, log_rmse: 0.210525\n",
      "---epoch: 26/40, log_rmse: 0.211105\n",
      "---epoch: 27/40, log_rmse: 0.212774\n",
      "---epoch: 28/40, log_rmse: 0.209820\n",
      "---epoch: 29/40, log_rmse: 0.211985\n",
      "---epoch: 30/40, log_rmse: 0.213574\n",
      "---epoch: 31/40, log_rmse: 0.208789\n",
      "---epoch: 32/40, log_rmse: 0.210981\n",
      "---epoch: 33/40, log_rmse: 0.209337\n",
      "---epoch: 34/40, log_rmse: 0.209775\n",
      "---epoch: 35/40, log_rmse: 0.210766\n",
      "---epoch: 36/40, log_rmse: 0.205572\n",
      "---epoch: 37/40, log_rmse: 0.208518\n",
      "---epoch: 38/40, log_rmse: 0.208369\n",
      "---epoch: 39/40, log_rmse: 0.210935\n",
      "---epoch: 40/40, log_rmse: 0.208485\n",
      "训练log_rmse：0.208485\n"
     ]
    }
   ],
   "source": [
    "net = get_net()\n",
    "train_ls, _ = train(net, train_data, train_labels, None, None, num_epochs, lr, weight_decay, batch_size)\n",
    "print(f'训练log_rmse：{float(train_ls[-1]):f}')"
   ]
  },
  {
   "cell_type": "code",
   "execution_count": 153,
   "id": "9b7bfb15-7f26-4949-967e-4310bafd7086",
   "metadata": {},
   "outputs": [],
   "source": [
    "preds = net(test_data).detach().numpy()"
   ]
  },
  {
   "cell_type": "code",
   "execution_count": 154,
   "id": "5051ff3a-65bb-4bfd-8954-ad46b30732cc",
   "metadata": {},
   "outputs": [
    {
     "data": {
      "text/plain": [
       "(31626, 1)"
      ]
     },
     "execution_count": 154,
     "metadata": {},
     "output_type": "execute_result"
    }
   ],
   "source": [
    "preds.shape"
   ]
  },
  {
   "cell_type": "code",
   "execution_count": 155,
   "id": "9675d99b-c0a4-43a0-936d-9eb0bbbe52c8",
   "metadata": {},
   "outputs": [
    {
     "data": {
      "text/html": [
       "<div>\n",
       "<style scoped>\n",
       "    .dataframe tbody tr th:only-of-type {\n",
       "        vertical-align: middle;\n",
       "    }\n",
       "\n",
       "    .dataframe tbody tr th {\n",
       "        vertical-align: top;\n",
       "    }\n",
       "\n",
       "    .dataframe thead th {\n",
       "        text-align: right;\n",
       "    }\n",
       "</style>\n",
       "<table border=\"1\" class=\"dataframe\">\n",
       "  <thead>\n",
       "    <tr style=\"text-align: right;\">\n",
       "      <th></th>\n",
       "      <th>Sold Price</th>\n",
       "    </tr>\n",
       "  </thead>\n",
       "  <tbody>\n",
       "    <tr>\n",
       "      <th>0</th>\n",
       "      <td>8.845312e+05</td>\n",
       "    </tr>\n",
       "    <tr>\n",
       "      <th>1</th>\n",
       "      <td>3.566403e+05</td>\n",
       "    </tr>\n",
       "    <tr>\n",
       "      <th>2</th>\n",
       "      <td>8.658886e+05</td>\n",
       "    </tr>\n",
       "    <tr>\n",
       "      <th>3</th>\n",
       "      <td>8.930631e+05</td>\n",
       "    </tr>\n",
       "    <tr>\n",
       "      <th>4</th>\n",
       "      <td>1.139730e+06</td>\n",
       "    </tr>\n",
       "  </tbody>\n",
       "</table>\n",
       "</div>"
      ],
      "text/plain": [
       "     Sold Price\n",
       "0  8.845312e+05\n",
       "1  3.566403e+05\n",
       "2  8.658886e+05\n",
       "3  8.930631e+05\n",
       "4  1.139730e+06"
      ]
     },
     "execution_count": 155,
     "metadata": {},
     "output_type": "execute_result"
    }
   ],
   "source": [
    "preds_df = pd.DataFrame(preds, columns=['Sold Price'])\n",
    "preds_df.head(5)"
   ]
  },
  {
   "cell_type": "code",
   "execution_count": 156,
   "id": "cae603f6-d2df-415e-a2f2-b01eb815935a",
   "metadata": {},
   "outputs": [],
   "source": [
    "submission = pd.concat([test_df['Id'], preds_df['Sold Price']], axis=1)\n",
    "submission.to_csv((data_dir_path / 'submission.csv').as_posix(), index=False)"
   ]
  },
  {
   "cell_type": "code",
   "execution_count": null,
   "id": "92322b51-2943-473f-aa00-228666ef3e0a",
   "metadata": {},
   "outputs": [],
   "source": []
  }
 ],
 "metadata": {
  "kernelspec": {
   "display_name": "Python 3 (ipykernel)",
   "language": "python",
   "name": "python3"
  },
  "language_info": {
   "codemirror_mode": {
    "name": "ipython",
    "version": 3
   },
   "file_extension": ".py",
   "mimetype": "text/x-python",
   "name": "python",
   "nbconvert_exporter": "python",
   "pygments_lexer": "ipython3",
   "version": "3.9.4"
  }
 },
 "nbformat": 4,
 "nbformat_minor": 5
}
