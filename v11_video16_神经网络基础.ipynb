{
 "cells": [
  {
   "cell_type": "code",
   "execution_count": 1,
   "id": "e5037dc1-3e24-4bb8-a594-14dee72dc10e",
   "metadata": {},
   "outputs": [
    {
     "data": {
      "text/plain": [
       "tensor([[ 0.2427, -0.0005, -0.2458, -0.1095,  0.0162,  0.2877, -0.1015, -0.1225,\n",
       "         -0.1616, -0.1791],\n",
       "        [ 0.2828, -0.0549, -0.1405, -0.1782, -0.0882,  0.1786,  0.1114,  0.0106,\n",
       "         -0.1208, -0.0368]], grad_fn=<AddmmBackward>)"
      ]
     },
     "execution_count": 1,
     "metadata": {},
     "output_type": "execute_result"
    }
   ],
   "source": [
    "import torch\n",
    "from torch import nn\n",
    "from torch.nn import functional as F\n",
    "\n",
    "net = nn.Sequential(nn.Linear(20, 256), nn.ReLU(), nn.Linear(256, 10))\n",
    "\n",
    "X = torch.rand(2, 20)\n",
    "net(X)"
   ]
  },
  {
   "cell_type": "code",
   "execution_count": 2,
   "id": "d4e5694a-de47-4683-93db-e8aaab1a7e3b",
   "metadata": {},
   "outputs": [],
   "source": [
    "class MLP(nn.Module):\n",
    "    # 用模型参数声明层。这里，我们声明两个全连接的层\n",
    "    def __init__(self):\n",
    "        # 调用MLP的父类Module的构造函数来执行必要的初始化。\n",
    "        # 这样，在类实例化时也可以指定其他函数参数，例如模型参数params（稍后将介绍）\n",
    "        super().__init__()\n",
    "        self.hidden = nn.Linear(20, 256)  # 隐藏层\n",
    "        self.out = nn.Linear(256, 10)  # 输出层\n",
    "\n",
    "    # 定义模型的前向传播，即如何根据输入X返回所需的模型输出\n",
    "    def forward(self, X):\n",
    "        # 注意，这里我们使用ReLU的函数版本，其在nn.functional模块中定义。\n",
    "        return self.out(F.relu(self.hidden(X)))"
   ]
  },
  {
   "cell_type": "code",
   "execution_count": 3,
   "id": "1f8ac6b5-83c8-4385-846b-e3bf819d1742",
   "metadata": {},
   "outputs": [
    {
     "data": {
      "text/plain": [
       "tensor([[-0.0198,  0.0459,  0.1738, -0.0156, -0.4127, -0.0670,  0.1724, -0.2412,\n",
       "          0.1769,  0.2368],\n",
       "        [-0.1408,  0.0531,  0.2118, -0.0666, -0.1938, -0.0516,  0.2522, -0.1206,\n",
       "          0.0828,  0.2390]], grad_fn=<AddmmBackward>)"
      ]
     },
     "execution_count": 3,
     "metadata": {},
     "output_type": "execute_result"
    }
   ],
   "source": [
    "net = MLP()\n",
    "net(X)"
   ]
  },
  {
   "cell_type": "code",
   "execution_count": 4,
   "id": "e5ed80de-d616-4413-954c-6a1383cd5ec9",
   "metadata": {},
   "outputs": [],
   "source": [
    "class MySequential(nn.Module):\n",
    "    def __init__(self, *args):\n",
    "        super().__init__()\n",
    "        for idx, module in enumerate(args):\n",
    "            # 这里，module是Module子类的一个实例。我们把它保存在'Module'类的成员\n",
    "            # 变量_modules中。_module的类型是OrderedDict\n",
    "            self._modules[str(idx)] = module\n",
    "\n",
    "    def forward(self, X):\n",
    "        # OrderedDict保证了按照成员添加的顺序遍历它们\n",
    "        for block in self._modules.values():\n",
    "            X = block(X)\n",
    "        return X"
   ]
  },
  {
   "cell_type": "code",
   "execution_count": 5,
   "id": "082dd07a-9201-49f3-b915-178f3581078e",
   "metadata": {},
   "outputs": [
    {
     "data": {
      "text/plain": [
       "tensor([[-0.2436,  0.0218, -0.0961,  0.0979,  0.1101, -0.1238, -0.1497, -0.2335,\n",
       "         -0.0102,  0.1970],\n",
       "        [-0.0772, -0.1552,  0.0198,  0.0034,  0.0354, -0.1417, -0.2012, -0.4164,\n",
       "          0.0451,  0.1354]], grad_fn=<AddmmBackward>)"
      ]
     },
     "execution_count": 5,
     "metadata": {},
     "output_type": "execute_result"
    }
   ],
   "source": [
    "net = MySequential(nn.Linear(20, 256), nn.ReLU(), nn.Linear(256, 10))\n",
    "net(X)"
   ]
  },
  {
   "cell_type": "code",
   "execution_count": 9,
   "id": "12f41ae8-49b4-4d79-acb3-be22014c376f",
   "metadata": {},
   "outputs": [],
   "source": [
    "# 自定义模块操作更灵活\n",
    "\n",
    "class FixedHiddenMLP(nn.Module):\n",
    "    def __init__(self):\n",
    "        super().__init__()\n",
    "        # 不计算梯度的随机权重参数。因此其在训练期间保持不变\n",
    "        self.rand_weight = torch.rand((20, 20), requires_grad=False)\n",
    "        self.linear = nn.Linear(20, 20)\n",
    "\n",
    "    def forward(self, X):\n",
    "        X = self.linear(X)\n",
    "        # 使用创建的常量参数以及relu和mm函数\n",
    "        X = F.relu(torch.mm(X, self.rand_weight) + 1)\n",
    "        # 复用全连接层。这相当于两个全连接层共享参数\n",
    "        X = self.linear(X)\n",
    "        # 控制流\n",
    "        while X.abs().sum() > 1:\n",
    "            X /= 2\n",
    "        return X.sum()"
   ]
  },
  {
   "cell_type": "code",
   "execution_count": 10,
   "id": "d0b41fc9-6bb9-49f6-9221-f6e8129f54ea",
   "metadata": {},
   "outputs": [
    {
     "data": {
      "text/plain": [
       "tensor(0.1130, grad_fn=<SumBackward0>)"
      ]
     },
     "execution_count": 10,
     "metadata": {},
     "output_type": "execute_result"
    }
   ],
   "source": [
    "net = FixedHiddenMLP()\n",
    "net(X)"
   ]
  },
  {
   "cell_type": "code",
   "execution_count": 11,
   "id": "ed833ea0-6520-4fa6-a59f-e9e635557f77",
   "metadata": {},
   "outputs": [
    {
     "data": {
      "text/plain": [
       "tensor(-0.1164, grad_fn=<SumBackward0>)"
      ]
     },
     "execution_count": 11,
     "metadata": {},
     "output_type": "execute_result"
    }
   ],
   "source": [
    "# 多个模块可以嵌套混合使用\n",
    "\n",
    "class NestMLP(nn.Module):\n",
    "    def __init__(self):\n",
    "        super().__init__()\n",
    "        self.net = nn.Sequential(nn.Linear(20, 64), nn.ReLU(),\n",
    "                                 nn.Linear(64, 32), nn.ReLU())\n",
    "        self.linear = nn.Linear(32, 16)\n",
    "\n",
    "    def forward(self, X):\n",
    "        return self.linear(self.net(X))\n",
    "\n",
    "chimera = nn.Sequential(NestMLP(), nn.Linear(16, 20), FixedHiddenMLP())\n",
    "chimera(X)"
   ]
  },
  {
   "cell_type": "code",
   "execution_count": 12,
   "id": "15adf0b2-b3dc-4128-9393-bd9b12838869",
   "metadata": {},
   "outputs": [
    {
     "data": {
      "text/plain": [
       "tensor([[0.0893],\n",
       "        [0.0274]], grad_fn=<AddmmBackward>)"
      ]
     },
     "execution_count": 12,
     "metadata": {},
     "output_type": "execute_result"
    }
   ],
   "source": [
    "# 参数管理\n",
    "\n",
    "net = nn.Sequential(nn.Linear(4, 8), nn.ReLU(), nn.Linear(8, 1))\n",
    "X = torch.rand(size=(2, 4))\n",
    "net(X)"
   ]
  },
  {
   "cell_type": "code",
   "execution_count": 13,
   "id": "61b28347-9033-48f0-85f4-e0ce18438abd",
   "metadata": {},
   "outputs": [
    {
     "data": {
      "text/plain": [
       "OrderedDict([('weight',\n",
       "              tensor([[ 0.0730,  0.0628,  0.0229, -0.1762,  0.0835, -0.1155,  0.2991,  0.2808]])),\n",
       "             ('bias', tensor([-0.0406]))])"
      ]
     },
     "execution_count": 13,
     "metadata": {},
     "output_type": "execute_result"
    }
   ],
   "source": [
    "# 该层的所有参数\n",
    "net[2].state_dict()"
   ]
  },
  {
   "cell_type": "code",
   "execution_count": 18,
   "id": "36e3fb4b-2702-4e5c-96d9-3e51d2e2522d",
   "metadata": {},
   "outputs": [
    {
     "data": {
      "text/plain": [
       "OrderedDict([('0.weight',\n",
       "              tensor([[ 0.3914, -0.2723,  0.0888, -0.2920],\n",
       "                      [-0.3500,  0.4990, -0.1258, -0.0966],\n",
       "                      [-0.1789,  0.2291, -0.3311,  0.2726],\n",
       "                      [-0.3333, -0.4423,  0.0957,  0.4735],\n",
       "                      [ 0.2622,  0.1003, -0.1422,  0.2371],\n",
       "                      [-0.1317, -0.1202, -0.0838,  0.0759],\n",
       "                      [-0.3861, -0.4981, -0.1332,  0.0391],\n",
       "                      [ 0.0991, -0.3183, -0.1360,  0.0078]])),\n",
       "             ('0.bias',\n",
       "              tensor([ 0.4013, -0.3551, -0.1708,  0.2553,  0.3602, -0.2720, -0.0299,  0.2385])),\n",
       "             ('2.weight',\n",
       "              tensor([[ 0.0730,  0.0628,  0.0229, -0.1762,  0.0835, -0.1155,  0.2991,  0.2808]])),\n",
       "             ('2.bias', tensor([-0.0406]))])"
      ]
     },
     "execution_count": 18,
     "metadata": {},
     "output_type": "execute_result"
    }
   ],
   "source": [
    "# 网络所有参数\n",
    "net.state_dict()"
   ]
  },
  {
   "cell_type": "code",
   "execution_count": 14,
   "id": "55424e7d-536e-40ed-b254-5e63e31cc0fb",
   "metadata": {},
   "outputs": [
    {
     "name": "stdout",
     "output_type": "stream",
     "text": [
      "<class 'torch.nn.parameter.Parameter'>\n",
      "Parameter containing:\n",
      "tensor([-0.0406], requires_grad=True)\n",
      "tensor([-0.0406])\n"
     ]
    }
   ],
   "source": [
    "print(type(net[2].bias))\n",
    "print(net[2].bias)\n",
    "print(net[2].bias.data)"
   ]
  },
  {
   "cell_type": "code",
   "execution_count": 15,
   "id": "eecddc3d-ece7-4336-a922-1a038538acda",
   "metadata": {},
   "outputs": [
    {
     "data": {
      "text/plain": [
       "True"
      ]
     },
     "execution_count": 15,
     "metadata": {},
     "output_type": "execute_result"
    }
   ],
   "source": [
    "# 未调用反向传播，梯度不会有值\n",
    "net[2].weight.grad == None"
   ]
  },
  {
   "cell_type": "code",
   "execution_count": 16,
   "id": "8b78bfb4-935d-4854-8af7-6929aa1220ed",
   "metadata": {},
   "outputs": [
    {
     "name": "stdout",
     "output_type": "stream",
     "text": [
      "('weight', torch.Size([8, 4])) ('bias', torch.Size([8]))\n",
      "('0.weight', torch.Size([8, 4])) ('0.bias', torch.Size([8])) ('2.weight', torch.Size([1, 8])) ('2.bias', torch.Size([1]))\n"
     ]
    }
   ],
   "source": [
    "# 访问所有参数\n",
    "print(*[(name, param.shape) for name, param in net[0].named_parameters()])\n",
    "print(*[(name, param.shape) for name, param in net.named_parameters()])"
   ]
  },
  {
   "cell_type": "code",
   "execution_count": 17,
   "id": "4f5980ba-7bc3-45f6-b53d-f3eb6ffbc077",
   "metadata": {},
   "outputs": [
    {
     "data": {
      "text/plain": [
       "tensor([-0.0406])"
      ]
     },
     "execution_count": 17,
     "metadata": {},
     "output_type": "execute_result"
    }
   ],
   "source": [
    "net.state_dict()['2.bias'].data"
   ]
  },
  {
   "cell_type": "code",
   "execution_count": 19,
   "id": "754d9e85-c98f-453f-845c-01ce0a9e69f5",
   "metadata": {},
   "outputs": [
    {
     "data": {
      "text/plain": [
       "tensor([[-0.3122],\n",
       "        [-0.3122]], grad_fn=<AddmmBackward>)"
      ]
     },
     "execution_count": 19,
     "metadata": {},
     "output_type": "execute_result"
    }
   ],
   "source": [
    "# 动态向nn.Sequential中加入模块\n",
    "\n",
    "def block1():\n",
    "    return nn.Sequential(nn.Linear(4, 8), nn.ReLU(),\n",
    "                         nn.Linear(8, 4), nn.ReLU())\n",
    "\n",
    "def block2():\n",
    "    net = nn.Sequential()\n",
    "    for i in range(4):\n",
    "        # 在这里嵌套\n",
    "        net.add_module(f'block {i}', block1())\n",
    "    return net\n",
    "\n",
    "rgnet = nn.Sequential(block2(), nn.Linear(4, 1))\n",
    "rgnet(X)"
   ]
  },
  {
   "cell_type": "code",
   "execution_count": 20,
   "id": "ef227be5-59e2-441e-9d27-d2dcca76bd6c",
   "metadata": {},
   "outputs": [
    {
     "name": "stdout",
     "output_type": "stream",
     "text": [
      "Sequential(\n",
      "  (0): Sequential(\n",
      "    (block 0): Sequential(\n",
      "      (0): Linear(in_features=4, out_features=8, bias=True)\n",
      "      (1): ReLU()\n",
      "      (2): Linear(in_features=8, out_features=4, bias=True)\n",
      "      (3): ReLU()\n",
      "    )\n",
      "    (block 1): Sequential(\n",
      "      (0): Linear(in_features=4, out_features=8, bias=True)\n",
      "      (1): ReLU()\n",
      "      (2): Linear(in_features=8, out_features=4, bias=True)\n",
      "      (3): ReLU()\n",
      "    )\n",
      "    (block 2): Sequential(\n",
      "      (0): Linear(in_features=4, out_features=8, bias=True)\n",
      "      (1): ReLU()\n",
      "      (2): Linear(in_features=8, out_features=4, bias=True)\n",
      "      (3): ReLU()\n",
      "    )\n",
      "    (block 3): Sequential(\n",
      "      (0): Linear(in_features=4, out_features=8, bias=True)\n",
      "      (1): ReLU()\n",
      "      (2): Linear(in_features=8, out_features=4, bias=True)\n",
      "      (3): ReLU()\n",
      "    )\n",
      "  )\n",
      "  (1): Linear(in_features=4, out_features=1, bias=True)\n",
      ")\n"
     ]
    }
   ],
   "source": [
    "print(rgnet)"
   ]
  },
  {
   "cell_type": "code",
   "execution_count": 21,
   "id": "7787ba29-e383-4fab-9705-af23207fd24e",
   "metadata": {},
   "outputs": [
    {
     "data": {
      "text/plain": [
       "tensor([-0.1167,  0.3710,  0.0191, -0.3747,  0.4938,  0.1697, -0.1938, -0.2020])"
      ]
     },
     "execution_count": 21,
     "metadata": {},
     "output_type": "execute_result"
    }
   ],
   "source": [
    "rgnet[0][1][0].bias.data"
   ]
  },
  {
   "cell_type": "code",
   "execution_count": 23,
   "id": "d5874757-0106-44e5-8716-095d023ba0d2",
   "metadata": {},
   "outputs": [
    {
     "data": {
      "text/plain": [
       "(tensor([[-0.0049, -0.0066,  0.0075,  0.0073],\n",
       "         [-0.0011,  0.0018,  0.0120,  0.0078],\n",
       "         [ 0.0059, -0.0048,  0.0061,  0.0150],\n",
       "         [-0.0042,  0.0213, -0.0051, -0.0015],\n",
       "         [-0.0109,  0.0079,  0.0167, -0.0061],\n",
       "         [-0.0046,  0.0196,  0.0049, -0.0226],\n",
       "         [-0.0202,  0.0152, -0.0074,  0.0022],\n",
       "         [ 0.0078,  0.0028, -0.0125,  0.0017]]),\n",
       " tensor([0., 0., 0., 0., 0., 0., 0., 0.]))"
      ]
     },
     "execution_count": 23,
     "metadata": {},
     "output_type": "execute_result"
    }
   ],
   "source": [
    "# 参数初始化\n",
    "\n",
    "def init_normal(m):\n",
    "    if type(m) == nn.Linear:\n",
    "        nn.init.normal_(m.weight, mean=0, std=0.01)\n",
    "        nn.init.zeros_(m.bias)\n",
    "net.apply(init_normal)\n",
    "net[0].weight.data, net[0].bias.data"
   ]
  },
  {
   "cell_type": "code",
   "execution_count": 25,
   "id": "7f499621-49f8-46fa-aebc-02f91f196869",
   "metadata": {},
   "outputs": [
    {
     "data": {
      "text/plain": [
       "(tensor([[1., 1., 1., 1.],\n",
       "         [1., 1., 1., 1.],\n",
       "         [1., 1., 1., 1.],\n",
       "         [1., 1., 1., 1.],\n",
       "         [1., 1., 1., 1.],\n",
       "         [1., 1., 1., 1.],\n",
       "         [1., 1., 1., 1.],\n",
       "         [1., 1., 1., 1.]]),\n",
       " tensor([0., 0., 0., 0., 0., 0., 0., 0.]))"
      ]
     },
     "execution_count": 25,
     "metadata": {},
     "output_type": "execute_result"
    }
   ],
   "source": [
    "# 初始化为常数\n",
    "\n",
    "def init_constant(m):\n",
    "    if type(m) == nn.Linear:\n",
    "        nn.init.constant_(m.weight, 1)\n",
    "        nn.init.zeros_(m.bias)\n",
    "net.apply(init_constant)\n",
    "net[0].weight.data, net[0].bias.data"
   ]
  },
  {
   "cell_type": "code",
   "execution_count": 27,
   "id": "70e10b94-3126-4fd9-94a7-873b108e5188",
   "metadata": {},
   "outputs": [
    {
     "name": "stdout",
     "output_type": "stream",
     "text": [
      "tensor([[ 0.3309, -0.0655, -0.1799, -0.0633],\n",
      "        [ 0.2601,  0.6311,  0.3851, -0.4932],\n",
      "        [-0.1594,  0.4241, -0.4309,  0.6867],\n",
      "        [ 0.3079,  0.5221,  0.5911,  0.4392],\n",
      "        [ 0.6417, -0.1838, -0.3501, -0.4903],\n",
      "        [-0.6397,  0.4902,  0.0234, -0.1906],\n",
      "        [-0.0527,  0.3439, -0.5242,  0.5829],\n",
      "        [ 0.4646,  0.4087,  0.6094, -0.5477]])\n",
      "tensor([[42., 42., 42., 42., 42., 42., 42., 42.]])\n"
     ]
    }
   ],
   "source": [
    "# 网络中指定层的单独初始化参数\n",
    "\n",
    "def init_xavier(m):\n",
    "    if type(m) == nn.Linear:\n",
    "        nn.init.xavier_uniform_(m.weight)\n",
    "def init_42(m):\n",
    "    if type(m) == nn.Linear:\n",
    "        nn.init.constant_(m.weight, 42)\n",
    "\n",
    "net[0].apply(init_xavier)\n",
    "net[2].apply(init_42)\n",
    "print(net[0].weight.data)\n",
    "print(net[2].weight.data)"
   ]
  },
  {
   "cell_type": "code",
   "execution_count": 29,
   "id": "b2df1813-e275-43a4-b213-b3ba75a1becc",
   "metadata": {},
   "outputs": [
    {
     "name": "stdout",
     "output_type": "stream",
     "text": [
      "Init weight torch.Size([8, 4])\n",
      "Init weight torch.Size([1, 8])\n"
     ]
    },
    {
     "data": {
      "text/plain": [
       "tensor([[-0.0000, -9.1590,  9.7635, -6.0593],\n",
       "        [-0.0000, -0.0000, -5.2422, -0.0000]], grad_fn=<SliceBackward>)"
      ]
     },
     "execution_count": 29,
     "metadata": {},
     "output_type": "execute_result"
    }
   ],
   "source": [
    "# 自定义初始化规则\n",
    "\n",
    "def my_init(m):\n",
    "    if type(m) == nn.Linear:\n",
    "        print(\"Init\", *[(name, param.shape)\n",
    "                        for name, param in m.named_parameters()][0])\n",
    "        nn.init.uniform_(m.weight, -10, 10)\n",
    "        # 权重元素绝对值<5则置零\n",
    "        m.weight.data *= m.weight.data.abs() >= 5\n",
    "\n",
    "net.apply(my_init)\n",
    "net[0].weight[:2]"
   ]
  },
  {
   "cell_type": "code",
   "execution_count": 30,
   "id": "2fca6398-6250-4db9-8c70-77932dd5f1f7",
   "metadata": {},
   "outputs": [
    {
     "data": {
      "text/plain": [
       "tensor([42.0000, -8.1590, 10.7635, -5.0593])"
      ]
     },
     "execution_count": 30,
     "metadata": {},
     "output_type": "execute_result"
    }
   ],
   "source": [
    "# 直接操作参数\n",
    "\n",
    "net[0].weight.data[:] += 1\n",
    "net[0].weight.data[0, 0] = 42\n",
    "net[0].weight.data[0]"
   ]
  },
  {
   "cell_type": "code",
   "execution_count": 31,
   "id": "843b8654-47ba-40a5-94bc-9d16330e71b1",
   "metadata": {},
   "outputs": [
    {
     "name": "stdout",
     "output_type": "stream",
     "text": [
      "tensor([True, True, True, True, True, True, True, True])\n",
      "tensor([True, True, True, True, True, True, True, True])\n"
     ]
    }
   ],
   "source": [
    "# 网络中不同层可以使用同一个模块的实例\n",
    "\n",
    "# 我们需要给共享层一个名称，以便可以引用它的参数\n",
    "shared = nn.Linear(8, 8)\n",
    "net = nn.Sequential(nn.Linear(4, 8), nn.ReLU(),\n",
    "                    shared, nn.ReLU(),\n",
    "                    shared, nn.ReLU(),\n",
    "                    nn.Linear(8, 1))\n",
    "net(X)\n",
    "# 检查参数是否相同\n",
    "print(net[2].weight.data[0] == net[4].weight.data[0])\n",
    "net[2].weight.data[0, 0] = 100\n",
    "# 确保它们实际上是同一个对象，而不只是有相同的值\n",
    "print(net[2].weight.data[0] == net[4].weight.data[0])"
   ]
  },
  {
   "cell_type": "code",
   "execution_count": 32,
   "id": "a23550f1-a16f-48a7-876d-56b5c1d5b3f1",
   "metadata": {},
   "outputs": [
    {
     "name": "stdout",
     "output_type": "stream",
     "text": [
      "Sequential(\n",
      "  (0): LazyLinear(in_features=0, out_features=256, bias=True)\n",
      "  (1): ReLU()\n",
      "  (2): LazyLinear(in_features=0, out_features=10, bias=True)\n",
      ")\n",
      "Sequential(\n",
      "  (0): Linear(in_features=20, out_features=256, bias=True)\n",
      "  (1): ReLU()\n",
      "  (2): Linear(in_features=256, out_features=10, bias=True)\n",
      ")\n"
     ]
    },
    {
     "name": "stderr",
     "output_type": "stream",
     "text": [
      "e:\\workspace\\py_venvs\\d2l_venv\\lib\\site-packages\\torch\\nn\\modules\\lazy.py:175: UserWarning: Lazy modules are a new feature under heavy development so changes to the API or functionality can happen at any moment.\n",
      "  warnings.warn('Lazy modules are a new feature under heavy development '\n"
     ]
    }
   ],
   "source": [
    "# 参数延后初始化，只定义网络结构，根据第一次数据通过网络时来初始化参数shape\n",
    "\n",
    "net = nn.Sequential(nn.LazyLinear(256), nn.ReLU(), nn.LazyLinear(10))\n",
    "# print(net[0].weight)  # 尚未初始化\n",
    "print(net)\n",
    "\n",
    "X = torch.rand(2, 20)\n",
    "net(X)\n",
    "print(net)"
   ]
  },
  {
   "cell_type": "code",
   "execution_count": 33,
   "id": "053a062f-6734-484b-8846-735b10f0818d",
   "metadata": {},
   "outputs": [
    {
     "name": "stdout",
     "output_type": "stream",
     "text": [
      "Parameter containing:\n",
      "tensor([[ 0.1842,  0.0873,  0.0748,  ..., -0.0542, -0.0116,  0.1804],\n",
      "        [-0.0760,  0.0801,  0.1409,  ...,  0.1480,  0.1653,  0.0989],\n",
      "        [-0.0180,  0.0515, -0.1150,  ..., -0.0843, -0.0087, -0.0167],\n",
      "        ...,\n",
      "        [-0.1395, -0.0039,  0.1032,  ..., -0.0524, -0.1442,  0.1947],\n",
      "        [ 0.2077,  0.0606,  0.1595,  ..., -0.2087,  0.0648,  0.0958],\n",
      "        [-0.0535,  0.0391, -0.0310,  ..., -0.1945, -0.1404, -0.1751]],\n",
      "       requires_grad=True)\n",
      "Uninitialized parameter\n",
      "Parameter containing:\n",
      "tensor([[ 0.0455,  0.0405,  0.0437,  ..., -0.0257, -0.0159,  0.0440],\n",
      "        [-0.0106, -0.0344,  0.0430,  ...,  0.0305, -0.0150,  0.0491],\n",
      "        [-0.0599,  0.0076, -0.0182,  ...,  0.0189,  0.0352,  0.0554],\n",
      "        ...,\n",
      "        [-0.0374,  0.0552, -0.0018,  ..., -0.0215,  0.0163,  0.0550],\n",
      "        [-0.0027, -0.0379, -0.0472,  ..., -0.0491,  0.0010, -0.0462],\n",
      "        [ 0.0214, -0.0379, -0.0601,  ..., -0.0131, -0.0385,  0.0087]],\n",
      "       requires_grad=True)\n"
     ]
    }
   ],
   "source": [
    "# 也可以部分层懒加载初始化\n",
    "\n",
    "net = nn.Sequential(\n",
    "    nn.Linear(20, 256), nn.ReLU(),\n",
    "    nn.LazyLinear(128), nn.ReLU(),\n",
    "    nn.LazyLinear(10)\n",
    ")\n",
    "print(net[0].weight)\n",
    "print(net[2].weight)\n",
    "net(X)\n",
    "print(net[2].weight)"
   ]
  },
  {
   "cell_type": "code",
   "execution_count": 34,
   "id": "29d26766-782c-4d15-9856-ac0a527ff15a",
   "metadata": {},
   "outputs": [],
   "source": [
    "# 自定义层\n",
    "# 定义一个现在在深度学习框架中还不存在的层"
   ]
  },
  {
   "cell_type": "code",
   "execution_count": 35,
   "id": "caef3cae-2337-489f-bf64-f55c5c8fc50d",
   "metadata": {},
   "outputs": [
    {
     "data": {
      "text/plain": [
       "tensor([-2., -1.,  0.,  1.,  2.])"
      ]
     },
     "execution_count": 35,
     "metadata": {},
     "output_type": "execute_result"
    }
   ],
   "source": [
    "# 不带参数\n",
    "\n",
    "class CenteredLayer(nn.Module):\n",
    "    def __init__(self):\n",
    "        super().__init__()\n",
    "\n",
    "    def forward(self, X):\n",
    "        return X - X.mean()\n",
    "    \n",
    "layer = CenteredLayer()\n",
    "layer(torch.FloatTensor([1, 2, 3, 4, 5]))"
   ]
  },
  {
   "cell_type": "code",
   "execution_count": 37,
   "id": "70bfa571-5a64-49de-8df4-13a7d2b18091",
   "metadata": {},
   "outputs": [
    {
     "data": {
      "text/plain": [
       "tensor(5.5879e-09, grad_fn=<MeanBackward0>)"
      ]
     },
     "execution_count": 37,
     "metadata": {},
     "output_type": "execute_result"
    }
   ],
   "source": [
    "net = nn.Sequential(nn.Linear(8, 128), CenteredLayer())\n",
    "Y = net(torch.rand(4, 8))\n",
    "# 均值为0，浮点数近似0\n",
    "Y.mean()"
   ]
  },
  {
   "cell_type": "code",
   "execution_count": 38,
   "id": "849bf1b0-e33b-408d-aaa7-b09cd304d939",
   "metadata": {},
   "outputs": [],
   "source": [
    "# 携带参数的层\n",
    "\n",
    "class MyLinear(nn.Module):\n",
    "    def __init__(self, in_units, units):\n",
    "        super().__init__()\n",
    "        self.weight = nn.Parameter(torch.randn(in_units, units))\n",
    "        self.bias = nn.Parameter(torch.randn(units,))\n",
    "    def forward(self, X):\n",
    "        linear = torch.matmul(X, self.weight.data) + self.bias.data\n",
    "        return F.relu(linear)"
   ]
  },
  {
   "cell_type": "code",
   "execution_count": 39,
   "id": "1a4ed1ad-04e7-493a-9e36-40a77b073d35",
   "metadata": {},
   "outputs": [
    {
     "data": {
      "text/plain": [
       "Parameter containing:\n",
       "tensor([[-0.8914,  0.3395, -0.4893],\n",
       "        [-1.1501,  1.6723, -0.3684],\n",
       "        [-0.2409, -1.0638,  2.2540],\n",
       "        [ 1.0139,  0.4018, -0.1868],\n",
       "        [-0.1129, -0.8322, -1.8574]], requires_grad=True)"
      ]
     },
     "execution_count": 39,
     "metadata": {},
     "output_type": "execute_result"
    }
   ],
   "source": [
    "linear = MyLinear(5, 3)\n",
    "linear.weight"
   ]
  },
  {
   "cell_type": "code",
   "execution_count": 41,
   "id": "69533e1e-8be1-49e8-b768-74a4dbde3dc0",
   "metadata": {},
   "outputs": [
    {
     "data": {
      "text/plain": [
       "tensor([[0.0000, 0.0000, 0.0000],\n",
       "        [0.0000, 1.1081, 0.0000]])"
      ]
     },
     "execution_count": 41,
     "metadata": {},
     "output_type": "execute_result"
    }
   ],
   "source": [
    "# 实例对象直接调用，内部实现中父类会自动在__call__方法中调用子类重载的forward方法\n",
    "linear(torch.rand(2, 5))"
   ]
  },
  {
   "cell_type": "code",
   "execution_count": 42,
   "id": "e525d0b6-6206-4ee8-9f5d-4c1fb8d885d8",
   "metadata": {},
   "outputs": [
    {
     "data": {
      "text/plain": [
       "tensor([[4.9793],\n",
       "        [0.0000]])"
      ]
     },
     "execution_count": 42,
     "metadata": {},
     "output_type": "execute_result"
    }
   ],
   "source": [
    "net = nn.Sequential(MyLinear(64, 8), MyLinear(8, 1))\n",
    "net(torch.rand(2, 64))"
   ]
  },
  {
   "cell_type": "code",
   "execution_count": 45,
   "id": "16e60078-9faf-4e51-8b93-43a927d8c035",
   "metadata": {},
   "outputs": [],
   "source": [
    "# 读写文件\n",
    "# 加载和保存张量\n",
    "from pathlib import Path\n",
    "save_file = Path(r'../data/temp_save')\n",
    "\n",
    "x = torch.arange(4)\n",
    "torch.save(x, save_file.as_posix())"
   ]
  },
  {
   "cell_type": "code",
   "execution_count": 46,
   "id": "47e5fe7b-95c1-49e0-94a3-63d3bd4dba46",
   "metadata": {},
   "outputs": [
    {
     "data": {
      "text/plain": [
       "(tensor([0, 1, 2, 3]), tensor([0., 0., 0., 0.]))"
      ]
     },
     "execution_count": 46,
     "metadata": {},
     "output_type": "execute_result"
    }
   ],
   "source": [
    "y = torch.zeros(4)\n",
    "torch.save([x, y], save_file.as_posix())\n",
    "x2, y2 = torch.load(save_file.as_posix())\n",
    "(x2, y2)"
   ]
  },
  {
   "cell_type": "code",
   "execution_count": 47,
   "id": "0d9b80fb-1e26-4aba-9434-e27054f6ed7c",
   "metadata": {},
   "outputs": [
    {
     "data": {
      "text/plain": [
       "{'x': tensor([0, 1, 2, 3]), 'y': tensor([0., 0., 0., 0.])}"
      ]
     },
     "execution_count": 47,
     "metadata": {},
     "output_type": "execute_result"
    }
   ],
   "source": [
    "mydict = {'x': x, 'y': y}\n",
    "torch.save(mydict, save_file.as_posix())\n",
    "mydict2 = torch.load(save_file.as_posix())\n",
    "mydict2"
   ]
  },
  {
   "cell_type": "code",
   "execution_count": 48,
   "id": "14564915-204a-40d2-97e5-1cc629a44e3e",
   "metadata": {},
   "outputs": [],
   "source": [
    "# 加载和保存模型参数\n",
    "\n",
    "class MLP(nn.Module):\n",
    "    def __init__(self):\n",
    "        super().__init__()\n",
    "        self.hidden = nn.Linear(20, 256)\n",
    "        self.output = nn.Linear(256, 10)\n",
    "\n",
    "    def forward(self, x):\n",
    "        return self.output(F.relu(self.hidden(x)))\n",
    "\n",
    "net = MLP()\n",
    "X = torch.randn(size=(2, 20))\n",
    "Y = net(X)"
   ]
  },
  {
   "cell_type": "code",
   "execution_count": 49,
   "id": "3a1bc387-f844-47f3-9771-2bd9f9a681ab",
   "metadata": {},
   "outputs": [],
   "source": [
    "torch.save(net.state_dict(), save_file.as_posix())"
   ]
  },
  {
   "cell_type": "code",
   "execution_count": 54,
   "id": "bcead39b-6544-4029-b47e-a8feea70c0e7",
   "metadata": {},
   "outputs": [
    {
     "data": {
      "text/plain": [
       "MLP(\n",
       "  (hidden): Linear(in_features=20, out_features=256, bias=True)\n",
       "  (output): Linear(in_features=256, out_features=10, bias=True)\n",
       ")"
      ]
     },
     "execution_count": 54,
     "metadata": {},
     "output_type": "execute_result"
    }
   ],
   "source": [
    "# 加载模型参数state_dict\n",
    "clone_MLP = MLP()\n",
    "clone_MLP.load_state_dict(torch.load(save_file.as_posix()))\n",
    "clone_MLP.eval()"
   ]
  },
  {
   "cell_type": "code",
   "execution_count": 55,
   "id": "5d77e82b-3372-46a0-87b8-b72d1511c193",
   "metadata": {},
   "outputs": [
    {
     "data": {
      "text/plain": [
       "tensor([[True, True, True, True, True, True, True, True, True, True],\n",
       "        [True, True, True, True, True, True, True, True, True, True]])"
      ]
     },
     "execution_count": 55,
     "metadata": {},
     "output_type": "execute_result"
    }
   ],
   "source": [
    "Y_clone = clone_MLP(X)\n",
    "Y_clone == Y"
   ]
  },
  {
   "cell_type": "code",
   "execution_count": null,
   "id": "41e95629-68e4-47e9-8c1a-0bac0688a31e",
   "metadata": {},
   "outputs": [],
   "source": []
  }
 ],
 "metadata": {
  "kernelspec": {
   "display_name": "Python 3 (ipykernel)",
   "language": "python",
   "name": "python3"
  },
  "language_info": {
   "codemirror_mode": {
    "name": "ipython",
    "version": 3
   },
   "file_extension": ".py",
   "mimetype": "text/x-python",
   "name": "python",
   "nbconvert_exporter": "python",
   "pygments_lexer": "ipython3",
   "version": "3.9.4"
  }
 },
 "nbformat": 4,
 "nbformat_minor": 5
}
